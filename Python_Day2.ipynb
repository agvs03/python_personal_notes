{
  "nbformat": 4,
  "nbformat_minor": 5,
  "metadata": {
    "kernelspec": {
      "display_name": "Python 3",
      "language": "python",
      "name": "python3"
    },
    "language_info": {
      "codemirror_mode": {
        "name": "ipython",
        "version": 3
      },
      "file_extension": ".py",
      "mimetype": "text/x-python",
      "name": "python",
      "nbconvert_exporter": "python",
      "pygments_lexer": "ipython3",
      "version": "3.7.8"
    },
    "colab": {
      "name": "Python Day2.ipynb",
      "provenance": []
    }
  },
  "cells": [
    {
      "cell_type": "code",
      "metadata": {
        "id": "fPrHd5trnyA9"
      },
      "source": [
        "Day - 2:\n",
        "    Ajenda:\n",
        "        1. Iterative Statements\n",
        "        2. Jumping statements\n",
        "        3. Numbers\n",
        "        4. Strings\n",
        "        5. List"
      ],
      "id": "fPrHd5trnyA9",
      "execution_count": null,
      "outputs": []
    },
    {
      "cell_type": "code",
      "metadata": {
        "id": "OpGc4nplnyBG"
      },
      "source": [
        "1. Iterative Statements: The numbers of statements can be executed number of time(s) based on a condition value\n",
        "    1. while and while else\n",
        "    2. for and for else [Working with collection]"
      ],
      "id": "OpGc4nplnyBG",
      "execution_count": null,
      "outputs": []
    },
    {
      "cell_type": "code",
      "metadata": {
        "id": "Zu9iF1xWnyBI",
        "outputId": "e0aead27-c64a-4c87-9a34-b5bb78abc894"
      },
      "source": [
        "'''\n",
        "    while:\n",
        "        Syntax:\n",
        "            initialization -> Will executes only one time\n",
        "            while expression:\n",
        "                statements\n",
        "                updateValue\n",
        "'''\n",
        "i = 1\n",
        "while i<=10:\n",
        "    print(\"CCC Python Training\")\n",
        "    i = i+1 # i += 1"
      ],
      "id": "Zu9iF1xWnyBI",
      "execution_count": null,
      "outputs": [
        {
          "name": "stdout",
          "output_type": "stream",
          "text": "CCC Python Training\nCCC Python Training\nCCC Python Training\nCCC Python Training\nCCC Python Training\nCCC Python Training\nCCC Python Training\nCCC Python Training\nCCC Python Training\nCCC Python Training\n"
        }
      ]
    },
    {
      "cell_type": "code",
      "metadata": {
        "id": "YxdHTM96nyBQ",
        "outputId": "115f4a8d-46ea-44f6-eae3-9be13ab8bfb1"
      },
      "source": [
        "#Multiplication table\n",
        "number = int(input(\"Enter a number:\")) \n",
        "i = 1 #Initialization\n",
        "while i<=10:\n",
        "    print(number,\"*\",i,\"=\",number*i)\n",
        "    i += 1"
      ],
      "id": "YxdHTM96nyBQ",
      "execution_count": null,
      "outputs": [
        {
          "name": "stdin",
          "output_type": "stream",
          "text": "Enter a number: 15\n"
        },
        {
          "name": "stdout",
          "output_type": "stream",
          "text": "15 * 1 = 15\n15 * 2 = 30\n15 * 3 = 45\n15 * 4 = 60\n15 * 5 = 75\n15 * 6 = 90\n15 * 7 = 105\n15 * 8 = 120\n15 * 9 = 135\n15 * 10 = 150\n"
        }
      ]
    },
    {
      "cell_type": "code",
      "metadata": {
        "id": "c7w-SzzQnyBS",
        "outputId": "5aae1d03-f3f8-4171-e986-d68910ee2a8f"
      },
      "source": [
        "'''\n",
        "    while else:\n",
        "        Initialization\n",
        "        while expression:\n",
        "            statements1\n",
        "            updattionOfValue\n",
        "        else:\n",
        "            statements2\n",
        "    Note: statements1 will be executed until expression value becomes true, Whenever expression value is false then statements2 will be \n",
        "    executed for only one time\n",
        "'''\n",
        "i = 1\n",
        "while i<5: #1<5[T], 2<5[T], 3<5[T], 4<5[T], 5<5[False]\n",
        "    print(\"value of i is:\",i)\n",
        "    i += 1\n",
        "else:\n",
        "    print(\"Value of i reaches to:\",i)"
      ],
      "id": "c7w-SzzQnyBS",
      "execution_count": null,
      "outputs": [
        {
          "name": "stdout",
          "output_type": "stream",
          "text": "value of i is: 1\nvalue of i is: 2\nvalue of i is: 3\nvalue of i is: 4\nValue of i reaches to: 5\n"
        }
      ]
    },
    {
      "cell_type": "code",
      "metadata": {
        "id": "kaseicRUnyBT",
        "outputId": "7453ab8e-eb82-4311-a89c-b967ef7b72a0"
      },
      "source": [
        "'''\n",
        "    for loop: Extract data from collection(s), we can use for loop\n",
        "    SYntax:\n",
        "        for variable in Collection:\n",
        "            statements\n",
        "    \n",
        "    range(start,stop,step)\n",
        "        start: From which number you want to start\n",
        "        stop: Before which number you want to stop\n",
        "        step: what is the updation value [By defualt : 1]\n",
        "'''\n",
        "for i in range(10):\n",
        "    print(i,end=\" \")\n",
        "print()\n",
        "for i in range(1,10):\n",
        "    print(i,end=\" \")\n",
        "print()\n",
        "for i in range(1,10,2): #for(int i=1;i<10;i+=2) in c language\n",
        "    print(i,end=\" \")"
      ],
      "id": "kaseicRUnyBT",
      "execution_count": null,
      "outputs": [
        {
          "name": "stdout",
          "output_type": "stream",
          "text": "0 1 2 3 4 5 6 7 8 9 \n1 2 3 4 5 6 7 8 9 \n1 3 5 7 9 "
        }
      ]
    },
    {
      "cell_type": "code",
      "metadata": {
        "id": "BS3wB4NAnyBV",
        "outputId": "3a354c52-551c-43f3-8314-960be0e6eda7"
      },
      "source": [
        "#Print multiples of 13\n",
        "for i in range(13,131,13):\n",
        "    print(i,end=\" \")"
      ],
      "id": "BS3wB4NAnyBV",
      "execution_count": null,
      "outputs": [
        {
          "name": "stdout",
          "output_type": "stream",
          "text": "13 26 39 52 65 78 91 104 117 130 "
        }
      ]
    },
    {
      "cell_type": "code",
      "metadata": {
        "id": "iM2ulFMWnyBk",
        "outputId": "faf440fb-7392-4313-dc3e-4ab7f54df4cc"
      },
      "source": [
        "#print each charcter in string\n",
        "'''\n",
        "    Input: Jeevan\n",
        "    x -> J\n",
        "    Updation: e, e, v, a, n\n",
        "'''\n",
        "for x in \"Jeevan\":\n",
        "    print(x)"
      ],
      "id": "iM2ulFMWnyBk",
      "execution_count": null,
      "outputs": [
        {
          "name": "stdout",
          "output_type": "stream",
          "text": "J\ne\ne\nv\na\nn\n"
        }
      ]
    },
    {
      "cell_type": "code",
      "metadata": {
        "id": "aU_ApWyPnyBn",
        "outputId": "bcced332-d735-44cd-86be-1b4d537fc0f7"
      },
      "source": [
        "'''\n",
        "    for else:\n",
        "        Syntax:\n",
        "            for variable in Collection:\n",
        "                statements1\n",
        "            else:\n",
        "                statements2\n",
        "    Note: If variable is not pointing any of the collection data then statements2 will be executed, Otherwise statements1 will \n",
        "    be executed\n",
        "'''\n",
        "for x in range(2,10):\n",
        "    print(\"value of x is:\",x)\n",
        "else:\n",
        "    print(\"value of x reaches to:\",x)"
      ],
      "id": "aU_ApWyPnyBn",
      "execution_count": null,
      "outputs": [
        {
          "name": "stdout",
          "output_type": "stream",
          "text": "value of x is: 2\nvalue of x is: 3\nvalue of x is: 4\nvalue of x is: 5\nvalue of x is: 6\nvalue of x is: 7\nvalue of x is: 8\nvalue of x is: 9\nvalue of x reaches to: 9\n"
        }
      ]
    },
    {
      "cell_type": "code",
      "metadata": {
        "id": "WctfAn7EnyBq"
      },
      "source": [
        "2. Jumping statements:\n",
        "    1. break: Used to come out from loop [**Only one loop]\n",
        "    2. continue: Used to skip the next execution [Skips only one execution]\n",
        "    3. pass: It is an empty statement [There is no use of it]"
      ],
      "id": "WctfAn7EnyBq",
      "execution_count": null,
      "outputs": []
    },
    {
      "cell_type": "code",
      "metadata": {
        "id": "sxgdx2EOnyBs",
        "outputId": "f799d7b4-62f2-4529-fc78-08b05237bd26"
      },
      "source": [
        "#Print number from 1 to 100, but whenever value reaches to 45 then stop printing\n",
        "for i in range(1,100):\n",
        "    if(i==45):\n",
        "        break\n",
        "    print(i,end=\" \")"
      ],
      "id": "sxgdx2EOnyBs",
      "execution_count": null,
      "outputs": [
        {
          "name": "stdout",
          "output_type": "stream",
          "text": "1 2 3 4 5 6 7 8 9 10 11 12 13 14 15 16 17 18 19 20 21 22 23 24 25 26 27 28 29 30 31 32 33 34 35 36 37 38 39 40 41 42 43 44 "
        }
      ]
    },
    {
      "cell_type": "code",
      "metadata": {
        "id": "rB3UmgAonyBu",
        "outputId": "4584534b-760d-489a-f08d-00ab6d8b73f8"
      },
      "source": [
        "#print number from 1 - 100, but dont print the multiple of 5\n",
        "for i in range(1,100):\n",
        "    if i%5==0:\n",
        "        continue\n",
        "    print(i,end=\" \")"
      ],
      "id": "rB3UmgAonyBu",
      "execution_count": null,
      "outputs": [
        {
          "name": "stdout",
          "output_type": "stream",
          "text": "1 2 3 4 6 7 8 9 11 12 13 14 16 17 18 19 21 22 23 24 26 27 28 29 31 32 33 34 36 37 38 39 41 42 43 44 46 47 48 49 51 52 53 54 56 57 58 59 61 62 63 64 66 67 68 69 71 72 73 74 76 77 78 79 81 82 83 84 86 87 88 89 91 92 93 94 96 97 98 99 "
        }
      ]
    },
    {
      "cell_type": "code",
      "metadata": {
        "id": "eC9XSdWVnyB7",
        "outputId": "20da74ae-72a2-4308-ce13-c517983db56c"
      },
      "source": [
        "i = 1\n",
        "while i<=100:\n",
        "    if i%5==0:\n",
        "        continue\n",
        "    print(i,end=\" \")\n",
        "    i += 1"
      ],
      "id": "eC9XSdWVnyB7",
      "execution_count": null,
      "outputs": [
        {
          "name": "stdout",
          "output_type": "stream",
          "text": "1 2 3 4 "
        }
      ]
    },
    {
      "cell_type": "code",
      "metadata": {
        "id": "aHs0ZkwZnyB8",
        "outputId": "4a51d6a0-2d46-41c7-8b5a-771c8b6f5ccf"
      },
      "source": [
        "#Pass: Used to not to do anything\n",
        "for i in range(10):\n",
        "    if i%2==0:\n",
        "        print(i)\n",
        "    else:\n",
        "        pass #Empty statement => in C lanugage an empty statement is ;"
      ],
      "id": "aHs0ZkwZnyB8",
      "execution_count": null,
      "outputs": [
        {
          "name": "stdout",
          "output_type": "stream",
          "text": "0\n2\n4\n6\n8\n"
        }
      ]
    },
    {
      "cell_type": "code",
      "metadata": {
        "id": "HP1pV_IsnyB8",
        "outputId": "df850d2b-c745-4454-9bbb-62d7c2b78fe4"
      },
      "source": [
        "'''\n",
        "    Print even numbers until reaches to first odd number\n",
        "'''\n",
        "coll = [int(x) for x in input(\"Enter even numbers and only one odd number:\").split()]\n",
        "for i in coll:\n",
        "    if i%2==1:\n",
        "        print(i)\n",
        "        break\n",
        "    else:\n",
        "        print(\"Even Number\")"
      ],
      "id": "HP1pV_IsnyB8",
      "execution_count": null,
      "outputs": [
        {
          "name": "stdin",
          "output_type": "stream",
          "text": "Enter even numbers and only one odd number: 10 11 15 14 752 3 6\n"
        },
        {
          "name": "stdout",
          "output_type": "stream",
          "text": "Even Number\n11\n"
        }
      ]
    },
    {
      "cell_type": "code",
      "metadata": {
        "id": "8PQSM3AnnyB-",
        "outputId": "7739a783-74f7-4226-c1b2-86f77074db5c"
      },
      "source": [
        "\"Jeevan \" * 5"
      ],
      "id": "8PQSM3AnnyB-",
      "execution_count": null,
      "outputs": [
        {
          "execution_count": 18,
          "output_type": "execute_result",
          "data": {
            "text/plain": "'Jeevan Jeevan Jeevan Jeevan Jeevan '"
          },
          "metadata": {}
        }
      ]
    },
    {
      "cell_type": "code",
      "metadata": {
        "id": "JQYBxVr1nyCE",
        "outputId": "086eb7a8-2348-4508-a388-01644d5da6e4"
      },
      "source": [
        "'''\n",
        "    Input : NUmber of lines\n",
        "    1\n",
        "    22\n",
        "    333\n",
        "    4444\n",
        "    55555\n",
        "'''\n",
        "for i in range(1,int(input(\"Enter number of lines:\"))+1):\n",
        "    for j in range(1,i+1):\n",
        "        print(i,end=\"\")\n",
        "    print()\n",
        "#NOte: Dont transform C language code into python language"
      ],
      "id": "JQYBxVr1nyCE",
      "execution_count": null,
      "outputs": [
        {
          "name": "stdin",
          "output_type": "stream",
          "text": "Enter number of lines: 9\n"
        },
        {
          "name": "stdout",
          "output_type": "stream",
          "text": "1\n22\n333\n4444\n55555\n666666\n7777777\n88888888\n999999999\n"
        }
      ]
    },
    {
      "cell_type": "code",
      "metadata": {
        "id": "8d9U6lchnyCF",
        "outputId": "73bb258e-c276-4053-e756-5aea7726265f"
      },
      "source": [
        "for i in range(1,int(input(\"Enter number of lines:\"))+1):\n",
        "    print(str(i)*i)"
      ],
      "id": "8d9U6lchnyCF",
      "execution_count": null,
      "outputs": [
        {
          "name": "stdin",
          "output_type": "stream",
          "text": "Enter number of lines: 5\n"
        },
        {
          "name": "stdout",
          "output_type": "stream",
          "text": "1\n22\n333\n4444\n55555\n"
        }
      ]
    },
    {
      "cell_type": "code",
      "metadata": {
        "id": "DQvcywgmnyCG",
        "outputId": "f107f7e5-66f2-4b8d-a5b4-a5fcf64a5b0d"
      },
      "source": [
        "'''\n",
        "    *\n",
        "    **\n",
        "    ***\n",
        "    ****\n",
        "    *****\n",
        "    ****\n",
        "    ***\n",
        "    **\n",
        "    *\n",
        "'''\n",
        "n = int(input(\"Enter a number:\"))\n",
        "for i in range(1,n+1):\n",
        "    print('*' * i)\n",
        "for i in range(n-1,0,-1): #for(int i=n-1;i>0;i--)\n",
        "    print('*' * i)"
      ],
      "id": "DQvcywgmnyCG",
      "execution_count": null,
      "outputs": [
        {
          "name": "stdin",
          "output_type": "stream",
          "text": "Enter a number: 5\n"
        },
        {
          "name": "stdout",
          "output_type": "stream",
          "text": "*\n**\n***\n****\n*****\n****\n***\n**\n*\n"
        }
      ]
    },
    {
      "cell_type": "code",
      "metadata": {
        "id": "fadJpK5OnyCN"
      },
      "source": [
        "Numbers in python:\n",
        "    1. Python supports following numbers\n",
        "        1. Integers -> int()\n",
        "        2. Floating-point number -> float()\n",
        "        3. Complex number -> complex()"
      ],
      "id": "fadJpK5OnyCN",
      "execution_count": null,
      "outputs": []
    },
    {
      "cell_type": "code",
      "metadata": {
        "id": "cb2z-BFKnyCO",
        "outputId": "a733d77e-ffe2-49f5-da9d-65283b637ee9"
      },
      "source": [
        "'''\n",
        "    Integers:\n",
        "        1. There is no minimum range and maximum range in python integers \n",
        "        2. Formats:\n",
        "            Another base to integer\n",
        "            int(\"Number in string format\",base)\n",
        "                1010 base:2 => DEcimal: 1*2**1 + 1*2**3 = 1*2 + 1*8 = 1+8 = 9\n",
        "                1010 base:3 => Decimal: 1*3**1 + 1*3**3 = 1*3 + 1*27 = 3 + 27 = 30\n",
        "        3. Useful functions:\n",
        "            Integer to another base\n",
        "            integer -> binary\n",
        "            integer -> octal\n",
        "            integer -> hexadecimal\n",
        "            integr -> String\n",
        "'''\n",
        "x = -465132463161536345876816375645346354651467586371564533463451237565431322575613557415633\n",
        "print(x)\n",
        "x = 64134651341336137165571624231455351726615453175578186571472513554617256073556345134325436176715546153543617562416557146271632715665715321667581372\n",
        "print(x)\n",
        "print(int('100',2))\n",
        "print(int('100',3))\n",
        "print(int('101',5))\n",
        "print(int('100',10))\n",
        "\n",
        "print(bin(100)) #Base is 2\n",
        "print(oct(100)) #Base is 8\n",
        "print(hex(100)) #Base is 16\n",
        "print(str(100))"
      ],
      "id": "cb2z-BFKnyCO",
      "execution_count": null,
      "outputs": [
        {
          "name": "stdout",
          "output_type": "stream",
          "text": "-465132463161536345876816375645346354651467586371564533463451237565431322575613557415633\n64134651341336137165571624231455351726615453175578186571472513554617256073556345134325436176715546153543617562416557146271632715665715321667581372\n4\n9\n26\n100\n0b1100100\n0o144\n0x64\n100\n"
        }
      ]
    },
    {
      "cell_type": "code",
      "metadata": {
        "id": "i0FPf0B6nyCS",
        "outputId": "8cdf8284-e975-48ad-bff9-5b74e07daf59"
      },
      "source": [
        "'''\n",
        "    Float:\n",
        "        1. By default floating-point data is double precision [After decimal 15 places will be printed]\n",
        "'''\n",
        "f = 5.846513\n",
        "print(f)\n",
        "f = -8465312.6453126451326513256312\n",
        "print(f)\n",
        "\n",
        "f = float('8465132613.4132846513264132')\n",
        "print(f)"
      ],
      "id": "i0FPf0B6nyCS",
      "execution_count": null,
      "outputs": [
        {
          "name": "stdout",
          "output_type": "stream",
          "text": "5.846513\n-8465312.645312645\n8465132613.413284\n"
        }
      ]
    },
    {
      "cell_type": "code",
      "metadata": {
        "id": "UaOEWq4AnyCV",
        "outputId": "c2799b04-c4ec-4485-f5d8-8508f01c0bde"
      },
      "source": [
        "'''\n",
        "    Compelx:\n",
        "        1. Can be formed with real number and imaginary part\n",
        "        Eg: 5+6j\n",
        "'''\n",
        "print(10+(52+6j)+98.65)"
      ],
      "id": "UaOEWq4AnyCV",
      "execution_count": null,
      "outputs": [
        {
          "name": "stdout",
          "output_type": "stream",
          "text": "(160.65+6j)\n"
        }
      ]
    },
    {
      "cell_type": "code",
      "metadata": {
        "id": "kIobkZvDnyCg",
        "outputId": "f4573531-08cc-49cd-e434-b6b22ac544f2"
      },
      "source": [
        "print(10+5j * 2+6j)\n",
        "print((10+5j) * (2+6j))#20+60j+10j+30(-1)"
      ],
      "id": "kIobkZvDnyCg",
      "execution_count": null,
      "outputs": [
        {
          "name": "stdout",
          "output_type": "stream",
          "text": "(10+16j)\n(-10+70j)\n"
        }
      ]
    },
    {
      "cell_type": "code",
      "metadata": {
        "id": "TFu9slrInyCk",
        "outputId": "c960d67e-7201-4e01-a9c4-85d66597734d"
      },
      "source": [
        "c1 = complex(input(\"Enter a complex number:\"))\n",
        "c2 = complex(input(\"Enter a complex number:\"))\n",
        "print(c1 * c2)"
      ],
      "id": "TFu9slrInyCk",
      "execution_count": null,
      "outputs": [
        {
          "name": "stdin",
          "output_type": "stream",
          "text": "Enter a complex number: 10+5j\nEnter a complex number: 85+3j\n"
        },
        {
          "name": "stdout",
          "output_type": "stream",
          "text": "(835+455j)\n"
        }
      ]
    },
    {
      "cell_type": "code",
      "metadata": {
        "id": "rAeIf8YTnyCl"
      },
      "source": [
        "Strings:\n",
        "    1. Def: Sequence of charcters is known as string \n",
        "    2. How to declare / read string into python:\n",
        "        1. using single quotes : Can be used to read data in single line\n",
        "        2. using double quotes : Can be used to read data in single line\n",
        "        3. using triple quotes : Can be used to read data in multiple line [Multiline input]\n",
        "        4. using input() : Used to read input from usee\n",
        "        5. using str() : Used to convert other types into string\n",
        "    3. How to access content of string:\n",
        "        1. The content [single character] of srting could be accessed by using index [Indexing]\n",
        "            1. index starts from 0 and ending with total Number of characters in srting - 1 [+ve]\n",
        "                1. How to know the total Number of characters in srting\n",
        "                    -> Use predefine function known as len()\n",
        "                        Syntax: len(StringName)\n",
        "            2. We can do following ways to extract the content of string:\n",
        "                1. Positive indexing: Reads from left to right\n",
        "                    Eg: S = \"HELLO\"\n",
        "                        0:H 1:E 2:L 3:L 4:O\n",
        "                2. Negative indexing: Reads from right to left\n",
        "                    Eg: S = \"HELLO\"\n",
        "                        -5:H -4:E -3:L -2:L -1:O\n",
        "                    **Note: Index value what you are using that must be within the range of index value [0 -> len-1],\n",
        "                        Otherwise an IndexError will be produced\n",
        "        2. The content / group of characters also accessed by using indexing, but its known as slicing [Extracting sub-string]:\n",
        "                1. Positive slicing\n",
        "                2. Negative slicing\n",
        "                Syntax:\n",
        "                    stringName[startIndex:endIndex:counterValue]\n",
        "                    startIndex: From which index onwards you want to extract\n",
        "                    endIndex: Before which index you wants to stop extracting\n",
        "                    counterValue: Which one to read next [By default 1]\n",
        "                    1. Note: In case absence of:\n",
        "                            startIndex: By default beginning index\n",
        "                            endIndex: By default ending index\n",
        "                    2. Note: Make sure that startIndex value will be less than endINdex value, if not update counter value with\n",
        "                        negative nunber\n",
        "                    3. Note: Indexex must be valid\n",
        "    4. **Strings are immutable, means once you assign data that cannot modified.\n",
        "    5. Operations:\n",
        "        1. Multiplication\n",
        "        2. Concatenation\n",
        "        3. length\n",
        "        4. enumerate ...etc\n",
        "    6. Builtin functions supported by python:\n",
        "        1. No need to remember built-in / user-defined functions in python\n",
        "        2. Python providing you an environment to know the list of methods of predefined / user-defined class\n",
        "        3. String class is str\n",
        "        4. **How to know the list of methods supported by str class:\n",
        "            SYntax:\n",
        "                dir(stringClass/stringCLassObject)\n",
        "                Eg: dir(str)\n",
        "                    s = \"Jeevan\"\n",
        "                    dir(s)\n",
        "        5. **How to know the syntax of methods:\n",
        "            Syntax:\n",
        "                help(className.methodName)                    "
      ],
      "id": "rAeIf8YTnyCl",
      "execution_count": null,
      "outputs": []
    },
    {
      "cell_type": "code",
      "metadata": {
        "id": "NkxVbpE2nyCn",
        "outputId": "ac41d74b-3146-4611-be3e-9f49ae2e6209"
      },
      "source": [
        "s1 = 'Jeevan Kumar'\n",
        "print(s1,type(s1))\n",
        "s2 = \"Corporate Trainer\"\n",
        "print(s2,type(s2))\n",
        "s3 = '''Jeevan Kumar,\n",
        "Corporate Trainer,\n",
        "Campus Corporate Connect,\n",
        "Hyderbad'''\n",
        "print(s3,type(s3))\n",
        "s3"
      ],
      "id": "NkxVbpE2nyCn",
      "execution_count": null,
      "outputs": [
        {
          "name": "stdout",
          "output_type": "stream",
          "text": "Jeevan Kumar <class 'str'>\nCorporate Trainer <class 'str'>\nJeevan Kumar,\nCorporate Trainer,\nCampus Corporate Connect,\nHyderbad <class 'str'>\n"
        },
        {
          "execution_count": 44,
          "output_type": "execute_result",
          "data": {
            "text/plain": "'Jeevan Kumar,\\nCorporate Trainer,\\nCampus Corporate Connect,\\nHyderbad'"
          },
          "metadata": {}
        }
      ]
    },
    {
      "cell_type": "code",
      "metadata": {
        "id": "aO9t2jWgnyCn",
        "outputId": "782985d4-c73b-473a-a2d5-65a4a4781756"
      },
      "source": [
        "print(len(s1))\n",
        "print(len(s2))\n",
        "print(len(s3))"
      ],
      "id": "aO9t2jWgnyCn",
      "execution_count": null,
      "outputs": [
        {
          "name": "stdout",
          "output_type": "stream",
          "text": "12\n17\n67\n"
        }
      ]
    },
    {
      "cell_type": "code",
      "metadata": {
        "id": "2fWhXLP7nyCo",
        "outputId": "78d15215-ede4-4c1a-d1a2-3e23f140270a"
      },
      "source": [
        "print(s2)\n",
        "for x in enumerate(s2):\n",
        "    print(x,end=\",\")"
      ],
      "id": "2fWhXLP7nyCo",
      "execution_count": null,
      "outputs": [
        {
          "name": "stdout",
          "output_type": "stream",
          "text": "Corporate Trainer\n(0, 'C'),(1, 'o'),(2, 'r'),(3, 'p'),(4, 'o'),(5, 'r'),(6, 'a'),(7, 't'),(8, 'e'),(9, ' '),(10, 'T'),(11, 'r'),(12, 'a'),(13, 'i'),(14, 'n'),(15, 'e'),(16, 'r'),"
        }
      ]
    },
    {
      "cell_type": "code",
      "metadata": {
        "id": "0g-XS-XlnyCp",
        "outputId": "468a07ac-17cc-4e47-ed87-fecd4bc71d9b"
      },
      "source": [
        "print(s2[7])\n",
        "print(s2[15])"
      ],
      "id": "0g-XS-XlnyCp",
      "execution_count": null,
      "outputs": [
        {
          "name": "stdout",
          "output_type": "stream",
          "text": "t\ne\n"
        }
      ]
    },
    {
      "cell_type": "code",
      "metadata": {
        "id": "19Ga3wzQnyCp",
        "outputId": "78ac0e39-fc8c-495f-fd08-4132a77ec1d9"
      },
      "source": [
        "print(s2[20])"
      ],
      "id": "19Ga3wzQnyCp",
      "execution_count": null,
      "outputs": [
        {
          "ename": "IndexError",
          "evalue": "string index out of range",
          "output_type": "error",
          "traceback": [
            "\u001b[0;31m---------------------------------------------------------------------------\u001b[0m",
            "\u001b[0;31mIndexError\u001b[0m                                Traceback (most recent call last)",
            "\u001b[0;32m<ipython-input-59-e1b733d523da>\u001b[0m in \u001b[0;36m<module>\u001b[0;34m\u001b[0m\n\u001b[0;32m----> 1\u001b[0;31m \u001b[0mprint\u001b[0m\u001b[0;34m(\u001b[0m\u001b[0ms2\u001b[0m\u001b[0;34m[\u001b[0m\u001b[0;36m20\u001b[0m\u001b[0;34m]\u001b[0m\u001b[0;34m)\u001b[0m\u001b[0;34m\u001b[0m\u001b[0;34m\u001b[0m\u001b[0m\n\u001b[0m",
            "\u001b[0;31mIndexError\u001b[0m: string index out of range"
          ]
        }
      ]
    },
    {
      "cell_type": "code",
      "metadata": {
        "id": "8Nu4Qn0nnyCr",
        "outputId": "32305b96-1754-4404-a7ea-3884a36e630c"
      },
      "source": [
        "for x in enumerate(s2,-len(s2)):\n",
        "    print(x,end=\",\")"
      ],
      "id": "8Nu4Qn0nnyCr",
      "execution_count": null,
      "outputs": [
        {
          "name": "stdout",
          "output_type": "stream",
          "text": "(-17, 'C'),(-16, 'o'),(-15, 'r'),(-14, 'p'),(-13, 'o'),(-12, 'r'),(-11, 'a'),(-10, 't'),(-9, 'e'),(-8, ' '),(-7, 'T'),(-6, 'r'),(-5, 'a'),(-4, 'i'),(-3, 'n'),(-2, 'e'),(-1, 'r'),"
        }
      ]
    },
    {
      "cell_type": "code",
      "metadata": {
        "id": "Pdo9-YXUnyCt",
        "outputId": "94e2a5b7-f6f6-4c4e-deee-c982f8caa160"
      },
      "source": [
        "print(s2[-14])"
      ],
      "id": "Pdo9-YXUnyCt",
      "execution_count": null,
      "outputs": [
        {
          "name": "stdout",
          "output_type": "stream",
          "text": "p\n"
        }
      ]
    },
    {
      "cell_type": "code",
      "metadata": {
        "id": "nT66yaMtnyCu",
        "outputId": "19ee1751-6883-4c1f-c37d-09ce0a52c8a4"
      },
      "source": [
        "print(s2)\n",
        "for x in enumerate(s2):\n",
        "    print(x,end=\",\")"
      ],
      "id": "nT66yaMtnyCu",
      "execution_count": null,
      "outputs": [
        {
          "name": "stdout",
          "output_type": "stream",
          "text": "Corporate Trainer\n(0, 'C'),(1, 'o'),(2, 'r'),(3, 'p'),(4, 'o'),(5, 'r'),(6, 'a'),(7, 't'),(8, 'e'),(9, ' '),(10, 'T'),(11, 'r'),(12, 'a'),(13, 'i'),(14, 'n'),(15, 'e'),(16, 'r'),"
        }
      ]
    },
    {
      "cell_type": "code",
      "metadata": {
        "id": "mqpebKR0nyCu",
        "outputId": "41b51465-6ec6-4211-fbec-7dfa488ab958"
      },
      "source": [
        "print(s2[::])#Start printing from beginning to ending\n",
        "print(s2[::2]) #Prints every alternative character\n",
        "print(s2[::4])#Prints every fourth character of first charcter\n",
        "print(s2[2:6]) #Total : EndIndex - startIndex = 6-2 = 4\n",
        "print(s2[8:3]) #Prints nothing\n",
        "print(s2[8:3:-1]) #Prints data in reverse order from 8 to 4\n",
        "print(s2[::-1]) #Prints data in reverse order [String reverse]"
      ],
      "id": "mqpebKR0nyCu",
      "execution_count": null,
      "outputs": [
        {
          "name": "stdout",
          "output_type": "stream",
          "text": "Corporate Trainer\nCroaeTanr\nCoear\nrpor\n\netaro\nreniarT etaroproC\n"
        }
      ]
    },
    {
      "cell_type": "code",
      "metadata": {
        "id": "PDBSsPMJnyCv",
        "outputId": "891daa5c-ca6b-4723-b9f2-10f92fa34c7c"
      },
      "source": [
        "#Identify the given string is palindrome or not\n",
        "s = input(\"Enter string:\")\n",
        "print(s,\"is palindrome\") if s == s[::-1] else print(s,\"is not a palindrome\")"
      ],
      "id": "PDBSsPMJnyCv",
      "execution_count": null,
      "outputs": [
        {
          "name": "stdin",
          "output_type": "stream",
          "text": "Enter string: madam\n"
        },
        {
          "name": "stdout",
          "output_type": "stream",
          "text": "madam is palindrome\n"
        }
      ]
    },
    {
      "cell_type": "code",
      "metadata": {
        "id": "7l7NNwL9nyCw",
        "outputId": "989c3217-dfd1-4386-fe0d-d4c4a009ba37"
      },
      "source": [
        "print(s2)\n",
        "for x in enumerate(s2,-len(s2)):\n",
        "    print(x,end=\",\")"
      ],
      "id": "7l7NNwL9nyCw",
      "execution_count": null,
      "outputs": [
        {
          "name": "stdout",
          "output_type": "stream",
          "text": "Corporate Trainer\n(-17, 'C'),(-16, 'o'),(-15, 'r'),(-14, 'p'),(-13, 'o'),(-12, 'r'),(-11, 'a'),(-10, 't'),(-9, 'e'),(-8, ' '),(-7, 'T'),(-6, 'r'),(-5, 'a'),(-4, 'i'),(-3, 'n'),(-2, 'e'),(-1, 'r'),"
        }
      ]
    },
    {
      "cell_type": "code",
      "metadata": {
        "id": "9HpMyFjonyC0",
        "outputId": "b920d020-ec30-44ae-a18c-9a7e8bd9a70c"
      },
      "source": [
        "print(s2[-8:-2:])\n",
        "print(s2[-5:-14])\n",
        "print(s2[-5:-14:-1])\n",
        "print(s2[::-2])"
      ],
      "id": "9HpMyFjonyC0",
      "execution_count": null,
      "outputs": [
        {
          "name": "stdout",
          "output_type": "stream",
          "text": " Train\n\narT etaro\nrnaTeaorC\n"
        }
      ]
    },
    {
      "cell_type": "code",
      "metadata": {
        "trusted": true,
        "id": "LytVleUjnyC2",
        "outputId": "1e6ae082-fd88-4d63-de2c-1ef2bec58a9c"
      },
      "source": [
        "s[2] = 'A'"
      ],
      "id": "LytVleUjnyC2",
      "execution_count": null,
      "outputs": [
        {
          "traceback": [
            "\u001b[0;31m---------------------------------------------------------------------------\u001b[0m",
            "\u001b[0;31mTypeError\u001b[0m                                 Traceback (most recent call last)",
            "\u001b[0;32m<ipython-input-80-34ccc321c629>\u001b[0m in \u001b[0;36m<module>\u001b[0;34m\u001b[0m\n\u001b[0;32m----> 1\u001b[0;31m \u001b[0ms\u001b[0m\u001b[0;34m[\u001b[0m\u001b[0;36m2\u001b[0m\u001b[0;34m]\u001b[0m \u001b[0;34m=\u001b[0m \u001b[0;34m'A'\u001b[0m\u001b[0;34m\u001b[0m\u001b[0;34m\u001b[0m\u001b[0m\n\u001b[0m",
            "\u001b[0;31mTypeError\u001b[0m: 'str' object does not support item assignment"
          ],
          "ename": "TypeError",
          "evalue": "'str' object does not support item assignment",
          "output_type": "error"
        }
      ]
    },
    {
      "cell_type": "code",
      "metadata": {
        "trusted": true,
        "id": "uosXM-nrnyC3",
        "outputId": "60e4eab9-400b-4165-d21f-7202f5a5442f"
      },
      "source": [
        "print(\"Jeevan \" + \" Kumar\")\n",
        "print(\"Jeevan \" * 5)"
      ],
      "id": "uosXM-nrnyC3",
      "execution_count": null,
      "outputs": [
        {
          "name": "stdout",
          "text": "Jeevan  Kumar\nJeevan Jeevan Jeevan Jeevan Jeevan \n",
          "output_type": "stream"
        }
      ]
    },
    {
      "cell_type": "code",
      "metadata": {
        "trusted": true,
        "id": "kqwEECIYnyC4",
        "outputId": "cd78ecfe-ba2b-4155-aa5b-921f3b3d85f7"
      },
      "source": [
        "print(dir(str))"
      ],
      "id": "kqwEECIYnyC4",
      "execution_count": null,
      "outputs": [
        {
          "name": "stdout",
          "text": "['__add__', '__class__', '__contains__', '__delattr__', '__dir__', '__doc__', '__eq__', '__format__', '__ge__', '__getattribute__', '__getitem__', '__getnewargs__', '__gt__', '__hash__', '__init__', '__init_subclass__', '__iter__', '__le__', '__len__', '__lt__', '__mod__', '__mul__', '__ne__', '__new__', '__reduce__', '__reduce_ex__', '__repr__', '__rmod__', '__rmul__', '__setattr__', '__sizeof__', '__str__', '__subclasshook__', 'capitalize', 'casefold', 'center', 'count', 'encode', 'endswith', 'expandtabs', 'find', 'format', 'format_map', 'index', 'isalnum', 'isalpha', 'isascii', 'isdecimal', 'isdigit', 'isidentifier', 'islower', 'isnumeric', 'isprintable', 'isspace', 'istitle', 'isupper', 'join', 'ljust', 'lower', 'lstrip', 'maketrans', 'partition', 'replace', 'rfind', 'rindex', 'rjust', 'rpartition', 'rsplit', 'rstrip', 'split', 'splitlines', 'startswith', 'strip', 'swapcase', 'title', 'translate', 'upper', 'zfill']\n",
          "output_type": "stream"
        }
      ]
    },
    {
      "cell_type": "code",
      "metadata": {
        "trusted": true,
        "id": "wDRRwAk-nyC5",
        "outputId": "67457c9f-949f-4341-c5c2-26dfc1e3cdb4"
      },
      "source": [
        "help(str.capitalize)"
      ],
      "id": "wDRRwAk-nyC5",
      "execution_count": null,
      "outputs": [
        {
          "name": "stdout",
          "text": "Help on method_descriptor:\n\ncapitalize(self, /)\n    Return a capitalized version of the string.\n    \n    More specifically, make the first character have upper case and the rest lower\n    case.\n\n",
          "output_type": "stream"
        }
      ]
    },
    {
      "cell_type": "code",
      "metadata": {
        "trusted": true,
        "id": "rs6sT-RMnyC6",
        "outputId": "761fc18c-fa58-47d4-ece6-b23a3c99270e"
      },
      "source": [
        "#Fromating functions: \n",
        "#capitalize:Makes first character as uppercase, rest are lower case \n",
        "print(\"jEevAN KUMAR\".capitalize())\n",
        "print()\n",
        "\n",
        "#casefold: Will convert all the characters into lowercase [Applied on ASCII and UNICODE also]\n",
        "print(\"jeevankumar\".casefold())\n",
        "print(\"JEEVANKUMAR\".casefold())\n",
        "print(\"JeevanKumar\".casefold())\n",
        "print()\n",
        "\n",
        "#lower: Will convert all the characters into lowercase [Applied only on ASCII characters]\n",
        "print(\"jeevankumar\".lower())\n",
        "print(\"JEEVANKUMAR\".lower())\n",
        "print(\"JeevanKumar\".lower())\n",
        "print()\n",
        "\n",
        "#swapcase: Converts lower case int upper, upper into lower \n",
        "print(\"jeevankumar\".swapcase())\n",
        "print(\"JEEVANKUMAR\".swapcase())\n",
        "print(\"JeevanKumar\".swapcase())\n",
        "print()\n",
        "\n",
        "#title: Makes first charcter of every word in string into uppercase \n",
        "s = \"Makes first charcter of every word in string into uppercase\"\n",
        "print(s.title())\n",
        "print()\n",
        "\n",
        "#upper: Will convert all the characters into upperrcase\n",
        "print(\"jeevankumar\".upper())\n",
        "print(\"JEEVANKUMAR\".upper())\n",
        "print(\"JeevanKumar\".upper())"
      ],
      "id": "rs6sT-RMnyC6",
      "execution_count": null,
      "outputs": [
        {
          "name": "stdout",
          "text": "Jeevan kumar\n\njeevankumar\njeevankumar\njeevankumar\n\njeevankumar\njeevankumar\njeevankumar\n\nJEEVANKUMAR\njeevankumar\njEEVANkUMAR\n\nMakes First Charcter Of Every Word In String Into Uppercase\n\nJEEVANKUMAR\nJEEVANKUMAR\nJEEVANKUMAR\n",
          "output_type": "stream"
        }
      ]
    },
    {
      "cell_type": "code",
      "metadata": {
        "trusted": true,
        "id": "-UYvLPvmnyC7",
        "outputId": "1d4d7070-eeb0-487a-f2b7-8bacfc7ae7bb"
      },
      "source": [
        "#Alignment functions: These following functions takes minimum 1 input [Length of output], maximum 2 input [1.length, 2.Charcter]\n",
        "#center: Print string in center alignment\n",
        "print(\"Jeevan\".center(20),\"End\")\n",
        "print(\"Jeevan\".center(20,'~'),\"End\")\n",
        "#ljust: Print string in left alignment\n",
        "print(\"Jeevan\".ljust(20),\"End\")\n",
        "print(\"Jeevan\".ljust(20,'#'),\"End\")\n",
        "#rjust: print string in right alignment\n",
        "print(\"Jeevan\".rjust(20),\"End\")\n",
        "print(\"Jeevan\".rjust(20,'*'),\"End\")"
      ],
      "id": "-UYvLPvmnyC7",
      "execution_count": null,
      "outputs": [
        {
          "name": "stdout",
          "text": "       Jeevan        End\n~~~~~~~Jeevan~~~~~~~ End\nJeevan               End\nJeevan############## End\n              Jeevan End\n**************Jeevan End\n",
          "output_type": "stream"
        }
      ]
    },
    {
      "cell_type": "code",
      "metadata": {
        "trusted": true,
        "id": "aPnfMsdqnyC7",
        "outputId": "4fef5f3c-3430-4e29-fd3a-fff24747379d"
      },
      "source": [
        "print(s2)\n",
        "#COunt: returns number of occurances of given sub-string, if the given string is not avaialable returns 0\n",
        "print(s2.count('o'))\n",
        "print(s2.count(\"or\"))\n",
        "print(s2.count(\"ner\"))\n",
        "print(s2.count('x'))"
      ],
      "id": "aPnfMsdqnyC7",
      "execution_count": null,
      "outputs": [
        {
          "name": "stdout",
          "text": "Corporate Trainer\n2\n2\n1\n0\n",
          "output_type": "stream"
        }
      ]
    },
    {
      "cell_type": "code",
      "metadata": {
        "trusted": true,
        "id": "yNq21b0wnyC7",
        "outputId": "32fb3572-0a1b-4adf-b397-dcf958178d02"
      },
      "source": [
        "#startswith: To know the string starting with any of the given input, Which retunrs True / False\n",
        "print(s2.startswith('x'))\n",
        "print(s2.startswith('COr'))\n",
        "print(s2.startswith('Cor'))\n",
        "\n",
        "#endswith: To know the string is ending with given input, return True / False\n",
        "print(s2.endswith('S'))\n",
        "print(s2.endswith('er'))"
      ],
      "id": "yNq21b0wnyC7",
      "execution_count": null,
      "outputs": [
        {
          "name": "stdout",
          "text": "False\nFalse\nTrue\nFalse\nTrue\n",
          "output_type": "stream"
        }
      ]
    },
    {
      "cell_type": "code",
      "metadata": {
        "trusted": true,
        "id": "Qx_w_Mk1nyC8",
        "outputId": "277de035-af37-4f9c-d9a5-42a56f39868e"
      },
      "source": [
        "#find: Used to know the given sub-string index, Returns index value, if substrin is not available returns -1\n",
        "print(\"Jeevan\".find('an'))\n",
        "print(\"Jeevan\".find(\"E\"))\n",
        "help(str.find)"
      ],
      "id": "Qx_w_Mk1nyC8",
      "execution_count": null,
      "outputs": [
        {
          "name": "stdout",
          "text": "4\n-1\nHelp on method_descriptor:\n\nfind(...)\n    S.find(sub[, start[, end]]) -> int\n    \n    Return the lowest index in S where substring sub is found,\n    such that sub is contained within S[start:end].  Optional\n    arguments start and end are interpreted as in slice notation.\n    \n    Return -1 on failure.\n\n",
          "output_type": "stream"
        }
      ]
    },
    {
      "cell_type": "code",
      "metadata": {
        "trusted": true,
        "id": "sVxp7FzJnyC8",
        "outputId": "6e22df1c-d5c1-4c01-d7e9-0ed0ea2fdab0"
      },
      "source": [
        "#index, rindex\n",
        "print(\"Jeevan\".index('an'))\n",
        "print(\"Jeevan\".index('X'))\n",
        "#NOte: In case of substring is not available which will return ValueError"
      ],
      "id": "sVxp7FzJnyC8",
      "execution_count": null,
      "outputs": [
        {
          "name": "stdout",
          "text": "4\n",
          "output_type": "stream"
        },
        {
          "traceback": [
            "\u001b[0;31m---------------------------------------------------------------------------\u001b[0m",
            "\u001b[0;31mValueError\u001b[0m                                Traceback (most recent call last)",
            "\u001b[0;32m<ipython-input-122-90b8a99171dd>\u001b[0m in \u001b[0;36m<module>\u001b[0;34m\u001b[0m\n\u001b[1;32m      1\u001b[0m \u001b[0;31m#index, rindex\u001b[0m\u001b[0;34m\u001b[0m\u001b[0;34m\u001b[0m\u001b[0;34m\u001b[0m\u001b[0m\n\u001b[1;32m      2\u001b[0m \u001b[0mprint\u001b[0m\u001b[0;34m(\u001b[0m\u001b[0;34m\"Jeevan\"\u001b[0m\u001b[0;34m.\u001b[0m\u001b[0mindex\u001b[0m\u001b[0;34m(\u001b[0m\u001b[0;34m'an'\u001b[0m\u001b[0;34m)\u001b[0m\u001b[0;34m)\u001b[0m\u001b[0;34m\u001b[0m\u001b[0;34m\u001b[0m\u001b[0m\n\u001b[0;32m----> 3\u001b[0;31m \u001b[0mprint\u001b[0m\u001b[0;34m(\u001b[0m\u001b[0;34m\"Jeevan\"\u001b[0m\u001b[0;34m.\u001b[0m\u001b[0mindex\u001b[0m\u001b[0;34m(\u001b[0m\u001b[0;34m'X'\u001b[0m\u001b[0;34m)\u001b[0m\u001b[0;34m)\u001b[0m\u001b[0;34m\u001b[0m\u001b[0;34m\u001b[0m\u001b[0m\n\u001b[0m",
            "\u001b[0;31mValueError\u001b[0m: substring not found"
          ],
          "ename": "ValueError",
          "evalue": "substring not found",
          "output_type": "error"
        }
      ]
    },
    {
      "cell_type": "code",
      "metadata": {
        "trusted": true,
        "id": "SJkj15JSnyC8",
        "outputId": "4373a97d-b68f-4d82-eb11-7bcd7f4d717c"
      },
      "source": [
        "print(s3)"
      ],
      "id": "SJkj15JSnyC8",
      "execution_count": null,
      "outputs": [
        {
          "name": "stdout",
          "text": "Jeevan Kumar,\nCorporate Trainer,\nCampus Corporate Connect,\nHyderbad\n",
          "output_type": "stream"
        }
      ]
    },
    {
      "cell_type": "code",
      "metadata": {
        "trusted": true,
        "id": "cI6DYhK-nyC9",
        "outputId": "c97385dc-6030-468f-fcc8-fe11d042bb09"
      },
      "source": [
        "print(s3.index('T'))\n",
        "print(s3.index('r',25))\n",
        "print(s3.find('or'))\n",
        "print(s3.index('or'))\n",
        "print(s3.find('or',20,25))\n",
        "print(s3.index('or',22))\n",
        "print(s3.index('e'))\n",
        "print(s3.rindex('e'))"
      ],
      "id": "cI6DYhK-nyC9",
      "execution_count": null,
      "outputs": [
        {
          "name": "stdout",
          "text": "24\n25\n15\n15\n-1\n41\n1\n62\n",
          "output_type": "stream"
        }
      ]
    },
    {
      "cell_type": "code",
      "metadata": {
        "trusted": true,
        "id": "55LU3xbNnyC9",
        "outputId": "a5c76af1-a711-4def-d7a1-9516653aba1a"
      },
      "source": [
        "print(dir(str))"
      ],
      "id": "55LU3xbNnyC9",
      "execution_count": null,
      "outputs": [
        {
          "name": "stdout",
          "text": "['__add__', '__class__', '__contains__', '__delattr__', '__dir__', '__doc__', '__eq__', '__format__', '__ge__', '__getattribute__', '__getitem__', '__getnewargs__', '__gt__', '__hash__', '__init__', '__init_subclass__', '__iter__', '__le__', '__len__', '__lt__', '__mod__', '__mul__', '__ne__', '__new__', '__reduce__', '__reduce_ex__', '__repr__', '__rmod__', '__rmul__', '__setattr__', '__sizeof__', '__str__', '__subclasshook__', 'capitalize', 'casefold', 'center', 'count', 'encode', 'endswith', 'expandtabs', 'find', 'format', 'format_map', 'index', 'isalnum', 'isalpha', 'isascii', 'isdecimal', 'isdigit', 'isidentifier', 'islower', 'isnumeric', 'isprintable', 'isspace', 'istitle', 'isupper', 'join', 'ljust', 'lower', 'lstrip', 'maketrans', 'partition', 'replace', 'rfind', 'rindex', 'rjust', 'rpartition', 'rsplit', 'rstrip', 'split', 'splitlines', 'startswith', 'strip', 'swapcase', 'title', 'translate', 'upper', 'zfill']\n",
          "output_type": "stream"
        }
      ]
    },
    {
      "cell_type": "code",
      "metadata": {
        "trusted": true,
        "id": "CcZWA9ehnyDA",
        "outputId": "e494f31e-a1c4-49e0-d067-c063da40aea3"
      },
      "source": [
        "#Preparing output format\n",
        "print(\"My name is {} and My profession is {} and Working for {}\".format(\"Jeevan Kumar\",\"Corporate Trainer\",\"Campus Corporate Connect\"))\n",
        "print(\"My name is {0} and My profession is {1} and Working for {2}\".format(\"Jeevan Kumar\",\"Corporate Trainer\",\"Campus Corporate Connect\"))\n",
        "print(\"My name is {2} and My profession is {0} and Working for {1}\".format(\"Jeevan Kumar\",\"Corporate Trainer\",\"Campus Corporate Connect\"))\n",
        "print(\"My name is {} and My profession is {} and Working for {}\".format(\"Campus Corporate Connect\",\"Jeevan Kumar\",\"Corporate Trainer\"))\n",
        "print(\"My name is {n} and My profession is {p} and Working for {c}\".format(c=\"Campus Corporate Connect\",n=\"Jeevan Kumar\",p=\"Corporate Trainer\"))"
      ],
      "id": "CcZWA9ehnyDA",
      "execution_count": null,
      "outputs": [
        {
          "name": "stdout",
          "text": "My name is Jeevan Kumar and My profession is Corporate Trainer and Working for Campus Corporate Connect\nMy name is Jeevan Kumar and My profession is Corporate Trainer and Working for Campus Corporate Connect\nMy name is Campus Corporate Connect and My profession is Jeevan Kumar and Working for Corporate Trainer\nMy name is Campus Corporate Connect and My profession is Jeevan Kumar and Working for Corporate Trainer\nMy name is Jeevan Kumar and My profession is Corporate Trainer and Working for Campus Corporate Connect\n",
          "output_type": "stream"
        }
      ]
    },
    {
      "cell_type": "code",
      "metadata": {
        "trusted": true,
        "id": "O6QvlS2dnyDB",
        "outputId": "6209ad8b-33e0-49f9-ee80-4447823e5c8a"
      },
      "source": [
        "#join: Will be used to join given string with given character [Between characters]\n",
        "print('-'.join(\"Python\"))"
      ],
      "id": "O6QvlS2dnyDB",
      "execution_count": null,
      "outputs": [
        {
          "name": "stdout",
          "text": "P-y-t-h-o-n\n",
          "output_type": "stream"
        }
      ]
    },
    {
      "cell_type": "code",
      "metadata": {
        "trusted": true,
        "id": "PtS90w6lnyDC",
        "outputId": "f87810ef-ef07-43eb-84d9-00f0cf9020d8"
      },
      "source": [
        "#For removal of leading spaces\n",
        "s = \"   Jeevan Kumar   \"\n",
        "print(s,\"Ending\")\n",
        "\n",
        "#strip: used to remove all of the leading white spaces [left and right]\n",
        "print(s.strip(),\"Ending\")\n",
        "\n",
        "#lstring: Used to remove leading whitespaces only from left side\n",
        "print(s.lstrip(),\"Ending\")\n",
        "\n",
        "#rstrip: Used to remove leading whitespaces from right side [Doesnt matter]\n",
        "print(s.rstrip(),\"Ending\")"
      ],
      "id": "PtS90w6lnyDC",
      "execution_count": null,
      "outputs": [
        {
          "name": "stdout",
          "text": "   Jeevan Kumar    Ending\nJeevan Kumar Ending\nJeevan Kumar    Ending\n   Jeevan Kumar Ending\n",
          "output_type": "stream"
        }
      ]
    },
    {
      "cell_type": "code",
      "metadata": {
        "trusted": true,
        "id": "w4EFgbignyDC",
        "outputId": "3ecdd023-057e-49dd-efd4-20d39abc2cb8"
      },
      "source": [
        "#Replace characters\n",
        "#maketrans: used to change characters [Input and output characters will be supplied]\n",
        "#translate: used to apply changes\n",
        "\n",
        "print(s3)\n",
        "print()\n",
        "print(s3.translate(s3.maketrans('o','O')))\n",
        "#If length of input is not matching with length of output characters, Will given an error"
      ],
      "id": "w4EFgbignyDC",
      "execution_count": null,
      "outputs": [
        {
          "name": "stdout",
          "text": "Jeevan Kumar,\nCorporate Trainer,\nCampus Corporate Connect,\nHyderbad\n\nJeevan Kumar,\nCOrpOrate Trainer,\nCampus COrpOrate COnnect,\nHyderbad\n",
          "output_type": "stream"
        }
      ]
    },
    {
      "cell_type": "code",
      "metadata": {
        "trusted": true,
        "id": "12E99rnXnyDD",
        "outputId": "850f9bfc-c262-4909-8810-38e922921635"
      },
      "source": [
        "print(s3.translate(s3.maketrans('o','OO')))"
      ],
      "id": "12E99rnXnyDD",
      "execution_count": null,
      "outputs": [
        {
          "traceback": [
            "\u001b[0;31m---------------------------------------------------------------------------\u001b[0m",
            "\u001b[0;31mValueError\u001b[0m                                Traceback (most recent call last)",
            "\u001b[0;32m<ipython-input-153-d13255e31bc2>\u001b[0m in \u001b[0;36m<module>\u001b[0;34m\u001b[0m\n\u001b[0;32m----> 1\u001b[0;31m \u001b[0mprint\u001b[0m\u001b[0;34m(\u001b[0m\u001b[0ms3\u001b[0m\u001b[0;34m.\u001b[0m\u001b[0mtranslate\u001b[0m\u001b[0;34m(\u001b[0m\u001b[0ms3\u001b[0m\u001b[0;34m.\u001b[0m\u001b[0mmaketrans\u001b[0m\u001b[0;34m(\u001b[0m\u001b[0;34m'o'\u001b[0m\u001b[0;34m,\u001b[0m\u001b[0;34m'OO'\u001b[0m\u001b[0;34m)\u001b[0m\u001b[0;34m)\u001b[0m\u001b[0;34m)\u001b[0m\u001b[0;34m\u001b[0m\u001b[0;34m\u001b[0m\u001b[0m\n\u001b[0m",
            "\u001b[0;31mValueError\u001b[0m: the first two maketrans arguments must have equal length"
          ],
          "ename": "ValueError",
          "evalue": "the first two maketrans arguments must have equal length",
          "output_type": "error"
        }
      ]
    },
    {
      "cell_type": "code",
      "metadata": {
        "trusted": true,
        "id": "5Xnq4wwDnyDD",
        "outputId": "3c220259-df68-4034-c9d5-e504e95b34c2"
      },
      "source": [
        "print(s3.translate(s3.maketrans('aeiou','AEIOU')))"
      ],
      "id": "5Xnq4wwDnyDD",
      "execution_count": null,
      "outputs": [
        {
          "name": "stdout",
          "text": "JEEvAn KUmAr,\nCOrpOrAtE TrAInEr,\nCAmpUs COrpOrAtE COnnEct,\nHydErbAd\n",
          "output_type": "stream"
        }
      ]
    },
    {
      "cell_type": "code",
      "metadata": {
        "trusted": true,
        "id": "8jTUVB3RnyDD",
        "outputId": "77757f6e-15f7-4474-ba75-4a3b09873f1c"
      },
      "source": [
        "#replace: Used to replace the character / character(s)\n",
        "print(\"Jeevan\".replace('a','A'))\n",
        "print(\"Jeevan\".replace('a','AA'))\n",
        "print(\"Jeevan\".replace('an','AABB'))"
      ],
      "id": "8jTUVB3RnyDD",
      "execution_count": null,
      "outputs": [
        {
          "name": "stdout",
          "text": "JeevAn\nJeevAAn\nJeevAABB\n",
          "output_type": "stream"
        }
      ]
    },
    {
      "cell_type": "code",
      "metadata": {
        "trusted": true,
        "id": "1RfV_6R_nyDE",
        "outputId": "0bb9b3f5-766b-4093-f233-cbff470cdbc6"
      },
      "source": [
        "print(dir(str))"
      ],
      "id": "1RfV_6R_nyDE",
      "execution_count": null,
      "outputs": [
        {
          "name": "stdout",
          "text": "['__add__', '__class__', '__contains__', '__delattr__', '__dir__', '__doc__', '__eq__', '__format__', '__ge__', '__getattribute__', '__getitem__', '__getnewargs__', '__gt__', '__hash__', '__init__', '__init_subclass__', '__iter__', '__le__', '__len__', '__lt__', '__mod__', '__mul__', '__ne__', '__new__', '__reduce__', '__reduce_ex__', '__repr__', '__rmod__', '__rmul__', '__setattr__', '__sizeof__', '__str__', '__subclasshook__', 'capitalize', 'casefold', 'center', 'count', 'encode', 'endswith', 'expandtabs', 'find', 'format', 'format_map', 'index', 'isalnum', 'isalpha', 'isascii', 'isdecimal', 'isdigit', 'isidentifier', 'islower', 'isnumeric', 'isprintable', 'isspace', 'istitle', 'isupper', 'join', 'ljust', 'lower', 'lstrip', 'maketrans', 'partition', 'replace', 'rfind', 'rindex', 'rjust', 'rpartition', 'rsplit', 'rstrip', 'split', 'splitlines', 'startswith', 'strip', 'swapcase', 'title', 'translate', 'upper', 'zfill']\n",
          "output_type": "stream"
        }
      ]
    },
    {
      "cell_type": "code",
      "metadata": {
        "trusted": true,
        "id": "9zGY5sEVnyDG",
        "outputId": "05bf24d4-6325-47d5-b6f8-5cc4d48eeca7"
      },
      "source": [
        "#partition, rpartition : Used to make string into only three partitions\n",
        "print(\"Jeevan\".partition('e'))\n",
        "print(\"Jeevan\".rpartition('e'))\n",
        "print('Jeevan'.partition('x'))"
      ],
      "id": "9zGY5sEVnyDG",
      "execution_count": null,
      "outputs": [
        {
          "name": "stdout",
          "text": "('J', 'e', 'evan')\n('Je', 'e', 'van')\n('Jeevan', '', '')\n",
          "output_type": "stream"
        }
      ]
    },
    {
      "cell_type": "code",
      "metadata": {
        "trusted": true,
        "id": "9DGzCDgZnyDM",
        "outputId": "24786fad-4a08-4da3-b6de-16364962c9a4"
      },
      "source": [
        "#split: used to split string into multiple parts, default partition is space\n",
        "print(s3)\n",
        "print(s3.split())\n",
        "print(s3.split(' ',3))"
      ],
      "id": "9DGzCDgZnyDM",
      "execution_count": null,
      "outputs": [
        {
          "name": "stdout",
          "text": "Jeevan Kumar,\nCorporate Trainer,\nCampus Corporate Connect,\nHyderbad\n['Jeevan', 'Kumar,', 'Corporate', 'Trainer,', 'Campus', 'Corporate', 'Connect,', 'Hyderbad']\n['Jeevan', 'Kumar,\\nCorporate', 'Trainer,\\nCampus', 'Corporate Connect,\\nHyderbad']\n",
          "output_type": "stream"
        }
      ]
    },
    {
      "cell_type": "code",
      "metadata": {
        "trusted": true,
        "id": "WbcrkUbPnyDN",
        "outputId": "0fbd9b2d-4651-43bb-a48c-ec1be57eb4bd"
      },
      "source": [
        "print(s3.split('\\n'))\n",
        "s3"
      ],
      "id": "WbcrkUbPnyDN",
      "execution_count": null,
      "outputs": [
        {
          "name": "stdout",
          "text": "['Jeevan Kumar,', 'Corporate Trainer,', 'Campus Corporate Connect,', 'Hyderbad']\n",
          "output_type": "stream"
        },
        {
          "execution_count": 176,
          "output_type": "execute_result",
          "data": {
            "text/plain": "'Jeevan Kumar,\\nCorporate Trainer,\\nCampus Corporate Connect,\\nHyderbad'"
          },
          "metadata": {}
        }
      ]
    },
    {
      "cell_type": "code",
      "metadata": {
        "trusted": true,
        "id": "gno7z85znyDO",
        "outputId": "7c1b8c08-58a6-4407-a398-2198318069ed"
      },
      "source": [
        "help(str.split)"
      ],
      "id": "gno7z85znyDO",
      "execution_count": null,
      "outputs": [
        {
          "name": "stdout",
          "text": "Help on method_descriptor:\n\nsplit(self, /, sep=None, maxsplit=-1)\n    Return a list of the words in the string, using sep as the delimiter string.\n    \n    sep\n      The delimiter according which to split the string.\n      None (the default value) means split according to any whitespace,\n      and discard empty strings from the result.\n    maxsplit\n      Maximum number of splits to do.\n      -1 (the default value) means no limit.\n\n",
          "output_type": "stream"
        }
      ]
    },
    {
      "cell_type": "code",
      "metadata": {
        "trusted": true,
        "id": "zOCi-_ownyDP",
        "outputId": "313b398f-e538-4971-df78-1e0151a22d9a"
      },
      "source": [
        "print(s3.splitlines()) #same as s3.split('\\n')"
      ],
      "id": "zOCi-_ownyDP",
      "execution_count": null,
      "outputs": [
        {
          "name": "stdout",
          "text": "['Jeevan Kumar,', 'Corporate Trainer,', 'Campus Corporate Connect,', 'Hyderbad']\n",
          "output_type": "stream"
        }
      ]
    },
    {
      "cell_type": "code",
      "metadata": {
        "trusted": true,
        "id": "Nof4q2HpnyDP",
        "outputId": "98e480dd-6d58-4df3-ed46-1c169bef2d2e"
      },
      "source": [
        "help(str.splitlines)"
      ],
      "id": "Nof4q2HpnyDP",
      "execution_count": null,
      "outputs": [
        {
          "name": "stdout",
          "text": "Help on method_descriptor:\n\nsplitlines(self, /, keepends=False)\n    Return a list of the lines in the string, breaking at line boundaries.\n    \n    Line breaks are not included in the resulting list unless keepends is given and\n    true.\n\n",
          "output_type": "stream"
        }
      ]
    },
    {
      "cell_type": "code",
      "metadata": {
        "trusted": true,
        "id": "roxPiAjknyDQ",
        "outputId": "3bdbc837-5ce7-45bb-9695-ed26aad98116"
      },
      "source": [
        "#zfill: Used to fill 0, in leading white spaces, which requries exactly one argumnet\n",
        "print(\"Jeevan\".zfill(5))\n",
        "print(\"Jeevan\".zfill(15))"
      ],
      "id": "roxPiAjknyDQ",
      "execution_count": null,
      "outputs": [
        {
          "name": "stdout",
          "text": "Jeevan\n000000000Jeevan\n",
          "output_type": "stream"
        }
      ]
    },
    {
      "cell_type": "code",
      "metadata": {
        "id": "TudLeLponyDR"
      },
      "source": [
        ""
      ],
      "id": "TudLeLponyDR",
      "execution_count": null,
      "outputs": []
    }
  ]
}