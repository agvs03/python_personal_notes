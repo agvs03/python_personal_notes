{
  "nbformat": 4,
  "nbformat_minor": 5,
  "metadata": {
    "language_info": {
      "name": "python",
      "version": "3.7.8",
      "mimetype": "text/x-python",
      "codemirror_mode": {
        "name": "ipython",
        "version": 3
      },
      "pygments_lexer": "ipython3",
      "nbconvert_exporter": "python",
      "file_extension": ".py"
    },
    "kernelspec": {
      "name": "python3",
      "display_name": "Python 3",
      "language": "python"
    },
    "colab": {
      "name": "Python Day3.ipynb",
      "provenance": []
    }
  },
  "cells": [
    {
      "cell_type": "code",
      "metadata": {
        "id": "v7_rb3epnyl-"
      },
      "source": [
        "Day - 3:\n",
        "    1. List\n",
        "    2. Tuple\n",
        "    3. Set\n",
        "    4. Dictionary"
      ],
      "id": "v7_rb3epnyl-",
      "execution_count": null,
      "outputs": []
    },
    {
      "cell_type": "code",
      "metadata": {
        "id": "klXA4XapnymO"
      },
      "source": [
        "List: []\n",
        "    1. Def: An ordered collections of data elements is known as list\n",
        "    2. **The list elements may be\n",
        "        1. Same type\n",
        "        2. Different types\n",
        "    3. How to declare list:\n",
        "        1. using empty [] -> prepares empty list\n",
        "        2. using [v1,v2,v3,....,vN] -> prepares list with elements [List elements separated by comma(,)]\n",
        "        3. using list(OtherCollection) -> prepares a list from other collection\n",
        "        4. using listVariable = listComprehension [By using input() / any other collection]\n",
        "        5. using map method\n",
        "    4. How to access list data:\n",
        "        1. Using indexing [single element]\n",
        "        2. Using slicing [Group of elements]\n",
        "    5. Can we change list data?\n",
        "        1. Yes, Because list is mutable\n",
        "    6. General Operations:\n",
        "        -> Concatenation, Repeatation, enumerate, len, (min,max[Will use when list contains same type of data])\n",
        "    7. Built-in methods of list:\n",
        "        1. dir(list) -> used to know the list of methods\n",
        "        2. help(list.methodName) -> used to know the syntax"
      ],
      "id": "klXA4XapnymO",
      "execution_count": null,
      "outputs": []
    },
    {
      "cell_type": "code",
      "metadata": {
        "id": "NU_X91jQnymR",
        "outputId": "b570b249-0956-4bf1-d0cf-e0a044596baa"
      },
      "source": [
        "l1 = []\n",
        "print(l1,type(l1))\n",
        "\n",
        "l2 = [100,200,300,400,500]\n",
        "print(l2)\n",
        "\n",
        "l3 = ['A',154,98.65,5+6j,\"Jeevan\",[4,5,6]]\n",
        "print(l3)\n",
        "\n",
        "l4 = list(\"Campus Corporate Connect\")\n",
        "print(l4)"
      ],
      "id": "NU_X91jQnymR",
      "execution_count": null,
      "outputs": [
        {
          "name": "stdout",
          "text": "[] <class 'list'>\n[100, 200, 300, 400, 500]\n['A', 154, 98.65, (5+6j), 'Jeevan', [4, 5, 6]]\n['C', 'a', 'm', 'p', 'u', 's', ' ', 'C', 'o', 'r', 'p', 'o', 'r', 'a', 't', 'e', ' ', 'C', 'o', 'n', 'n', 'e', 'c', 't']\n",
          "output_type": "stream"
        }
      ]
    },
    {
      "cell_type": "code",
      "metadata": {
        "id": "LM70G9Xhnym_",
        "outputId": "a3bfbb4e-9793-42fe-e618-312178882f8a"
      },
      "source": [
        "s = \"Campus Corporate Connect\"\n",
        "l = []\n",
        "for x in s:\n",
        "    l.append(x)\n",
        "print(l)"
      ],
      "id": "LM70G9Xhnym_",
      "execution_count": null,
      "outputs": [
        {
          "name": "stdout",
          "text": "['C', 'a', 'm', 'p', 'u', 's', ' ', 'C', 'o', 'r', 'p', 'o', 'r', 'a', 't', 'e', ' ', 'C', 'o', 'n', 'n', 'e', 'c', 't']\n",
          "output_type": "stream"
        }
      ]
    },
    {
      "cell_type": "code",
      "metadata": {
        "id": "8l73NKgunynD",
        "outputId": "02b34d4e-14f2-4052-9a80-e32f660878c3"
      },
      "source": [
        "'''\n",
        "    List Comprehesion:\n",
        "        Syntax:\n",
        "            [variable for variable in collection]\n",
        "            collection:\n",
        "                1. range()\n",
        "                2. String\n",
        "                3. List\n",
        "                4. etc.\n",
        "        Note: We can prepare list with user defined data, but the element what you store in the list is type of string.\n",
        "        So, need to convert string into requried type. To do, do the following\n",
        "        \n",
        "            [destinationTypeMethod(variable) for variable in collection]\n",
        "'''\n",
        "for i in range(10):\n",
        "    print(i,end=\" \")\n",
        "\n",
        "print()\n",
        "\n",
        "l5 = [x for x in range(10)]\n",
        "print(l5)\n",
        "\n",
        "l6 = [x for x in \"Jeevan\"]\n",
        "print(l6)\n",
        "\n",
        "l7 = [x for x in input(\"Enter data:\").split()]\n",
        "print(l7)\n",
        "\n",
        "l8 = [float(x) for x in input(\"Enter data:\").split()]\n",
        "print(l8)"
      ],
      "id": "8l73NKgunynD",
      "execution_count": null,
      "outputs": [
        {
          "name": "stdout",
          "text": "0 1 2 3 4 5 6 7 8 9 \n[0, 1, 2, 3, 4, 5, 6, 7, 8, 9]\n['J', 'e', 'e', 'v', 'a', 'n']\n",
          "output_type": "stream"
        },
        {
          "output_type": "stream",
          "name": "stdin",
          "text": "Enter data: 10 20 3\n"
        },
        {
          "name": "stdout",
          "text": "['10', '20', '3']\n",
          "output_type": "stream"
        },
        {
          "output_type": "stream",
          "name": "stdin",
          "text": "Enter data: 1.2 2.3 3.4 5.6\n"
        },
        {
          "name": "stdout",
          "text": "[1.2, 2.3, 3.4, 5.6]\n",
          "output_type": "stream"
        }
      ]
    },
    {
      "cell_type": "code",
      "metadata": {
        "id": "rglnvjGdnynG",
        "outputId": "026b32a6-f91d-4d92-be99-d94b4f2ebd09"
      },
      "source": [
        "l9 = [[[[x,y,z] for x in range(1,5)] for y in range(1,5)] for z in range(1,5)]\n",
        "print(l9)"
      ],
      "id": "rglnvjGdnynG",
      "execution_count": null,
      "outputs": [
        {
          "name": "stdout",
          "text": "[[[[1, 1, 1], [2, 1, 1], [3, 1, 1], [4, 1, 1]], [[1, 2, 1], [2, 2, 1], [3, 2, 1], [4, 2, 1]], [[1, 3, 1], [2, 3, 1], [3, 3, 1], [4, 3, 1]], [[1, 4, 1], [2, 4, 1], [3, 4, 1], [4, 4, 1]]], [[[1, 1, 2], [2, 1, 2], [3, 1, 2], [4, 1, 2]], [[1, 2, 2], [2, 2, 2], [3, 2, 2], [4, 2, 2]], [[1, 3, 2], [2, 3, 2], [3, 3, 2], [4, 3, 2]], [[1, 4, 2], [2, 4, 2], [3, 4, 2], [4, 4, 2]]], [[[1, 1, 3], [2, 1, 3], [3, 1, 3], [4, 1, 3]], [[1, 2, 3], [2, 2, 3], [3, 2, 3], [4, 2, 3]], [[1, 3, 3], [2, 3, 3], [3, 3, 3], [4, 3, 3]], [[1, 4, 3], [2, 4, 3], [3, 4, 3], [4, 4, 3]]], [[[1, 1, 4], [2, 1, 4], [3, 1, 4], [4, 1, 4]], [[1, 2, 4], [2, 2, 4], [3, 2, 4], [4, 2, 4]], [[1, 3, 4], [2, 3, 4], [3, 3, 4], [4, 3, 4]], [[1, 4, 4], [2, 4, 4], [3, 4, 4], [4, 4, 4]]]]\n",
          "output_type": "stream"
        }
      ]
    },
    {
      "cell_type": "code",
      "metadata": {
        "id": "4mCxDkaKnynI",
        "outputId": "0e93f33e-5187-4d0c-833c-fe29ae13a49b"
      },
      "source": [
        "l10 = list(map(str,\"jeevan Kumar\".split()))\n",
        "print(l10)\n",
        "\n",
        "l11 = list(map(complex,input(\"Enter compelx numbers:\").split()))\n",
        "print(l11)"
      ],
      "id": "4mCxDkaKnynI",
      "execution_count": null,
      "outputs": [
        {
          "name": "stdout",
          "text": "['jeevan', 'Kumar']\n",
          "output_type": "stream"
        },
        {
          "output_type": "stream",
          "name": "stdin",
          "text": "Enter compelx numbers: 3+6j 5+4j 9+7j\n"
        },
        {
          "name": "stdout",
          "text": "[(3+6j), (5+4j), (9+7j)]\n",
          "output_type": "stream"
        }
      ]
    },
    {
      "cell_type": "code",
      "metadata": {
        "id": "h1KPdIJunynK",
        "outputId": "54cfede7-f202-43c3-a78d-77d5067b402c"
      },
      "source": [
        "#Even numbers from 1 - 100\n",
        "evenList = [x for x in range(1,101) if x%2==0]\n",
        "print(evenList)\n",
        "\n",
        "oddList = [x for x in range(1,101) if x%2!=0]\n",
        "print(oddList)"
      ],
      "id": "h1KPdIJunynK",
      "execution_count": null,
      "outputs": [
        {
          "name": "stdout",
          "text": "[2, 4, 6, 8, 10, 12, 14, 16, 18, 20, 22, 24, 26, 28, 30, 32, 34, 36, 38, 40, 42, 44, 46, 48, 50, 52, 54, 56, 58, 60, 62, 64, 66, 68, 70, 72, 74, 76, 78, 80, 82, 84, 86, 88, 90, 92, 94, 96, 98, 100]\n[1, 3, 5, 7, 9, 11, 13, 15, 17, 19, 21, 23, 25, 27, 29, 31, 33, 35, 37, 39, 41, 43, 45, 47, 49, 51, 53, 55, 57, 59, 61, 63, 65, 67, 69, 71, 73, 75, 77, 79, 81, 83, 85, 87, 89, 91, 93, 95, 97, 99]\n",
          "output_type": "stream"
        }
      ]
    },
    {
      "cell_type": "code",
      "metadata": {
        "id": "QpricqlHnynN",
        "outputId": "a4113af7-4cab-4bcc-ec1d-f1f2e8628544"
      },
      "source": [
        "primes = [x for x in range(2,100) if all(x%y!=0 for y in range(2,x))]\n",
        "print(primes)\n",
        "print(len(primes))"
      ],
      "id": "QpricqlHnynN",
      "execution_count": null,
      "outputs": [
        {
          "name": "stdout",
          "text": "[2, 3, 5, 7, 11, 13, 17, 19, 23, 29, 31, 37, 41, 43, 47, 53, 59, 61, 67, 71, 73, 79, 83, 89, 97]\n25\n",
          "output_type": "stream"
        }
      ]
    },
    {
      "cell_type": "code",
      "metadata": {
        "id": "kQJZc3SEnynR",
        "outputId": "497a1402-a43d-4ae1-8bce-f621f46fc289"
      },
      "source": [
        "print(l4)\n",
        "print(l4[8])\n",
        "print(l4[-1])\n",
        "print(l4[::3])"
      ],
      "id": "kQJZc3SEnynR",
      "execution_count": null,
      "outputs": [
        {
          "name": "stdout",
          "text": "['C', 'a', 'm', 'p', 'u', 's', ' ', 'C', 'o', 'r', 'p', 'o', 'r', 'a', 't', 'e', ' ', 'C', 'o', 'n', 'n', 'e', 'c', 't']\no\nt\n['C', 'p', ' ', 'r', 'r', 'e', 'o', 'e']\n",
          "output_type": "stream"
        }
      ]
    },
    {
      "cell_type": "code",
      "metadata": {
        "id": "_e1_r872nynT",
        "outputId": "9306a5dc-1c87-4bcd-8baa-c1dd4039c0b5"
      },
      "source": [
        "print(l2)\n",
        "print(l2[2])\n",
        "l2[2] = 1000\n",
        "print(l2)"
      ],
      "id": "_e1_r872nynT",
      "execution_count": null,
      "outputs": [
        {
          "name": "stdout",
          "text": "[100, 200, 300, 400, 500]\n300\n[100, 200, 1000, 400, 500]\n",
          "output_type": "stream"
        }
      ]
    },
    {
      "cell_type": "code",
      "metadata": {
        "id": "gaeoeERDnynX",
        "outputId": "5516535d-1b44-4d51-ef8f-95ba0577f0ef"
      },
      "source": [
        "l2 + l3"
      ],
      "id": "gaeoeERDnynX",
      "execution_count": null,
      "outputs": [
        {
          "execution_count": 36,
          "output_type": "execute_result",
          "data": {
            "text/plain": "[100, 200, 1000, 400, 500, 'A', 154, 98.65, (5+6j), 'Jeevan', [4, 5, 6]]"
          },
          "metadata": {}
        }
      ]
    },
    {
      "cell_type": "code",
      "metadata": {
        "id": "h2JLfx06nyna",
        "outputId": "95449069-2c26-40b6-f026-70914e1c5e6c"
      },
      "source": [
        "l2 * 3"
      ],
      "id": "h2JLfx06nyna",
      "execution_count": null,
      "outputs": [
        {
          "execution_count": 37,
          "output_type": "execute_result",
          "data": {
            "text/plain": "[100, 200, 1000, 400, 500, 100, 200, 1000, 400, 500, 100, 200, 1000, 400, 500]"
          },
          "metadata": {}
        }
      ]
    },
    {
      "cell_type": "code",
      "metadata": {
        "id": "zR__p0jwnynb",
        "outputId": "71bd323a-1143-4df0-bf95-99af4c8a5e0d"
      },
      "source": [
        "print(l3)\n",
        "print(len(l3))\n",
        "print(l2)\n",
        "print(min(l2),max(l2))\n",
        "print(min(l3),max(l3))"
      ],
      "id": "zR__p0jwnynb",
      "execution_count": null,
      "outputs": [
        {
          "name": "stdout",
          "text": "['A', 154, 98.65, (5+6j), 'Jeevan', [4, 5, 6]]\n6\n[100, 200, 1000, 400, 500]\n100 1000\n",
          "output_type": "stream"
        },
        {
          "traceback": [
            "\u001b[0;31m---------------------------------------------------------------------------\u001b[0m",
            "\u001b[0;31mTypeError\u001b[0m                                 Traceback (most recent call last)",
            "\u001b[0;32m<ipython-input-42-2d61051b9f42>\u001b[0m in \u001b[0;36m<module>\u001b[0;34m\u001b[0m\n\u001b[1;32m      3\u001b[0m \u001b[0mprint\u001b[0m\u001b[0;34m(\u001b[0m\u001b[0ml2\u001b[0m\u001b[0;34m)\u001b[0m\u001b[0;34m\u001b[0m\u001b[0;34m\u001b[0m\u001b[0m\n\u001b[1;32m      4\u001b[0m \u001b[0mprint\u001b[0m\u001b[0;34m(\u001b[0m\u001b[0mmin\u001b[0m\u001b[0;34m(\u001b[0m\u001b[0ml2\u001b[0m\u001b[0;34m)\u001b[0m\u001b[0;34m,\u001b[0m\u001b[0mmax\u001b[0m\u001b[0;34m(\u001b[0m\u001b[0ml2\u001b[0m\u001b[0;34m)\u001b[0m\u001b[0;34m)\u001b[0m\u001b[0;34m\u001b[0m\u001b[0;34m\u001b[0m\u001b[0m\n\u001b[0;32m----> 5\u001b[0;31m \u001b[0mprint\u001b[0m\u001b[0;34m(\u001b[0m\u001b[0mmin\u001b[0m\u001b[0;34m(\u001b[0m\u001b[0ml3\u001b[0m\u001b[0;34m)\u001b[0m\u001b[0;34m,\u001b[0m\u001b[0mmax\u001b[0m\u001b[0;34m(\u001b[0m\u001b[0ml3\u001b[0m\u001b[0;34m)\u001b[0m\u001b[0;34m)\u001b[0m\u001b[0;34m\u001b[0m\u001b[0;34m\u001b[0m\u001b[0m\n\u001b[0m",
            "\u001b[0;31mTypeError\u001b[0m: '<' not supported between instances of 'int' and 'str'"
          ],
          "ename": "TypeError",
          "evalue": "'<' not supported between instances of 'int' and 'str'",
          "output_type": "error"
        }
      ]
    },
    {
      "cell_type": "code",
      "metadata": {
        "id": "vKYc788knync",
        "outputId": "21a659a1-02aa-4d54-eee7-5f3641b9a4d6"
      },
      "source": [
        "print(dir(list))"
      ],
      "id": "vKYc788knync",
      "execution_count": null,
      "outputs": [
        {
          "name": "stdout",
          "text": "['__add__', '__class__', '__contains__', '__delattr__', '__delitem__', '__dir__', '__doc__', '__eq__', '__format__', '__ge__', '__getattribute__', '__getitem__', '__gt__', '__hash__', '__iadd__', '__imul__', '__init__', '__init_subclass__', '__iter__', '__le__', '__len__', '__lt__', '__mul__', '__ne__', '__new__', '__reduce__', '__reduce_ex__', '__repr__', '__reversed__', '__rmul__', '__setattr__', '__setitem__', '__sizeof__', '__str__', '__subclasshook__', 'append', 'clear', 'copy', 'count', 'extend', 'index', 'insert', 'pop', 'remove', 'reverse', 'sort']\n",
          "output_type": "stream"
        }
      ]
    },
    {
      "cell_type": "code",
      "metadata": {
        "id": "Rzk1iRh7nynd"
      },
      "source": [
        "Creation / Adding elements into list: append, copy, insert, extend\n",
        "Operations: count, index, reverse, sort\n",
        "Deletion / Removing elements from list: pop, remove, clear"
      ],
      "id": "Rzk1iRh7nynd",
      "execution_count": null,
      "outputs": []
    },
    {
      "cell_type": "code",
      "metadata": {
        "id": "GsdpWo3unyne",
        "outputId": "f960e051-932e-4134-808b-25acfcc2b379"
      },
      "source": [
        "#Prepare an empty list and add elements into list by using input data\n",
        "#append: Used to insert data at the end of list\n",
        "l1 = []\n",
        "for x in input(\"Enter data:\").split():\n",
        "    l1.append(x)\n",
        "print(l1)"
      ],
      "id": "GsdpWo3unyne",
      "execution_count": null,
      "outputs": [
        {
          "output_type": "stream",
          "name": "stdin",
          "text": "Enter data: A Jeevan 98.6 879\n"
        },
        {
          "name": "stdout",
          "text": "['A', 'Jeevan', '98.6', '879']\n",
          "output_type": "stream"
        }
      ]
    },
    {
      "cell_type": "code",
      "metadata": {
        "id": "dGO53bTjnyng",
        "outputId": "2fc6cb1b-9640-4cc7-c187-27f6a1ad9fd5"
      },
      "source": [
        "#copy: WE used to copy the elements of one list into another\n",
        "print(l3)\n",
        "l12 = l3.copy() #Shallow copy of l3 will be given to l12\n",
        "print(l12)"
      ],
      "id": "dGO53bTjnyng",
      "execution_count": null,
      "outputs": [
        {
          "name": "stdout",
          "text": "['A', 154, 98.65, (5+6j), 'Jeevan', [4, 5, 6]]\n['A', 154, 98.65, (5+6j), 'Jeevan', [4, 5, 6]]\n",
          "output_type": "stream"
        }
      ]
    },
    {
      "cell_type": "code",
      "metadata": {
        "id": "azHUN4E2nynh",
        "outputId": "7de9dcf7-5d0b-48d7-a2b2-6ae3c7a14c8a"
      },
      "source": [
        "l12.append(\"CCC\")\n",
        "print(l12)"
      ],
      "id": "azHUN4E2nynh",
      "execution_count": null,
      "outputs": [
        {
          "name": "stdout",
          "text": "['A', 154, 98.65, (5+6j), 'Jeevan', [4, 5, 6], 'CCC']\n",
          "output_type": "stream"
        }
      ]
    },
    {
      "cell_type": "code",
      "metadata": {
        "id": "Q9alsBXnnyni",
        "outputId": "9fef54a9-eb8b-4d28-a54d-e51a7d1a9277"
      },
      "source": [
        "print(l3)\n",
        "l3.append(\"SU\")"
      ],
      "id": "Q9alsBXnnyni",
      "execution_count": null,
      "outputs": [
        {
          "name": "stdout",
          "text": "['A', 154, 98.65, (5+6j), 'Jeevan', [4, 5, 6]]\n",
          "output_type": "stream"
        }
      ]
    },
    {
      "cell_type": "code",
      "metadata": {
        "id": "DeSWhhomnynj",
        "outputId": "ddb6aa34-ce41-4242-e5f0-414e483e5fea"
      },
      "source": [
        "print(l3,l12)"
      ],
      "id": "DeSWhhomnynj",
      "execution_count": null,
      "outputs": [
        {
          "name": "stdout",
          "text": "['A', 154, 98.65, (5+6j), 'Jeevan', [4, 5, 6], 'SU'] ['A', 154, 98.65, (5+6j), 'Jeevan', [4, 5, 6], 'CCC']\n",
          "output_type": "stream"
        }
      ]
    },
    {
      "cell_type": "code",
      "metadata": {
        "id": "kJfPjJ4Inynj",
        "outputId": "6dd3c66a-482d-47f1-9fe6-bb35319c7730"
      },
      "source": [
        "print(id(l3),id(l12))"
      ],
      "id": "kJfPjJ4Inynj",
      "execution_count": null,
      "outputs": [
        {
          "name": "stdout",
          "text": "140608003559904 140608003200656\n",
          "output_type": "stream"
        }
      ]
    },
    {
      "cell_type": "code",
      "metadata": {
        "id": "2oIfkUKvnyos",
        "outputId": "fc534051-e290-442d-9916-2298f832ee68"
      },
      "source": [
        "l13 = l3 #Copying reference\n",
        "print(l13)\n",
        "print(l3)"
      ],
      "id": "2oIfkUKvnyos",
      "execution_count": null,
      "outputs": [
        {
          "name": "stdout",
          "text": "['A', 154, 98.65, (5+6j), 'Jeevan', [4, 5, 6], 'SU']\n['A', 154, 98.65, (5+6j), 'Jeevan', [4, 5, 6], 'SU']\n",
          "output_type": "stream"
        }
      ]
    },
    {
      "cell_type": "code",
      "metadata": {
        "id": "8Nb_sj-xnyot",
        "outputId": "b84f5235-6958-460d-c658-d16f7f47563e"
      },
      "source": [
        "l3.append(\"CSE\")\n",
        "l13.append(\"IT\")\n",
        "print(l13,l3)"
      ],
      "id": "8Nb_sj-xnyot",
      "execution_count": null,
      "outputs": [
        {
          "name": "stdout",
          "text": "['A', 154, 98.65, (5+6j), 'Jeevan', [4, 5, 6], 'SU', 'CSE', 'IT'] ['A', 154, 98.65, (5+6j), 'Jeevan', [4, 5, 6], 'SU', 'CSE', 'IT']\n",
          "output_type": "stream"
        }
      ]
    },
    {
      "cell_type": "code",
      "metadata": {
        "id": "7EdSg3Y_nyou",
        "outputId": "ffaac83c-fbf1-4517-ea16-0c2a05ef4df3"
      },
      "source": [
        "print(l13)\n",
        "print(l3)"
      ],
      "id": "7EdSg3Y_nyou",
      "execution_count": null,
      "outputs": [
        {
          "name": "stdout",
          "text": "['A', 154, 98.65, (5+6j), 'Jeevan', [4, 5, 6], 'SU', 'CSE', 'IT']\n['A', 154, 98.65, (5+6j), 'Jeevan', [4, 5, 6], 'SU', 'CSE', 'IT']\n",
          "output_type": "stream"
        }
      ]
    },
    {
      "cell_type": "code",
      "metadata": {
        "id": "jEnKGPLinyoz",
        "outputId": "9108b560-48fe-4592-8a0c-3486fa9074a5"
      },
      "source": [
        "print(id(l13),id(l3))"
      ],
      "id": "jEnKGPLinyoz",
      "execution_count": null,
      "outputs": [
        {
          "name": "stdout",
          "text": "140608003559904 140608003559904\n",
          "output_type": "stream"
        }
      ]
    },
    {
      "cell_type": "code",
      "metadata": {
        "id": "E8iau9FZnyo-",
        "outputId": "cfc59869-3a8b-496e-e01b-c96499e55a5c"
      },
      "source": [
        "#insert: used to place data into desired location given by the user, if location is value is invalid it acts like as append method\n",
        "print(l2)\n",
        "l2.insert(2,300)\n",
        "print(l2)"
      ],
      "id": "E8iau9FZnyo-",
      "execution_count": null,
      "outputs": [
        {
          "name": "stdout",
          "text": "[100, 200, 1000, 400, 500, 2]\n[100, 200, 300, 1000, 400, 500, 2]\n",
          "output_type": "stream"
        }
      ]
    },
    {
      "cell_type": "code",
      "metadata": {
        "id": "hOJP6AYMnyo_",
        "outputId": "2bb9ba65-4cee-455f-f3ff-3d93d058697e"
      },
      "source": [
        "l2.insert(10,154)\n",
        "print(l2)"
      ],
      "id": "hOJP6AYMnyo_",
      "execution_count": null,
      "outputs": [
        {
          "name": "stdout",
          "text": "[100, 200, 300, 1000, 400, 500, 2, 154]\n",
          "output_type": "stream"
        }
      ]
    },
    {
      "cell_type": "code",
      "metadata": {
        "id": "45sDhRjgnypB",
        "outputId": "1036f245-58e6-4c62-8812-6220199563fb"
      },
      "source": [
        "#extend: used to extend one list from another list\n",
        "print(l2)\n",
        "print(l3)\n",
        "l2.extend(l3)\n",
        "print(l2)"
      ],
      "id": "45sDhRjgnypB",
      "execution_count": null,
      "outputs": [
        {
          "name": "stdout",
          "text": "[100, 200, 300, 1000, 400, 500, 2, 154]\n['A', 154, 98.65, (5+6j), 'Jeevan', [4, 5, 6], 'SU', 'CSE', 'IT']\n[100, 200, 300, 1000, 400, 500, 2, 154, 'A', 154, 98.65, (5+6j), 'Jeevan', [4, 5, 6], 'SU', 'CSE', 'IT']\n",
          "output_type": "stream"
        }
      ]
    },
    {
      "cell_type": "code",
      "metadata": {
        "id": "qMRMfQhenypC",
        "outputId": "a933f7f4-675d-4b97-ac97-99695f71df66"
      },
      "source": [
        "l14 = []\n",
        "for x in l2:\n",
        "    l14.append(x)\n",
        "print(l14)"
      ],
      "id": "qMRMfQhenypC",
      "execution_count": null,
      "outputs": [
        {
          "name": "stdout",
          "text": "[100, 200, 300, 1000, 400, 500, 2, 154, 'A', 154, 98.65, (5+6j), 'Jeevan', [4, 5, 6], 'SU', 'CSE', 'IT']\n",
          "output_type": "stream"
        }
      ]
    },
    {
      "cell_type": "code",
      "metadata": {
        "id": "Su5vllObnypD",
        "outputId": "d069859f-8953-45b7-8735-e2e103e16915"
      },
      "source": [
        "#count: used to know the number of occurances of element, element has to supplied by the user\n",
        "l = [1,2,3,1,2,4,1,2,5,3,1,5,4,81,3,1,12,2,12,3,]\n",
        "print(l.count(1))\n",
        "print(l.count(3))\n",
        "print(l.count(10))\n",
        "#Note: if the given key is not available which returns values as 0"
      ],
      "id": "Su5vllObnypD",
      "execution_count": null,
      "outputs": [
        {
          "name": "stdout",
          "text": "5\n4\n0\n",
          "output_type": "stream"
        }
      ]
    },
    {
      "cell_type": "code",
      "metadata": {
        "id": "2yPYTd1DnypE",
        "outputId": "2a4fb9bd-17a2-40d9-e72e-231669b4bb97"
      },
      "source": [
        "#index: Used to know the index location of element, element has to supplied by the user\n",
        "print(l.index(1))\n",
        "print(l.index(1,5)) #You can pass from which index onwards search has to begin\n",
        "print(l.index(1,3,5)) #You can pass start and end indexes to seach for an element\n",
        "print(l.index(10))\n",
        "#Note: If key is not avaialable return ValueError [Key must be available in the list]"
      ],
      "id": "2yPYTd1DnypE",
      "execution_count": null,
      "outputs": [
        {
          "name": "stdout",
          "text": "0\n6\n3\n",
          "output_type": "stream"
        },
        {
          "traceback": [
            "\u001b[0;31m---------------------------------------------------------------------------\u001b[0m",
            "\u001b[0;31mValueError\u001b[0m                                Traceback (most recent call last)",
            "\u001b[0;32m<ipython-input-73-662244bfda35>\u001b[0m in \u001b[0;36m<module>\u001b[0;34m\u001b[0m\n\u001b[1;32m      3\u001b[0m \u001b[0mprint\u001b[0m\u001b[0;34m(\u001b[0m\u001b[0ml\u001b[0m\u001b[0;34m.\u001b[0m\u001b[0mindex\u001b[0m\u001b[0;34m(\u001b[0m\u001b[0;36m1\u001b[0m\u001b[0;34m,\u001b[0m\u001b[0;36m5\u001b[0m\u001b[0;34m)\u001b[0m\u001b[0;34m)\u001b[0m \u001b[0;31m#You can pass from which index onwards search has to begin\u001b[0m\u001b[0;34m\u001b[0m\u001b[0;34m\u001b[0m\u001b[0m\n\u001b[1;32m      4\u001b[0m \u001b[0mprint\u001b[0m\u001b[0;34m(\u001b[0m\u001b[0ml\u001b[0m\u001b[0;34m.\u001b[0m\u001b[0mindex\u001b[0m\u001b[0;34m(\u001b[0m\u001b[0;36m1\u001b[0m\u001b[0;34m,\u001b[0m\u001b[0;36m3\u001b[0m\u001b[0;34m,\u001b[0m\u001b[0;36m5\u001b[0m\u001b[0;34m)\u001b[0m\u001b[0;34m)\u001b[0m \u001b[0;31m#You can pass start and end indexes to seach for an element\u001b[0m\u001b[0;34m\u001b[0m\u001b[0;34m\u001b[0m\u001b[0m\n\u001b[0;32m----> 5\u001b[0;31m \u001b[0mprint\u001b[0m\u001b[0;34m(\u001b[0m\u001b[0ml\u001b[0m\u001b[0;34m.\u001b[0m\u001b[0mindex\u001b[0m\u001b[0;34m(\u001b[0m\u001b[0;36m10\u001b[0m\u001b[0;34m)\u001b[0m\u001b[0;34m)\u001b[0m\u001b[0;34m\u001b[0m\u001b[0;34m\u001b[0m\u001b[0m\n\u001b[0m",
            "\u001b[0;31mValueError\u001b[0m: 10 is not in list"
          ],
          "ename": "ValueError",
          "evalue": "10 is not in list",
          "output_type": "error"
        }
      ]
    },
    {
      "cell_type": "code",
      "metadata": {
        "id": "0nqVezbVnypE",
        "outputId": "357e5b06-cff3-475e-b06c-8592c5fffa2f"
      },
      "source": [
        "#Reverse: used to reverse the list of elements [in-place reverse]\n",
        "print(l2)\n",
        "l15 = reversed(l2) #Gives the reverse copy of list\n",
        "print(list(l15))"
      ],
      "id": "0nqVezbVnypE",
      "execution_count": null,
      "outputs": [
        {
          "name": "stdout",
          "text": "[100, 200, 300, 1000, 400, 500, 2, 154, 'A', 154, 98.65, (5+6j), 'Jeevan', [4, 5, 6], 'SU', 'CSE', 'IT']\n['IT', 'CSE', 'SU', [4, 5, 6], 'Jeevan', (5+6j), 98.65, 154, 'A', 154, 2, 500, 400, 1000, 300, 200, 100]\n",
          "output_type": "stream"
        }
      ]
    },
    {
      "cell_type": "code",
      "metadata": {
        "id": "5H_zjKqZnypF",
        "outputId": "29f6d130-a072-4782-edff-fc8c4a501609"
      },
      "source": [
        "l16 = l2.reverse()\n",
        "print(l16)"
      ],
      "id": "5H_zjKqZnypF",
      "execution_count": null,
      "outputs": [
        {
          "name": "stdout",
          "text": "None\n",
          "output_type": "stream"
        }
      ]
    },
    {
      "cell_type": "code",
      "metadata": {
        "id": "n1dp9-ThnypG",
        "outputId": "9faf1b04-59c3-4d05-cb4f-531afa0b4ade"
      },
      "source": [
        "print(l2)"
      ],
      "id": "n1dp9-ThnypG",
      "execution_count": null,
      "outputs": [
        {
          "name": "stdout",
          "text": "['IT', 'CSE', 'SU', [4, 5, 6], 'Jeevan', (5+6j), 98.65, 154, 'A', 154, 2, 500, 400, 1000, 300, 200, 100]\n",
          "output_type": "stream"
        }
      ]
    },
    {
      "cell_type": "code",
      "metadata": {
        "id": "eG92ZIU5nypG",
        "outputId": "8a32f31f-5dba-499d-8f9e-a318e3aef13f"
      },
      "source": [
        "#Sort: used to sort list of elements, Which can be applied on only the list which is having same type of data elements\n",
        "l2.sort()"
      ],
      "id": "eG92ZIU5nypG",
      "execution_count": null,
      "outputs": [
        {
          "traceback": [
            "\u001b[0;31m---------------------------------------------------------------------------\u001b[0m",
            "\u001b[0;31mTypeError\u001b[0m                                 Traceback (most recent call last)",
            "\u001b[0;32m<ipython-input-81-7a3fcbba228c>\u001b[0m in \u001b[0;36m<module>\u001b[0;34m\u001b[0m\n\u001b[1;32m      1\u001b[0m \u001b[0;31m#Sort: used to sort list of elements\u001b[0m\u001b[0;34m\u001b[0m\u001b[0;34m\u001b[0m\u001b[0;34m\u001b[0m\u001b[0m\n\u001b[0;32m----> 2\u001b[0;31m \u001b[0ml2\u001b[0m\u001b[0;34m.\u001b[0m\u001b[0msort\u001b[0m\u001b[0;34m(\u001b[0m\u001b[0;34m)\u001b[0m\u001b[0;34m\u001b[0m\u001b[0;34m\u001b[0m\u001b[0m\n\u001b[0m",
            "\u001b[0;31mTypeError\u001b[0m: '<' not supported between instances of 'list' and 'str'"
          ],
          "ename": "TypeError",
          "evalue": "'<' not supported between instances of 'list' and 'str'",
          "output_type": "error"
        }
      ]
    },
    {
      "cell_type": "code",
      "metadata": {
        "id": "lJ7NczmvnypL",
        "outputId": "c9e116bf-7cba-4495-fdf3-9c7cee9b1b8d"
      },
      "source": [
        "print(l)\n",
        "l.sort()\n",
        "print(l)"
      ],
      "id": "lJ7NczmvnypL",
      "execution_count": null,
      "outputs": [
        {
          "name": "stdout",
          "text": "[1, 2, 3, 1, 2, 4, 1, 2, 5, 3, 1, 5, 4, 81, 3, 1, 12, 2, 12, 3]\n[1, 1, 1, 1, 1, 2, 2, 2, 2, 3, 3, 3, 3, 4, 4, 5, 5, 12, 12, 81]\n",
          "output_type": "stream"
        }
      ]
    },
    {
      "cell_type": "code",
      "metadata": {
        "id": "N7QsliV7nypM",
        "outputId": "a19a9e51-737c-4833-8f52-69dd394cf9a6"
      },
      "source": [
        "l = list(\"Tanmay Rushik\")\n",
        "print(l)\n",
        "l.sort()\n",
        "print(l)"
      ],
      "id": "N7QsliV7nypM",
      "execution_count": null,
      "outputs": [
        {
          "name": "stdout",
          "text": "['T', 'a', 'n', 'm', 'a', 'y', ' ', 'R', 'u', 's', 'h', 'i', 'k']\n[' ', 'R', 'T', 'a', 'a', 'h', 'i', 'k', 'm', 'n', 's', 'u', 'y']\n",
          "output_type": "stream"
        }
      ]
    },
    {
      "cell_type": "code",
      "metadata": {
        "id": "UUks1DwTnypM",
        "outputId": "7b739ee3-72a1-4257-e598-9774a94d8b2f"
      },
      "source": [
        "for x in \"Jeevan\":\n",
        "    print(x,\"==>\",ord(x))\n",
        "#ord() -> gives ASCII value of given character"
      ],
      "id": "UUks1DwTnypM",
      "execution_count": null,
      "outputs": [
        {
          "name": "stdout",
          "text": "J ==> 74\ne ==> 101\ne ==> 101\nv ==> 118\na ==> 97\nn ==> 110\n",
          "output_type": "stream"
        }
      ]
    },
    {
      "cell_type": "code",
      "metadata": {
        "id": "L07dvL0gnypN",
        "outputId": "60ef2e6e-e71d-4d8b-9db5-8a959d613c3e"
      },
      "source": [
        "for x in l:\n",
        "    print(x,\"==>\",ord(x))"
      ],
      "id": "L07dvL0gnypN",
      "execution_count": null,
      "outputs": [
        {
          "name": "stdout",
          "text": "  ==> 32\nR ==> 82\nT ==> 84\na ==> 97\na ==> 97\nh ==> 104\ni ==> 105\nk ==> 107\nm ==> 109\nn ==> 110\ns ==> 115\nu ==> 117\ny ==> 121\n",
          "output_type": "stream"
        }
      ]
    },
    {
      "cell_type": "code",
      "metadata": {
        "id": "24__TJX4nypO",
        "outputId": "0e2e91e0-3b29-4f79-ef6c-cc7390d7c6d9"
      },
      "source": [
        "l = [float(x) for x in input(\"Enter float data:\").split()]\n",
        "print(l)\n",
        "l.sort()\n",
        "print(l)"
      ],
      "id": "24__TJX4nypO",
      "execution_count": null,
      "outputs": [
        {
          "output_type": "stream",
          "name": "stdin",
          "text": "Enter float data: 1.5 5.6 2.3 8.9 7.8 5.4\n"
        },
        {
          "name": "stdout",
          "text": "[1.5, 5.6, 2.3, 8.9, 7.8, 5.4]\n[1.5, 2.3, 5.4, 5.6, 7.8, 8.9]\n",
          "output_type": "stream"
        }
      ]
    },
    {
      "cell_type": "code",
      "metadata": {
        "id": "QW2yCsB5nypQ",
        "outputId": "a0e072f8-bffd-48d5-e456-14e048a77f06"
      },
      "source": [
        "help(list.sort)"
      ],
      "id": "QW2yCsB5nypQ",
      "execution_count": null,
      "outputs": [
        {
          "name": "stdout",
          "text": "Help on method_descriptor:\n\nsort(self, /, *, key=None, reverse=False)\n    Stable sort *IN PLACE*.\n\n",
          "output_type": "stream"
        }
      ]
    },
    {
      "cell_type": "code",
      "metadata": {
        "id": "CRMTkx_jnypR",
        "outputId": "9c3969f7-f29a-4c0c-ffe6-23c6bcda05fb"
      },
      "source": [
        "l = [int(x) for x in input(\"Enter numbers\").split()]\n",
        "print(l)\n",
        "l.sort(reverse=True)\n",
        "print(l)"
      ],
      "id": "CRMTkx_jnypR",
      "execution_count": null,
      "outputs": [
        {
          "output_type": "stream",
          "name": "stdin",
          "text": "Enter numbers 1 5 6 8 7 2 3 6 4 9 \n"
        },
        {
          "name": "stdout",
          "text": "[1, 5, 6, 8, 7, 2, 3, 6, 4, 9]\n[9, 8, 7, 6, 6, 5, 4, 3, 2, 1]\n",
          "output_type": "stream"
        }
      ]
    },
    {
      "cell_type": "code",
      "metadata": {
        "id": "679AfJQvnypT",
        "outputId": "4257a3ba-eeff-4554-b7e8-a17b1e8d79ef"
      },
      "source": [
        "l = [1,4,7,2,5,8,3,6,9]\n",
        "l.reverse(l.sort())\n",
        "print(l)\n",
        "#DOnt SUpport"
      ],
      "id": "679AfJQvnypT",
      "execution_count": null,
      "outputs": [
        {
          "traceback": [
            "\u001b[0;31m---------------------------------------------------------------------------\u001b[0m",
            "\u001b[0;31mTypeError\u001b[0m                                 Traceback (most recent call last)",
            "\u001b[0;32m<ipython-input-92-ec638eebf3b8>\u001b[0m in \u001b[0;36m<module>\u001b[0;34m\u001b[0m\n\u001b[1;32m      1\u001b[0m \u001b[0ml\u001b[0m \u001b[0;34m=\u001b[0m \u001b[0;34m[\u001b[0m\u001b[0;36m1\u001b[0m\u001b[0;34m,\u001b[0m\u001b[0;36m4\u001b[0m\u001b[0;34m,\u001b[0m\u001b[0;36m7\u001b[0m\u001b[0;34m,\u001b[0m\u001b[0;36m2\u001b[0m\u001b[0;34m,\u001b[0m\u001b[0;36m5\u001b[0m\u001b[0;34m,\u001b[0m\u001b[0;36m8\u001b[0m\u001b[0;34m,\u001b[0m\u001b[0;36m3\u001b[0m\u001b[0;34m,\u001b[0m\u001b[0;36m6\u001b[0m\u001b[0;34m,\u001b[0m\u001b[0;36m9\u001b[0m\u001b[0;34m]\u001b[0m\u001b[0;34m\u001b[0m\u001b[0;34m\u001b[0m\u001b[0m\n\u001b[0;32m----> 2\u001b[0;31m \u001b[0ml\u001b[0m\u001b[0;34m.\u001b[0m\u001b[0mreverse\u001b[0m\u001b[0;34m(\u001b[0m\u001b[0ml\u001b[0m\u001b[0;34m.\u001b[0m\u001b[0msort\u001b[0m\u001b[0;34m(\u001b[0m\u001b[0;34m)\u001b[0m\u001b[0;34m)\u001b[0m\u001b[0;34m\u001b[0m\u001b[0;34m\u001b[0m\u001b[0m\n\u001b[0m\u001b[1;32m      3\u001b[0m \u001b[0mprint\u001b[0m\u001b[0;34m(\u001b[0m\u001b[0ml\u001b[0m\u001b[0;34m)\u001b[0m\u001b[0;34m\u001b[0m\u001b[0;34m\u001b[0m\u001b[0m\n",
            "\u001b[0;31mTypeError\u001b[0m: reverse() takes no arguments (1 given)"
          ],
          "ename": "TypeError",
          "evalue": "reverse() takes no arguments (1 given)",
          "output_type": "error"
        }
      ]
    },
    {
      "cell_type": "code",
      "metadata": {
        "id": "Qfiekg1gnypT",
        "outputId": "034ce6fe-1cf5-4077-9f56-909fe536c51a"
      },
      "source": [
        "help(list.reverse)"
      ],
      "id": "Qfiekg1gnypT",
      "execution_count": null,
      "outputs": [
        {
          "name": "stdout",
          "text": "Help on method_descriptor:\n\nreverse(self, /)\n    Reverse *IN PLACE*.\n\n",
          "output_type": "stream"
        }
      ]
    },
    {
      "cell_type": "code",
      "metadata": {
        "id": "06EmF6hznypV",
        "outputId": "a13133b6-9284-4464-ee99-e923717fdbd5"
      },
      "source": [
        "#pop: can be used to delete the data from last location by default, returns deleted element value, if list is empty returns error\n",
        "print(l.pop())\n",
        "l16 = []\n",
        "l16.pop()"
      ],
      "id": "06EmF6hznypV",
      "execution_count": null,
      "outputs": [
        {
          "name": "stdout",
          "text": "6\n",
          "output_type": "stream"
        },
        {
          "traceback": [
            "\u001b[0;31m---------------------------------------------------------------------------\u001b[0m",
            "\u001b[0;31mIndexError\u001b[0m                                Traceback (most recent call last)",
            "\u001b[0;32m<ipython-input-97-b09dae9b0906>\u001b[0m in \u001b[0;36m<module>\u001b[0;34m\u001b[0m\n\u001b[1;32m      2\u001b[0m \u001b[0mprint\u001b[0m\u001b[0;34m(\u001b[0m\u001b[0ml\u001b[0m\u001b[0;34m.\u001b[0m\u001b[0mpop\u001b[0m\u001b[0;34m(\u001b[0m\u001b[0;34m)\u001b[0m\u001b[0;34m)\u001b[0m\u001b[0;34m\u001b[0m\u001b[0;34m\u001b[0m\u001b[0m\n\u001b[1;32m      3\u001b[0m \u001b[0ml16\u001b[0m \u001b[0;34m=\u001b[0m \u001b[0;34m[\u001b[0m\u001b[0;34m]\u001b[0m\u001b[0;34m\u001b[0m\u001b[0;34m\u001b[0m\u001b[0m\n\u001b[0;32m----> 4\u001b[0;31m \u001b[0ml16\u001b[0m\u001b[0;34m.\u001b[0m\u001b[0mpop\u001b[0m\u001b[0;34m(\u001b[0m\u001b[0;34m)\u001b[0m\u001b[0;34m\u001b[0m\u001b[0;34m\u001b[0m\u001b[0m\n\u001b[0m",
            "\u001b[0;31mIndexError\u001b[0m: pop from empty list"
          ],
          "ename": "IndexError",
          "evalue": "pop from empty list",
          "output_type": "error"
        }
      ]
    },
    {
      "cell_type": "code",
      "metadata": {
        "id": "C9Iiy5L-nypW",
        "outputId": "c31a666a-381a-4097-8f0b-bb7b55141d55"
      },
      "source": [
        "print(l)\n",
        "l.pop(2)\n",
        "print(l)"
      ],
      "id": "C9Iiy5L-nypW",
      "execution_count": null,
      "outputs": [
        {
          "name": "stdout",
          "text": "[1, 2, 5, 1, 2, 3, 5, 4]\n[1, 2, 1, 2, 3, 5, 4]\n",
          "output_type": "stream"
        }
      ]
    },
    {
      "cell_type": "code",
      "metadata": {
        "id": "_h2ciW2ynypX",
        "outputId": "ae600a33-34b7-41e8-d6ec-dc71451c5daf"
      },
      "source": [
        "#remove: REmove specific element, if key is not avaialable valueError will be produced\n",
        "print(l)\n",
        "print(l.remove(2))\n"
      ],
      "id": "_h2ciW2ynypX",
      "execution_count": null,
      "outputs": [
        {
          "name": "stdout",
          "text": "[1, 7, 5, 2, 4, 8]\nNone\n",
          "output_type": "stream"
        }
      ]
    },
    {
      "cell_type": "code",
      "metadata": {
        "id": "UtwkouTPnypX",
        "outputId": "6aea9b23-f34b-4d43-a22c-e0a9778a650b"
      },
      "source": [
        "print(l)\n",
        "l.remove(15)"
      ],
      "id": "UtwkouTPnypX",
      "execution_count": null,
      "outputs": [
        {
          "name": "stdout",
          "text": "[1, 7, 5, 4, 8]\n",
          "output_type": "stream"
        },
        {
          "traceback": [
            "\u001b[0;31m---------------------------------------------------------------------------\u001b[0m",
            "\u001b[0;31mValueError\u001b[0m                                Traceback (most recent call last)",
            "\u001b[0;32m<ipython-input-101-873ae76776db>\u001b[0m in \u001b[0;36m<module>\u001b[0;34m\u001b[0m\n\u001b[1;32m      1\u001b[0m \u001b[0mprint\u001b[0m\u001b[0;34m(\u001b[0m\u001b[0ml\u001b[0m\u001b[0;34m)\u001b[0m\u001b[0;34m\u001b[0m\u001b[0;34m\u001b[0m\u001b[0m\n\u001b[0;32m----> 2\u001b[0;31m \u001b[0ml\u001b[0m\u001b[0;34m.\u001b[0m\u001b[0mremove\u001b[0m\u001b[0;34m(\u001b[0m\u001b[0;36m15\u001b[0m\u001b[0;34m)\u001b[0m\u001b[0;34m\u001b[0m\u001b[0;34m\u001b[0m\u001b[0m\n\u001b[0m",
            "\u001b[0;31mValueError\u001b[0m: list.remove(x): x not in list"
          ],
          "ename": "ValueError",
          "evalue": "list.remove(x): x not in list",
          "output_type": "error"
        }
      ]
    },
    {
      "cell_type": "code",
      "metadata": {
        "id": "KBK4HcSdnypY",
        "outputId": "cdefb6f5-4ae9-4a2f-f92e-4d782aad106a"
      },
      "source": [
        "l = [1,2,4,5,1,2,3,5,4]\n",
        "print(l)\n",
        "l.remove(4) #The first occurance of 4 will be removed\n",
        "print(l)"
      ],
      "id": "KBK4HcSdnypY",
      "execution_count": null,
      "outputs": [
        {
          "name": "stdout",
          "text": "[1, 2, 4, 5, 1, 2, 3, 5, 4]\n[1, 2, 5, 1, 2, 3, 5, 4]\n",
          "output_type": "stream"
        }
      ]
    },
    {
      "cell_type": "code",
      "metadata": {
        "id": "czI0My2xnypZ",
        "outputId": "cb7e0c9a-6a3e-4c01-a665-66d679c35551"
      },
      "source": [
        "#clear: used to clear all the list of elements\n",
        "print(l)\n",
        "l.clear()\n",
        "print(l)"
      ],
      "id": "czI0My2xnypZ",
      "execution_count": null,
      "outputs": [
        {
          "name": "stdout",
          "text": "[1, 2, 1, 2, 3, 5, 4]\n[]\n",
          "output_type": "stream"
        }
      ]
    },
    {
      "cell_type": "code",
      "metadata": {
        "id": "XevHkAuOnypa"
      },
      "source": [
        "Tuple: ()\n",
        "    1. Tuple is ordered, immutable collection of data elements\n",
        "    2. Type of elements may be of\n",
        "        1. same type\n",
        "        2. different types\n",
        "    3. How to declare:\n",
        "        1. using () -> prepares empty tuple [Useless]\n",
        "        2. using (v1,v2,v3,....,vN)\n",
        "        3. using tuple()\n",
        "        4. using variableName = list of elements\n",
        "    4. Is tuple allows you to place duplicate data?\n",
        "        -> Yes,\n",
        "    5. Tuple doesnot allow you to modify existing element[Immutable]\n",
        "    6. Accessing tuple data:\n",
        "        1. Indexing\n",
        "        2. Slicing\n",
        "    7. Basic operations:\n",
        "        -> min, max, len, enumerate..etc\n",
        "    8. List of built-in methods:\n",
        "        1. dir(tuple)\n",
        "        2. dir(tuple.mathodName)"
      ],
      "id": "XevHkAuOnypa",
      "execution_count": null,
      "outputs": []
    },
    {
      "cell_type": "code",
      "metadata": {
        "id": "feSRG7RWnypb",
        "outputId": "6a207691-8549-460a-e6e5-7adc19214343"
      },
      "source": [
        "t1 = ('A',100,98.6,89+65j,\"Jeevan\",[1,2,3],(7,8,9,10))\n",
        "print(t1)\n",
        "\n",
        "t2 = tuple(\"Tanmay\")\n",
        "print(t2)\n",
        "\n",
        "t3 = tuple([1,2,3,4,5,6,])\n",
        "print(t3)\n",
        "\n",
        "t4 = 1,2,3\n",
        "print(t4)"
      ],
      "id": "feSRG7RWnypb",
      "execution_count": null,
      "outputs": [
        {
          "name": "stdout",
          "text": "('A', 100, 98.6, (89+65j), 'Jeevan', [1, 2, 3], (7, 8, 9, 10))\n('T', 'a', 'n', 'm', 'a', 'y')\n(1, 2, 3, 4, 5, 6)\n(1, 2, 3)\n",
          "output_type": "stream"
        }
      ]
    },
    {
      "cell_type": "code",
      "metadata": {
        "id": "hLxSVvsdnypb",
        "outputId": "826efc48-9781-46c5-ad15-871964c94a47"
      },
      "source": [
        "#Prepare a code to print tuple data along with its type\n",
        "for x in t1:\n",
        "    print(x,\"===>\",type(x))"
      ],
      "id": "hLxSVvsdnypb",
      "execution_count": null,
      "outputs": [
        {
          "name": "stdout",
          "text": "A ===> <class 'str'>\n100 ===> <class 'int'>\n98.6 ===> <class 'float'>\n(89+65j) ===> <class 'complex'>\nJeevan ===> <class 'str'>\n[1, 2, 3] ===> <class 'list'>\n(7, 8, 9, 10) ===> <class 'tuple'>\n",
          "output_type": "stream"
        }
      ]
    },
    {
      "cell_type": "code",
      "metadata": {
        "id": "5JWRVZ_Znypd",
        "outputId": "c21b456f-bdd2-41f3-dcac-40462c6ac9c8"
      },
      "source": [
        "print(t3)\n",
        "print(t3[4])\n",
        "t3[5] = 50\n",
        "print(t3)"
      ],
      "id": "5JWRVZ_Znypd",
      "execution_count": null,
      "outputs": [
        {
          "name": "stdout",
          "text": "(1, 2, 3, 4, 5, 6)\n5\n",
          "output_type": "stream"
        },
        {
          "traceback": [
            "\u001b[0;31m---------------------------------------------------------------------------\u001b[0m",
            "\u001b[0;31mTypeError\u001b[0m                                 Traceback (most recent call last)",
            "\u001b[0;32m<ipython-input-112-1032a5ac0df9>\u001b[0m in \u001b[0;36m<module>\u001b[0;34m\u001b[0m\n\u001b[1;32m      1\u001b[0m \u001b[0mprint\u001b[0m\u001b[0;34m(\u001b[0m\u001b[0mt3\u001b[0m\u001b[0;34m)\u001b[0m\u001b[0;34m\u001b[0m\u001b[0;34m\u001b[0m\u001b[0m\n\u001b[1;32m      2\u001b[0m \u001b[0mprint\u001b[0m\u001b[0;34m(\u001b[0m\u001b[0mt3\u001b[0m\u001b[0;34m[\u001b[0m\u001b[0;36m4\u001b[0m\u001b[0;34m]\u001b[0m\u001b[0;34m)\u001b[0m\u001b[0;34m\u001b[0m\u001b[0;34m\u001b[0m\u001b[0m\n\u001b[0;32m----> 3\u001b[0;31m \u001b[0mt3\u001b[0m\u001b[0;34m[\u001b[0m\u001b[0;36m5\u001b[0m\u001b[0;34m]\u001b[0m \u001b[0;34m=\u001b[0m \u001b[0;36m50\u001b[0m\u001b[0;34m\u001b[0m\u001b[0;34m\u001b[0m\u001b[0m\n\u001b[0m\u001b[1;32m      4\u001b[0m \u001b[0mprint\u001b[0m\u001b[0;34m(\u001b[0m\u001b[0mt3\u001b[0m\u001b[0;34m)\u001b[0m\u001b[0;34m\u001b[0m\u001b[0;34m\u001b[0m\u001b[0m\n",
            "\u001b[0;31mTypeError\u001b[0m: 'tuple' object does not support item assignment"
          ],
          "ename": "TypeError",
          "evalue": "'tuple' object does not support item assignment",
          "output_type": "error"
        }
      ]
    },
    {
      "cell_type": "code",
      "metadata": {
        "id": "wfLNmrJunype",
        "outputId": "94dafa68-f4a6-4876-d12a-302d9dc161a3"
      },
      "source": [
        "print(t1)"
      ],
      "id": "wfLNmrJunype",
      "execution_count": null,
      "outputs": [
        {
          "name": "stdout",
          "text": "('A', 100, 98.6, (89+65j), 'Jeevan', [1, 2, 3], (7, 8, 9, 10))\n",
          "output_type": "stream"
        }
      ]
    },
    {
      "cell_type": "code",
      "metadata": {
        "id": "up1UjSGpnypf",
        "outputId": "8bcddc87-d1af-485d-f38b-e2dfb890d5d7"
      },
      "source": [
        "print(t1[5])\n",
        "t1[5][2] = 300\n",
        "print(t1[5])\n",
        "#NOte: Inside the tuple, list is the element so, because of list is mutable we can modify list data but you cannot modify the index\n",
        "#value of list"
      ],
      "id": "up1UjSGpnypf",
      "execution_count": null,
      "outputs": [
        {
          "name": "stdout",
          "text": "[1, 2, 3]\n[1, 2, 300]\n",
          "output_type": "stream"
        }
      ]
    },
    {
      "cell_type": "code",
      "metadata": {
        "id": "ezutV6TJnyph",
        "outputId": "974d8f85-edfc-4762-94a6-b7e96c3c4360"
      },
      "source": [
        "print(t1)"
      ],
      "id": "ezutV6TJnyph",
      "execution_count": null,
      "outputs": [
        {
          "name": "stdout",
          "text": "('A', 100, 98.6, (89+65j), 'Jeevan', [1, 2, 300], (7, 8, 9, 10))\n",
          "output_type": "stream"
        }
      ]
    },
    {
      "cell_type": "code",
      "metadata": {
        "id": "CFIpUOvLnypv",
        "outputId": "2d16760b-b101-4191-c967-6f6fed5bc13a"
      },
      "source": [
        "t1[5] = 500"
      ],
      "id": "CFIpUOvLnypv",
      "execution_count": null,
      "outputs": [
        {
          "traceback": [
            "\u001b[0;31m---------------------------------------------------------------------------\u001b[0m",
            "\u001b[0;31mTypeError\u001b[0m                                 Traceback (most recent call last)",
            "\u001b[0;32m<ipython-input-118-29893628e66f>\u001b[0m in \u001b[0;36m<module>\u001b[0;34m\u001b[0m\n\u001b[0;32m----> 1\u001b[0;31m \u001b[0mt1\u001b[0m\u001b[0;34m[\u001b[0m\u001b[0;36m5\u001b[0m\u001b[0;34m]\u001b[0m \u001b[0;34m=\u001b[0m \u001b[0;36m500\u001b[0m\u001b[0;34m\u001b[0m\u001b[0;34m\u001b[0m\u001b[0m\n\u001b[0m",
            "\u001b[0;31mTypeError\u001b[0m: 'tuple' object does not support item assignment"
          ],
          "ename": "TypeError",
          "evalue": "'tuple' object does not support item assignment",
          "output_type": "error"
        }
      ]
    },
    {
      "cell_type": "code",
      "metadata": {
        "id": "ngxQEWZOnypw",
        "outputId": "426bbf74-fdd1-4cef-ccab-75da70f07669"
      },
      "source": [
        "print(dir(tuple))"
      ],
      "id": "ngxQEWZOnypw",
      "execution_count": null,
      "outputs": [
        {
          "name": "stdout",
          "text": "['__add__', '__class__', '__contains__', '__delattr__', '__dir__', '__doc__', '__eq__', '__format__', '__ge__', '__getattribute__', '__getitem__', '__getnewargs__', '__gt__', '__hash__', '__init__', '__init_subclass__', '__iter__', '__le__', '__len__', '__lt__', '__mul__', '__ne__', '__new__', '__reduce__', '__reduce_ex__', '__repr__', '__rmul__', '__setattr__', '__sizeof__', '__str__', '__subclasshook__', 'count', 'index']\n",
          "output_type": "stream"
        }
      ]
    },
    {
      "cell_type": "code",
      "metadata": {
        "id": "rDt1SWMRnyp0",
        "outputId": "b1cf279f-80d9-4cb9-b66e-feade8466d43"
      },
      "source": [
        "#COunt: Used to get number of occurances of variable\n",
        "t = (1,2,4,5,2,3,2,18,2,51,2,6,5,1,2,22,22)\n",
        "print(t)\n",
        "print(t.count(2))\n",
        "#Index: Used to get the index value of the element\n",
        "print(t.index(5))"
      ],
      "id": "rDt1SWMRnyp0",
      "execution_count": null,
      "outputs": [
        {
          "name": "stdout",
          "text": "(1, 2, 4, 5, 2, 3, 2, 18, 2, 51, 2, 6, 5, 1, 2, 22, 22)\n6\n3\n",
          "output_type": "stream"
        }
      ]
    },
    {
      "cell_type": "code",
      "metadata": {
        "id": "ipwHKxANnyp1"
      },
      "source": [
        "Set:\n",
        "    1. **Def: Set is an unordered collection of data elements those data elements may be of same type or different.\n",
        "    2. Becuase of onorderd, it doesnot support indexing and slicing\n",
        "    3. Set is immutable, means once you place the data that cannot be changed, but you can add / remove new element\n",
        "    4. How to declare set:\n",
        "        1. using {v1,v2,v3,...,vN} -> Prepares list of elements into set\n",
        "        2. using set() -> prepares empty set\n",
        "    5. **Duplicate elements shall not be stored inside the set\n",
        "    6. How can access set data:\n",
        "        -> Loops [Individual]\n",
        "        -> Using name of the set [Whole]\n",
        "    6. Purpose of using set:\n",
        "        -> Mathematical operations\n",
        "    7. Built-in methods of set:\n",
        "        "
      ],
      "id": "ipwHKxANnyp1",
      "execution_count": null,
      "outputs": []
    },
    {
      "cell_type": "code",
      "metadata": {
        "trusted": true,
        "id": "hP-6Q--Xnyp6",
        "outputId": "da69d16a-7cad-428a-d599-a7451c31d821"
      },
      "source": [
        "s1 = {'A',100,98.6,5+6j,\"Jeevan\",(7,8,9)}\n",
        "print(s1)\n",
        "\n",
        "s2 = set(\"Jeevan\")\n",
        "print(s2)\n",
        "\n",
        "s3 = set((1,2,3,4,5,6,2,1,3,5,4,1,6,8))\n",
        "print(s3)\n",
        "\n",
        "s4 = set()\n",
        "s5 = {} #Prepares empty dict\n",
        "print(s4,s5,type(s4),type(s5))"
      ],
      "id": "hP-6Q--Xnyp6",
      "execution_count": null,
      "outputs": [
        {
          "name": "stdout",
          "text": "{98.6, 'Jeevan', 100, (7, 8, 9), 'A', (5+6j)}\n{'a', 'v', 'e', 'n', 'J'}\n{1, 2, 3, 4, 5, 6, 8}\nset() {} <class 'set'> <class 'dict'>\n",
          "output_type": "stream"
        }
      ]
    },
    {
      "cell_type": "code",
      "metadata": {
        "trusted": true,
        "id": "fztfVjmMnyp7",
        "outputId": "e3aa1d73-b2d4-4eb9-8a88-d421bcf3ed64"
      },
      "source": [
        "for s in s1:\n",
        "    print(s)"
      ],
      "id": "fztfVjmMnyp7",
      "execution_count": null,
      "outputs": [
        {
          "name": "stdout",
          "text": "98.6\nJeevan\n100\n(7, 8, 9)\nA\n(5+6j)\n",
          "output_type": "stream"
        }
      ]
    },
    {
      "cell_type": "code",
      "metadata": {
        "trusted": true,
        "id": "FiMCvJMsnyp8",
        "outputId": "ad825a61-c7c8-4e49-8e4c-9e1d6d4cd391"
      },
      "source": [
        "print(dir(set))"
      ],
      "id": "FiMCvJMsnyp8",
      "execution_count": null,
      "outputs": [
        {
          "name": "stdout",
          "text": "['__and__', '__class__', '__contains__', '__delattr__', '__dir__', '__doc__', '__eq__', '__format__', '__ge__', '__getattribute__', '__gt__', '__hash__', '__iand__', '__init__', '__init_subclass__', '__ior__', '__isub__', '__iter__', '__ixor__', '__le__', '__len__', '__lt__', '__ne__', '__new__', '__or__', '__rand__', '__reduce__', '__reduce_ex__', '__repr__', '__ror__', '__rsub__', '__rxor__', '__setattr__', '__sizeof__', '__str__', '__sub__', '__subclasshook__', '__xor__', 'add', 'clear', 'copy', 'difference', 'difference_update', 'discard', 'intersection', 'intersection_update', 'isdisjoint', 'issubset', 'issuperset', 'pop', 'remove', 'symmetric_difference', 'symmetric_difference_update', 'union', 'update']\n",
          "output_type": "stream"
        }
      ]
    },
    {
      "cell_type": "code",
      "metadata": {
        "trusted": true,
        "id": "y5dIXaVvnyp9",
        "outputId": "3a47b34b-4226-4102-8d33-26a1eb4369d7"
      },
      "source": [
        "print(s4)\n",
        "s4.add(100) #add: used to add element into set\n",
        "print(s4)"
      ],
      "id": "y5dIXaVvnyp9",
      "execution_count": null,
      "outputs": [
        {
          "name": "stdout",
          "text": "set()\n{100}\n",
          "output_type": "stream"
        }
      ]
    },
    {
      "cell_type": "code",
      "metadata": {
        "trusted": true,
        "id": "97S1Vs3Vnyp-",
        "outputId": "1dd3afb6-a38e-4a25-8408-1377c51c746d"
      },
      "source": [
        "s1 = {1,2,3,4,5}\n",
        "s2 = {9,8,7,6,5}\n",
        "print(s1-s2) #Only unique elements of s1 will be given\n",
        "print(s1.difference(s2))\n",
        "print(s2-s1)#Only unique elements of s2 will be given\n",
        "print(s2.difference(s1))"
      ],
      "id": "97S1Vs3Vnyp-",
      "execution_count": null,
      "outputs": [
        {
          "name": "stdout",
          "text": "{1, 2, 3, 4}\n{1, 2, 3, 4}\n{8, 9, 6, 7}\n{8, 9, 6, 7}\n",
          "output_type": "stream"
        }
      ]
    },
    {
      "cell_type": "code",
      "metadata": {
        "trusted": true,
        "id": "Rxfj3jiRnyp-",
        "outputId": "93c9acea-cbc0-4b44-b7ca-1ac080a029ec"
      },
      "source": [
        "s3 = s1.difference_update(s2)#difference_update will return None value\n",
        "print(s3)"
      ],
      "id": "Rxfj3jiRnyp-",
      "execution_count": null,
      "outputs": [
        {
          "name": "stdout",
          "text": "None\n",
          "output_type": "stream"
        }
      ]
    },
    {
      "cell_type": "code",
      "metadata": {
        "trusted": true,
        "id": "adLDlP4NnyqM",
        "outputId": "ee8830f8-3ca8-48d0-dcaa-40828b378a86"
      },
      "source": [
        "print(s1)"
      ],
      "id": "adLDlP4NnyqM",
      "execution_count": null,
      "outputs": [
        {
          "name": "stdout",
          "text": "{1, 2, 3, 4}\n",
          "output_type": "stream"
        }
      ]
    },
    {
      "cell_type": "code",
      "metadata": {
        "trusted": true,
        "id": "MTRD9ZG-nyqN",
        "outputId": "3ee7a60f-7c58-42be-92c9-53ae2c568055"
      },
      "source": [
        "s1 = {1,2,3,4,5,6,7,8}\n",
        "s2 = {9,8,7,6,5,4,3,2}\n",
        "print(s1.intersection(s2)) #COmmon elements in s1 and s2\n",
        "print(s2.intersection(s1))"
      ],
      "id": "MTRD9ZG-nyqN",
      "execution_count": null,
      "outputs": [
        {
          "name": "stdout",
          "text": "{2, 3, 4, 5, 6, 7, 8}\n{2, 3, 4, 5, 6, 7, 8}\n",
          "output_type": "stream"
        }
      ]
    },
    {
      "cell_type": "code",
      "metadata": {
        "trusted": true,
        "id": "9Q2UmgLPnyqO",
        "outputId": "28f30d25-fa67-4cf9-c926-e45d98be1333"
      },
      "source": [
        "print(s2)\n",
        "s2.intersection_update(s1) #s2 will be updated by using common elements [Intersection] of s1 and s2\n",
        "print(s2)"
      ],
      "id": "9Q2UmgLPnyqO",
      "execution_count": null,
      "outputs": [
        {
          "name": "stdout",
          "text": "{2, 3, 4, 5, 6, 7, 8, 9}\n{2, 3, 4, 5, 6, 7, 8}\n",
          "output_type": "stream"
        }
      ]
    },
    {
      "cell_type": "code",
      "metadata": {
        "trusted": true,
        "id": "2Vw2xZO8nyqP",
        "outputId": "1e72e540-b1e4-492a-ffcf-ad355fe474db"
      },
      "source": [
        "help(set.isdisjoint)"
      ],
      "id": "2Vw2xZO8nyqP",
      "execution_count": null,
      "outputs": [
        {
          "name": "stdout",
          "text": "Help on method_descriptor:\n\nisdisjoint(...)\n    Return True if two sets have a null intersection.\n\n",
          "output_type": "stream"
        }
      ]
    },
    {
      "cell_type": "code",
      "metadata": {
        "trusted": true,
        "id": "It1LpSpVnyqP",
        "outputId": "bbbc8b83-4a52-4ffb-c220-8a856a24fcb3"
      },
      "source": [
        "s1 = {1,2,3,4,5}\n",
        "s2 = {9,8,7,6}\n",
        "print(s1.intersection(s2))"
      ],
      "id": "It1LpSpVnyqP",
      "execution_count": null,
      "outputs": [
        {
          "name": "stdout",
          "text": "set()\n",
          "output_type": "stream"
        }
      ]
    },
    {
      "cell_type": "code",
      "metadata": {
        "trusted": true,
        "id": "mtH6xfsPnyqQ",
        "outputId": "ca6f15ed-6fef-4917-eb33-302249886a06"
      },
      "source": [
        "s1.isdisjoint(s2) #returns true if there are any common elements, Otherwise false"
      ],
      "id": "mtH6xfsPnyqQ",
      "execution_count": null,
      "outputs": [
        {
          "execution_count": 21,
          "output_type": "execute_result",
          "data": {
            "text/plain": "True"
          },
          "metadata": {}
        }
      ]
    },
    {
      "cell_type": "code",
      "metadata": {
        "trusted": true,
        "id": "BSejUr7RnyqR",
        "outputId": "dfb756c3-60b4-4598-c849-294f7eb9c790"
      },
      "source": [
        "s1 = {1,2,3,4,5}\n",
        "s2 = {9,8,7,6,5}\n",
        "print(s1.intersection(s2))\n",
        "print(s1.isdisjoint(s2))"
      ],
      "id": "BSejUr7RnyqR",
      "execution_count": null,
      "outputs": [
        {
          "name": "stdout",
          "text": "{5}\nFalse\n",
          "output_type": "stream"
        }
      ]
    },
    {
      "cell_type": "code",
      "metadata": {
        "trusted": true,
        "id": "x8tMsyIAnyqR",
        "outputId": "4f2a9cf7-bcac-4080-e17d-6e35157041ca"
      },
      "source": [
        "print(dir(set))"
      ],
      "id": "x8tMsyIAnyqR",
      "execution_count": null,
      "outputs": [
        {
          "name": "stdout",
          "text": "['__and__', '__class__', '__contains__', '__delattr__', '__dir__', '__doc__', '__eq__', '__format__', '__ge__', '__getattribute__', '__gt__', '__hash__', '__iand__', '__init__', '__init_subclass__', '__ior__', '__isub__', '__iter__', '__ixor__', '__le__', '__len__', '__lt__', '__ne__', '__new__', '__or__', '__rand__', '__reduce__', '__reduce_ex__', '__repr__', '__ror__', '__rsub__', '__rxor__', '__setattr__', '__sizeof__', '__str__', '__sub__', '__subclasshook__', '__xor__', 'add', 'clear', 'copy', 'difference', 'difference_update', 'discard', 'intersection', 'intersection_update', 'isdisjoint', 'issubset', 'issuperset', 'pop', 'remove', 'symmetric_difference', 'symmetric_difference_update', 'union', 'update']\n",
          "output_type": "stream"
        }
      ]
    },
    {
      "cell_type": "code",
      "metadata": {
        "trusted": true,
        "id": "r6rRmtpdnyqS",
        "outputId": "44ae82b0-84d5-4b26-915e-31bfeb6f53c8"
      },
      "source": [
        "s1 = {1,2,3}\n",
        "s3 = {9,6,3,8,5,2,7,4,1}\n",
        "print(s1.intersection(s3))"
      ],
      "id": "r6rRmtpdnyqS",
      "execution_count": null,
      "outputs": [
        {
          "name": "stdout",
          "text": "{1, 2, 3}\n",
          "output_type": "stream"
        }
      ]
    },
    {
      "cell_type": "code",
      "metadata": {
        "trusted": true,
        "id": "UXYSwF3BnyqT",
        "outputId": "9b2f5dda-9445-4266-a4fb-9cc84312f317"
      },
      "source": [
        "print(s1.issubset(s3)) #ALl the elements of s1 are available in s3\n",
        "print(s3.issuperset(s1))"
      ],
      "id": "UXYSwF3BnyqT",
      "execution_count": null,
      "outputs": [
        {
          "name": "stdout",
          "text": "True\nTrue\n",
          "output_type": "stream"
        }
      ]
    },
    {
      "cell_type": "code",
      "metadata": {
        "trusted": true,
        "id": "J7rIiyL2nyqT",
        "outputId": "758f3aea-cf11-42ac-ea4c-73e39366c400"
      },
      "source": [
        "print(s1.symmetric_difference(s3)) #Unique elements of s1 and s3, dont prints elements which are common"
      ],
      "id": "J7rIiyL2nyqT",
      "execution_count": null,
      "outputs": [
        {
          "name": "stdout",
          "text": "{4, 5, 6, 7, 8, 9}\n",
          "output_type": "stream"
        }
      ]
    },
    {
      "cell_type": "code",
      "metadata": {
        "trusted": true,
        "id": "7OfWNYYZnyqU",
        "outputId": "4431223c-595a-4568-ad7b-d0e565eb0795"
      },
      "source": [
        "s1.symmetric_difference_update(s3)\n",
        "print(s1)"
      ],
      "id": "7OfWNYYZnyqU",
      "execution_count": null,
      "outputs": [
        {
          "name": "stdout",
          "text": "{4, 5, 6, 7, 8, 9}\n",
          "output_type": "stream"
        }
      ]
    },
    {
      "cell_type": "code",
      "metadata": {
        "trusted": true,
        "id": "K592nq8cnyqV",
        "outputId": "836241c2-5d74-4a50-aa92-2e5bfeb6c201"
      },
      "source": [
        "s1 = {1,2,3,4,5,6,7,8}\n",
        "s2 = {7,4,1,8,5,2,9,6,3}\n",
        "print(s1.union(s2)) #All the elements of s1, s2 will display [Common elements will be displays only one time]"
      ],
      "id": "K592nq8cnyqV",
      "execution_count": null,
      "outputs": [
        {
          "name": "stdout",
          "text": "{1, 2, 3, 4, 5, 6, 7, 8, 9}\n",
          "output_type": "stream"
        }
      ]
    },
    {
      "cell_type": "code",
      "metadata": {
        "id": "2qfQA_DpnyqW"
      },
      "source": [
        "intersection: Common elements\n",
        "union: intersection + symmetric_difference\n",
        "symmetric_difference: Uncommon elements [Opposite to intersection]"
      ],
      "id": "2qfQA_DpnyqW",
      "execution_count": null,
      "outputs": []
    },
    {
      "cell_type": "code",
      "metadata": {
        "trusted": true,
        "id": "zTJurhwtnyqW",
        "outputId": "e3aca50c-5c06-4bd9-e91b-fe6f0fbaf498"
      },
      "source": [
        "#discard\n",
        "print(s2)\n",
        "s2.discard(4)\n",
        "print(s2)"
      ],
      "id": "zTJurhwtnyqW",
      "execution_count": null,
      "outputs": [
        {
          "name": "stdout",
          "text": "{1, 2, 3, 4, 5, 6, 7, 8, 9}\n{1, 2, 3, 5, 6, 7, 8, 9}\n",
          "output_type": "stream"
        }
      ]
    },
    {
      "cell_type": "code",
      "metadata": {
        "trusted": true,
        "id": "JI2Qg-I9nyqX",
        "outputId": "76c18a69-1aa2-40c5-a7d3-2c3021ef090a"
      },
      "source": [
        "print(s2.discard(10)) #If element is not available returns None"
      ],
      "id": "JI2Qg-I9nyqX",
      "execution_count": null,
      "outputs": [
        {
          "name": "stdout",
          "text": "None\n",
          "output_type": "stream"
        }
      ]
    },
    {
      "cell_type": "code",
      "metadata": {
        "trusted": true,
        "id": "bR32JQ_YnyqY",
        "outputId": "5aa5d1f7-8e45-4298-f803-37e2055a52e2"
      },
      "source": [
        "#pop:\n",
        "print(s2.pop())"
      ],
      "id": "bR32JQ_YnyqY",
      "execution_count": null,
      "outputs": [
        {
          "name": "stdout",
          "text": "1\n",
          "output_type": "stream"
        }
      ]
    },
    {
      "cell_type": "code",
      "metadata": {
        "trusted": true,
        "id": "l8hyWOUjnyqY",
        "outputId": "c3ed7e50-2f54-4b5b-dc35-eafd5a09d120"
      },
      "source": [
        "help(set.pop)"
      ],
      "id": "l8hyWOUjnyqY",
      "execution_count": null,
      "outputs": [
        {
          "name": "stdout",
          "text": "Help on method_descriptor:\n\npop(...)\n    Remove and return an arbitrary set element.\n    Raises KeyError if the set is empty.\n\n",
          "output_type": "stream"
        }
      ]
    },
    {
      "cell_type": "code",
      "metadata": {
        "trusted": true,
        "id": "BVfql6lgnyqb",
        "outputId": "d028148e-9823-4d22-a73a-1c00adc56e8e"
      },
      "source": [
        "s1 = set()\n",
        "s1.pop() #Set need to contain list element(s)"
      ],
      "id": "BVfql6lgnyqb",
      "execution_count": null,
      "outputs": [
        {
          "traceback": [
            "\u001b[0;31m---------------------------------------------------------------------------\u001b[0m",
            "\u001b[0;31mKeyError\u001b[0m                                  Traceback (most recent call last)",
            "\u001b[0;32m<ipython-input-38-ca1d22e6ee62>\u001b[0m in \u001b[0;36m<module>\u001b[0;34m\u001b[0m\n\u001b[1;32m      1\u001b[0m \u001b[0ms1\u001b[0m \u001b[0;34m=\u001b[0m \u001b[0mset\u001b[0m\u001b[0;34m(\u001b[0m\u001b[0;34m)\u001b[0m\u001b[0;34m\u001b[0m\u001b[0;34m\u001b[0m\u001b[0m\n\u001b[0;32m----> 2\u001b[0;31m \u001b[0ms1\u001b[0m\u001b[0;34m.\u001b[0m\u001b[0mpop\u001b[0m\u001b[0;34m(\u001b[0m\u001b[0;34m)\u001b[0m\u001b[0;34m\u001b[0m\u001b[0;34m\u001b[0m\u001b[0m\n\u001b[0m",
            "\u001b[0;31mKeyError\u001b[0m: 'pop from an empty set'"
          ],
          "ename": "KeyError",
          "evalue": "'pop from an empty set'",
          "output_type": "error"
        }
      ]
    },
    {
      "cell_type": "code",
      "metadata": {
        "trusted": true,
        "id": "5pTI5FGfnyqe",
        "outputId": "8abbe4fa-6619-40c2-8335-ba25863702c8"
      },
      "source": [
        "#remove:\n",
        "s1 = {1,2,3,4,5}\n",
        "print(s1)\n",
        "s1.remove(5)\n",
        "print(s1)"
      ],
      "id": "5pTI5FGfnyqe",
      "execution_count": null,
      "outputs": [
        {
          "name": "stdout",
          "text": "{1, 2, 3, 4, 5}\n{1, 2, 3, 4}\n",
          "output_type": "stream"
        }
      ]
    },
    {
      "cell_type": "code",
      "metadata": {
        "trusted": true,
        "id": "9vntBIk5nyqf",
        "outputId": "77fe68ea-cad0-4059-b7bd-21b900978371"
      },
      "source": [
        "s1.remove(45) #if key is not available which returns KeyError"
      ],
      "id": "9vntBIk5nyqf",
      "execution_count": null,
      "outputs": [
        {
          "traceback": [
            "\u001b[0;31m---------------------------------------------------------------------------\u001b[0m",
            "\u001b[0;31mKeyError\u001b[0m                                  Traceback (most recent call last)",
            "\u001b[0;32m<ipython-input-40-1d28322d671d>\u001b[0m in \u001b[0;36m<module>\u001b[0;34m\u001b[0m\n\u001b[0;32m----> 1\u001b[0;31m \u001b[0ms1\u001b[0m\u001b[0;34m.\u001b[0m\u001b[0mremove\u001b[0m\u001b[0;34m(\u001b[0m\u001b[0;36m45\u001b[0m\u001b[0;34m)\u001b[0m\u001b[0;34m\u001b[0m\u001b[0;34m\u001b[0m\u001b[0m\n\u001b[0m",
            "\u001b[0;31mKeyError\u001b[0m: 45"
          ],
          "ename": "KeyError",
          "evalue": "45",
          "output_type": "error"
        }
      ]
    },
    {
      "cell_type": "code",
      "metadata": {
        "trusted": true,
        "id": "MksNwX1Znyqg",
        "outputId": "47f2e0d5-03be-46bd-d633-c6a9d6e10d26"
      },
      "source": [
        "#clear: used to remove all the elements from set\n",
        "print(s1)\n",
        "s1.clear()\n",
        "print(s1)"
      ],
      "id": "MksNwX1Znyqg",
      "execution_count": null,
      "outputs": [
        {
          "name": "stdout",
          "text": "{1, 2, 3, 4}\nset()\n",
          "output_type": "stream"
        }
      ]
    },
    {
      "cell_type": "code",
      "metadata": {
        "trusted": true,
        "id": "2qXgVFiNnyqj",
        "outputId": "f4e488da-860f-41a7-fa24-afbb0b9834f0"
      },
      "source": [
        "#Prepare a program which can prepare unique elements of the list into another list\n",
        "l = [1,2,3,4,5,6,7,8,9,9,6,3,8,5,2,7,4,1]\n",
        "l1 = []\n",
        "for x in l:\n",
        "    if x not in l1:\n",
        "        l1.append(x)\n",
        "print(l)\n",
        "print(l1)"
      ],
      "id": "2qXgVFiNnyqj",
      "execution_count": null,
      "outputs": [
        {
          "name": "stdout",
          "text": "[1, 2, 3, 4, 5, 6, 7, 8, 9, 9, 6, 3, 8, 5, 2, 7, 4, 1]\n[1, 2, 3, 4, 5, 6, 7, 8, 9]\n",
          "output_type": "stream"
        }
      ]
    },
    {
      "cell_type": "code",
      "metadata": {
        "trusted": true,
        "id": "Y5ZSGo5Tnyqk",
        "outputId": "eb00d5cc-4015-45ad-c580-54a20aa36177"
      },
      "source": [
        "#Prepare a program which can prepare unique elements of the list into another list\n",
        "l = [1,2,3,4,5,6,7,8,9,9,6,3,8,5,2,7,4,1]\n",
        "l1 = list(set(l))\n",
        "print(l)\n",
        "print(l1)"
      ],
      "id": "Y5ZSGo5Tnyqk",
      "execution_count": null,
      "outputs": [
        {
          "name": "stdout",
          "text": "[1, 2, 3, 4, 5, 6, 7, 8, 9, 9, 6, 3, 8, 5, 2, 7, 4, 1]\n[1, 2, 3, 4, 5, 6, 7, 8, 9]\n",
          "output_type": "stream"
        }
      ]
    },
    {
      "cell_type": "code",
      "metadata": {
        "id": "Fo4GQ50wnyql"
      },
      "source": [
        "Dictionary:\n",
        "    1. Def: Un-Ordered collection of data elements and each element was prepared with key and value pairs is known as a dictionary \n",
        "    2. How to declare dictionary:\n",
        "        1. using {} -> prepares empty dictionary\n",
        "        2. using {k1:v1, k2:v2, k3:v3, ..... , kN:vN} -> prepares a dictionary with elements\n",
        "        3. using dict()\n",
        "        4. By using predefined function: fromkeys()\n",
        "            **Note:\n",
        "                1. Value may be anything\n",
        "                2. Keyvalue: integer, float, complex, string, tuple\n",
        "                    Note: Unhashable types should not be places as key value in dictionary [List,Set,Dict]\n",
        "        5. Duplicate keys will allowed means, keys will be removed and new value will be updated into old location\n",
        "    3. How to access elements:\n",
        "        1. By using key values\n",
        "            Syntax:\n",
        "                dictName[keyValue]\n",
        "    4. Built-in methods:"
      ],
      "id": "Fo4GQ50wnyql",
      "execution_count": null,
      "outputs": []
    },
    {
      "cell_type": "code",
      "metadata": {
        "trusted": true,
        "id": "_AOFbLIRnyqm",
        "outputId": "a473cf80-c4d7-4e89-d62e-735dd3ec59bb"
      },
      "source": [
        "d1 = {}\n",
        "print(d1)\n",
        "\n",
        "d2 = {'Name':'Jeevan Kumar', 'Pro':'Corporate Trainer', 'Com':'CCC'}\n",
        "print(d2)"
      ],
      "id": "_AOFbLIRnyqm",
      "execution_count": null,
      "outputs": [
        {
          "name": "stdout",
          "text": "{}\n{'Name': 'Jeevan Kumar', 'Pro': 'Corporate Trainer', 'Com': 'CCC'}\n",
          "output_type": "stream"
        }
      ]
    },
    {
      "cell_type": "code",
      "metadata": {
        "trusted": true,
        "id": "Kp0XJKkfnyqm",
        "outputId": "cd588969-327a-400e-db66-47c624d22e0c"
      },
      "source": [
        "temp = {9.6:20,5+4j:'A', 30:98.6, {1:2}:6+6j, 50:[1,2,3], 60:(1,2,3), 70:{1,2,3}}\n",
        "print(temp)"
      ],
      "id": "Kp0XJKkfnyqm",
      "execution_count": null,
      "outputs": [
        {
          "traceback": [
            "\u001b[0;31m---------------------------------------------------------------------------\u001b[0m",
            "\u001b[0;31mTypeError\u001b[0m                                 Traceback (most recent call last)",
            "\u001b[0;32m<ipython-input-57-98c7e73844d3>\u001b[0m in \u001b[0;36m<module>\u001b[0;34m\u001b[0m\n\u001b[0;32m----> 1\u001b[0;31m \u001b[0mtemp\u001b[0m \u001b[0;34m=\u001b[0m \u001b[0;34m{\u001b[0m\u001b[0;36m9.6\u001b[0m\u001b[0;34m:\u001b[0m\u001b[0;36m20\u001b[0m\u001b[0;34m,\u001b[0m\u001b[0;36m5\u001b[0m\u001b[0;34m+\u001b[0m\u001b[0;36m4j\u001b[0m\u001b[0;34m:\u001b[0m\u001b[0;34m'A'\u001b[0m\u001b[0;34m,\u001b[0m \u001b[0;36m30\u001b[0m\u001b[0;34m:\u001b[0m\u001b[0;36m98.6\u001b[0m\u001b[0;34m,\u001b[0m \u001b[0;34m{\u001b[0m\u001b[0;36m1\u001b[0m\u001b[0;34m:\u001b[0m\u001b[0;36m2\u001b[0m\u001b[0;34m}\u001b[0m\u001b[0;34m:\u001b[0m\u001b[0;36m6\u001b[0m\u001b[0;34m+\u001b[0m\u001b[0;36m6j\u001b[0m\u001b[0;34m,\u001b[0m \u001b[0;36m50\u001b[0m\u001b[0;34m:\u001b[0m\u001b[0;34m[\u001b[0m\u001b[0;36m1\u001b[0m\u001b[0;34m,\u001b[0m\u001b[0;36m2\u001b[0m\u001b[0;34m,\u001b[0m\u001b[0;36m3\u001b[0m\u001b[0;34m]\u001b[0m\u001b[0;34m,\u001b[0m \u001b[0;36m60\u001b[0m\u001b[0;34m:\u001b[0m\u001b[0;34m(\u001b[0m\u001b[0;36m1\u001b[0m\u001b[0;34m,\u001b[0m\u001b[0;36m2\u001b[0m\u001b[0;34m,\u001b[0m\u001b[0;36m3\u001b[0m\u001b[0;34m)\u001b[0m\u001b[0;34m,\u001b[0m \u001b[0;36m70\u001b[0m\u001b[0;34m:\u001b[0m\u001b[0;34m{\u001b[0m\u001b[0;36m1\u001b[0m\u001b[0;34m,\u001b[0m\u001b[0;36m2\u001b[0m\u001b[0;34m,\u001b[0m\u001b[0;36m3\u001b[0m\u001b[0;34m}\u001b[0m\u001b[0;34m}\u001b[0m\u001b[0;34m\u001b[0m\u001b[0;34m\u001b[0m\u001b[0m\n\u001b[0m\u001b[1;32m      2\u001b[0m \u001b[0mprint\u001b[0m\u001b[0;34m(\u001b[0m\u001b[0mtemp\u001b[0m\u001b[0;34m)\u001b[0m\u001b[0;34m\u001b[0m\u001b[0;34m\u001b[0m\u001b[0m\n",
            "\u001b[0;31mTypeError\u001b[0m: unhashable type: 'dict'"
          ],
          "ename": "TypeError",
          "evalue": "unhashable type: 'dict'",
          "output_type": "error"
        }
      ]
    },
    {
      "cell_type": "code",
      "metadata": {
        "trusted": true,
        "id": "ieN3Osnpnyqn",
        "outputId": "c490f3a3-0bd9-494c-adde-976f2cf21e82"
      },
      "source": [
        "d3 = dict({1:100,2:200,3:300})\n",
        "print(d3)\n",
        "\n",
        "d4 = dict([('Name',\"Tanmay\"),('Loc',\"Hyderabad\")])\n",
        "print(d4)"
      ],
      "id": "ieN3Osnpnyqn",
      "execution_count": null,
      "outputs": [
        {
          "name": "stdout",
          "text": "{1: 100, 2: 200, 3: 300}\n{'Name': 'Tanmay', 'Loc': 'Hyderabad'}\n",
          "output_type": "stream"
        }
      ]
    },
    {
      "cell_type": "code",
      "metadata": {
        "trusted": true,
        "id": "p6cTvC19nyqn",
        "outputId": "61657315-e80d-40ae-bb1d-14dfec9c0887"
      },
      "source": [
        "print(d4['Name'])\n",
        "print(d4['Loc'])"
      ],
      "id": "p6cTvC19nyqn",
      "execution_count": null,
      "outputs": [
        {
          "name": "stdout",
          "text": "Tanmay\nHyderabad\n",
          "output_type": "stream"
        }
      ]
    },
    {
      "cell_type": "code",
      "metadata": {
        "trusted": true,
        "id": "8elbHBxFnyq4",
        "outputId": "c3b1c53e-66c0-4e52-87f1-86a13ae05129"
      },
      "source": [
        "for x in d2:\n",
        "    print(x,d2[x])"
      ],
      "id": "8elbHBxFnyq4",
      "execution_count": null,
      "outputs": [
        {
          "name": "stdout",
          "text": "Name Jeevan Kumar\nPro Corporate Trainer\nCom CCC\n",
          "output_type": "stream"
        }
      ]
    },
    {
      "cell_type": "code",
      "metadata": {
        "trusted": true,
        "id": "adC5BGtInyq6",
        "outputId": "63e41bad-b899-4139-b282-dc57dd7450be"
      },
      "source": [
        "#Prepare a dictionary with frequency of characters\n",
        "d = {}\n",
        "for x in input(\"Enter a string:\"):\n",
        "    if x not in d:\n",
        "        d[x] = 1\n",
        "    else:\n",
        "        d[x] = d[x] + 1\n",
        "print(d)\n"
      ],
      "id": "adC5BGtInyq6",
      "execution_count": null,
      "outputs": [
        {
          "output_type": "stream",
          "name": "stdin",
          "text": "Enter a string: prepare a dictionary with frequency of characters\n"
        },
        {
          "name": "stdout",
          "text": "{'p': 2, 'r': 6, 'e': 5, 'a': 5, ' ': 6, 'd': 1, 'i': 3, 'c': 4, 't': 3, 'o': 2, 'n': 2, 'y': 2, 'w': 1, 'h': 2, 'f': 2, 'q': 1, 'u': 1, 's': 1}\n",
          "output_type": "stream"
        }
      ]
    },
    {
      "cell_type": "code",
      "metadata": {
        "trusted": true,
        "id": "TUfNuZ4Inyq7",
        "outputId": "ee4b1023-9487-43b1-daa9-8bfe3025d5ba"
      },
      "source": [
        "#Prepare a dictionary with frequency of words\n",
        "d = {}\n",
        "for x in input(\"Enter a string:\").split():\n",
        "    if x not in d:\n",
        "        d[x] = 1\n",
        "    else:\n",
        "        d[x] = d[x] + 1\n",
        "print(d)"
      ],
      "id": "TUfNuZ4Inyq7",
      "execution_count": null,
      "outputs": [
        {
          "output_type": "stream",
          "name": "stdin",
          "text": "Enter a string: Sathyabama Institute of Science and Technology formerly Sathyabama University is a private deemed to be university situated at Chennai Tamil Nadu India It was founded in 1987 as Sathyabama Engineering College by Jeppiaar and received its deemed to be university status in 2001\n"
        },
        {
          "name": "stdout",
          "text": "{'Sathyabama': 3, 'Institute': 1, 'of': 1, 'Science': 1, 'and': 2, 'Technology': 1, 'formerly': 1, 'University': 1, 'is': 1, 'a': 1, 'private': 1, 'deemed': 2, 'to': 2, 'be': 2, 'university': 2, 'situated': 1, 'at': 1, 'Chennai': 1, 'Tamil': 1, 'Nadu': 1, 'India': 1, 'It': 1, 'was': 1, 'founded': 1, 'in': 2, '1987': 1, 'as': 1, 'Engineering': 1, 'College': 1, 'by': 1, 'Jeppiaar': 1, 'received': 1, 'its': 1, 'status': 1, '2001': 1}\n",
          "output_type": "stream"
        }
      ]
    },
    {
      "cell_type": "code",
      "metadata": {
        "trusted": true,
        "id": "gDi1_0vrnyq7",
        "outputId": "f0868cd6-2584-4fb0-ab7c-b691b33a048c"
      },
      "source": [
        "print(dir(dict))"
      ],
      "id": "gDi1_0vrnyq7",
      "execution_count": null,
      "outputs": [
        {
          "name": "stdout",
          "text": "['__class__', '__contains__', '__delattr__', '__delitem__', '__dir__', '__doc__', '__eq__', '__format__', '__ge__', '__getattribute__', '__getitem__', '__gt__', '__hash__', '__init__', '__init_subclass__', '__iter__', '__le__', '__len__', '__lt__', '__ne__', '__new__', '__reduce__', '__reduce_ex__', '__repr__', '__setattr__', '__setitem__', '__sizeof__', '__str__', '__subclasshook__', 'clear', 'copy', 'fromkeys', 'get', 'items', 'keys', 'pop', 'popitem', 'setdefault', 'update', 'values']\n",
          "output_type": "stream"
        }
      ]
    },
    {
      "cell_type": "code",
      "metadata": {
        "id": "FIl3nzrYnyq9"
      },
      "source": [
        "Creation / Adding into dict: copy, fromkeys, update\n",
        "Operations: get, keys, values, items, setdefault\n",
        "Deletions / removal: pop, popitem, clear"
      ],
      "id": "FIl3nzrYnyq9",
      "execution_count": null,
      "outputs": []
    },
    {
      "cell_type": "code",
      "metadata": {
        "trusted": true,
        "id": "LqcQumFOnyq-",
        "outputId": "96f9d282-3ba1-4321-9e63-5e50746a4c15"
      },
      "source": [
        "#Copy: used to copy the content of one dict into another dict\n",
        "d1 = {1:20, 2:30, 3:40}\n",
        "print(d1)\n",
        "d2 = d1.copy()\n",
        "print(d2)"
      ],
      "id": "LqcQumFOnyq-",
      "execution_count": null,
      "outputs": [
        {
          "name": "stdout",
          "text": "{1: 20, 2: 30, 3: 40}\n{1: 20, 2: 30, 3: 40}\n",
          "output_type": "stream"
        }
      ]
    },
    {
      "cell_type": "code",
      "metadata": {
        "trusted": true,
        "id": "MKUdLX5gnyq-",
        "outputId": "b32f342c-52f2-4d70-9bec-997e36f1a970"
      },
      "source": [
        "d2[4] = 50\n",
        "print(d2)\n",
        "print(d1)"
      ],
      "id": "MKUdLX5gnyq-",
      "execution_count": null,
      "outputs": [
        {
          "name": "stdout",
          "text": "{1: 20, 2: 30, 3: 40, 4: 50}\n{1: 20, 2: 30, 3: 40}\n",
          "output_type": "stream"
        }
      ]
    },
    {
      "cell_type": "code",
      "metadata": {
        "trusted": true,
        "id": "9-P-juYSnyq_",
        "outputId": "8411121b-0898-4c83-d312-a2fddeea6356"
      },
      "source": [
        "d2 = d1\n",
        "print(d1)\n",
        "print(d2)"
      ],
      "id": "9-P-juYSnyq_",
      "execution_count": null,
      "outputs": [
        {
          "name": "stdout",
          "text": "{1: 20, 2: 30, 3: 40}\n{1: 20, 2: 30, 3: 40}\n",
          "output_type": "stream"
        }
      ]
    },
    {
      "cell_type": "code",
      "metadata": {
        "trusted": true,
        "id": "DxDI9Bo1nyq_",
        "outputId": "1ebf853d-6393-40bd-930b-1b10b841c4b8"
      },
      "source": [
        "d2[4] = 50\n",
        "print(d1)\n",
        "print(d2)"
      ],
      "id": "DxDI9Bo1nyq_",
      "execution_count": null,
      "outputs": [
        {
          "name": "stdout",
          "text": "{1: 20, 2: 30, 3: 40, 4: 50}\n{1: 20, 2: 30, 3: 40, 4: 50}\n",
          "output_type": "stream"
        }
      ]
    },
    {
      "cell_type": "code",
      "metadata": {
        "trusted": true,
        "id": "w1Aiep5BnyrA",
        "outputId": "7b14f279-2477-4bce-bfb1-073007d86b12"
      },
      "source": [
        "d1[4] = 800\n",
        "print(d1)\n",
        "print(d2)"
      ],
      "id": "w1Aiep5BnyrA",
      "execution_count": null,
      "outputs": [
        {
          "name": "stdout",
          "text": "{1: 20, 2: 30, 3: 40, 4: 800}\n{1: 20, 2: 30, 3: 40, 4: 800}\n",
          "output_type": "stream"
        }
      ]
    },
    {
      "cell_type": "code",
      "metadata": {
        "trusted": true,
        "id": "5f2b4JMPnyrB",
        "outputId": "34b746b4-348e-4c7d-dab3-5887bd33f85f"
      },
      "source": [
        "d = {'India':'Rupee', \"US\":'Doller', 'UK':'Pound', 'Pak':'Rupee', 'India':'INR'}\n",
        "print(d)"
      ],
      "id": "5f2b4JMPnyrB",
      "execution_count": null,
      "outputs": [
        {
          "name": "stdout",
          "text": "{'India': 'INR', 'US': 'Doller', 'UK': 'Pound', 'Pak': 'Rupee'}\n",
          "output_type": "stream"
        }
      ]
    },
    {
      "cell_type": "code",
      "metadata": {
        "trusted": true,
        "id": "f-Ur6_0PnyrB",
        "outputId": "bd009b2a-7f0a-4f17-ffe8-cd36b045f16d"
      },
      "source": [
        "#fromkeys: Used to prepare a new dictionary from other collections\n",
        "d = dict.fromkeys(\"Jeevan\")\n",
        "print(d)\n",
        "\n",
        "d = dict.fromkeys([1,2,3,4,5])\n",
        "print(d)\n",
        "\n",
        "d = dict.fromkeys((1,2,3,4))\n",
        "print(d)"
      ],
      "id": "f-Ur6_0PnyrB",
      "execution_count": null,
      "outputs": [
        {
          "name": "stdout",
          "text": "{'J': None, 'e': None, 'v': None, 'a': None, 'n': None}\n{1: None, 2: None, 3: None, 4: None, 5: None}\n{1: None, 2: None, 3: None, 4: None}\n",
          "output_type": "stream"
        }
      ]
    },
    {
      "cell_type": "code",
      "metadata": {
        "trusted": true,
        "id": "ch79fXeVnyrG",
        "outputId": "c2d657b8-8369-4d22-ad17-06c2ce9aa4df"
      },
      "source": [
        "d = dict.fromkeys(input(\"Enter String\").split())\n",
        "print(d)"
      ],
      "id": "ch79fXeVnyrG",
      "execution_count": null,
      "outputs": [
        {
          "output_type": "stream",
          "name": "stdin",
          "text": "Enter String Jeevan Kumar\n"
        },
        {
          "name": "stdout",
          "text": "{'Jeevan': None, 'Kumar': None}\n",
          "output_type": "stream"
        }
      ]
    },
    {
      "cell_type": "code",
      "metadata": {
        "trusted": true,
        "id": "j1hZmpHonyrH",
        "outputId": "f319a7a7-e88e-453b-8d7e-96d93f84ac3a"
      },
      "source": [
        "#Can we replace None value with any other? Yes, we can\n",
        "d = dict.fromkeys(input(\"Enter String\").split(),'NULL')\n",
        "print(d)"
      ],
      "id": "j1hZmpHonyrH",
      "execution_count": null,
      "outputs": [
        {
          "output_type": "stream",
          "name": "stdin",
          "text": "Enter String Jeevan Kumar CCC\n"
        },
        {
          "name": "stdout",
          "text": "{'Jeevan': 'NULL', 'Kumar': 'NULL', 'CCC': 'NULL'}\n",
          "output_type": "stream"
        }
      ]
    },
    {
      "cell_type": "code",
      "metadata": {
        "trusted": true,
        "id": "7jW6_QxQnyrJ",
        "outputId": "8ded0576-27aa-459a-a3ca-c225576a8282"
      },
      "source": [
        "#update: Used to update existing dict with new dict\n",
        "print(d)\n",
        "print(d1)"
      ],
      "id": "7jW6_QxQnyrJ",
      "execution_count": null,
      "outputs": [
        {
          "name": "stdout",
          "text": "{'Jeevan': 'NULL', 'Kumar': 'NULL', 'CCC': 'NULL'}\n{1: 20, 2: 30, 3: 40, 4: 800}\n",
          "output_type": "stream"
        }
      ]
    },
    {
      "cell_type": "code",
      "metadata": {
        "trusted": true,
        "id": "LSeimGXdnyrL",
        "outputId": "8c0e1b5e-0acd-4bd4-d969-65d270af4ea4"
      },
      "source": [
        "d.update(d1)\n",
        "print(d)"
      ],
      "id": "LSeimGXdnyrL",
      "execution_count": null,
      "outputs": [
        {
          "name": "stdout",
          "text": "{'Jeevan': 'NULL', 'Kumar': 'NULL', 'CCC': 'NULL', 1: 20, 2: 30, 3: 40, 4: 800}\n",
          "output_type": "stream"
        }
      ]
    },
    {
      "cell_type": "code",
      "metadata": {
        "trusted": true,
        "id": "CMNuRHLxnyru",
        "outputId": "6b71d738-b762-4ebf-e00d-7abfd2414574"
      },
      "source": [
        "#get: Used to get the data from dictionary\n",
        "print(d['India'])\n",
        "print(d.get('India'))"
      ],
      "id": "CMNuRHLxnyru",
      "execution_count": null,
      "outputs": [
        {
          "name": "stdout",
          "text": "INR\nINR\n",
          "output_type": "stream"
        }
      ]
    },
    {
      "cell_type": "code",
      "metadata": {
        "trusted": true,
        "id": "_Xv0fCnLnyrv",
        "outputId": "a2da96b9-6203-4c79-8d38-59b4e5bb1e71"
      },
      "source": [
        "print(d.get('Japan')) #If key is not available None will be returned\n",
        "print(d['Japan']) #If key is not available KeyError will be produced"
      ],
      "id": "_Xv0fCnLnyrv",
      "execution_count": null,
      "outputs": [
        {
          "name": "stdout",
          "text": "None\n",
          "output_type": "stream"
        },
        {
          "traceback": [
            "\u001b[0;31m---------------------------------------------------------------------------\u001b[0m",
            "\u001b[0;31mKeyError\u001b[0m                                  Traceback (most recent call last)",
            "\u001b[0;32m<ipython-input-87-12feb8aaea5a>\u001b[0m in \u001b[0;36m<module>\u001b[0;34m\u001b[0m\n\u001b[1;32m      1\u001b[0m \u001b[0mprint\u001b[0m\u001b[0;34m(\u001b[0m\u001b[0md\u001b[0m\u001b[0;34m.\u001b[0m\u001b[0mget\u001b[0m\u001b[0;34m(\u001b[0m\u001b[0;34m'Japan'\u001b[0m\u001b[0;34m)\u001b[0m\u001b[0;34m)\u001b[0m\u001b[0;34m\u001b[0m\u001b[0;34m\u001b[0m\u001b[0m\n\u001b[0;32m----> 2\u001b[0;31m \u001b[0mprint\u001b[0m\u001b[0;34m(\u001b[0m\u001b[0md\u001b[0m\u001b[0;34m[\u001b[0m\u001b[0;34m'Japan'\u001b[0m\u001b[0;34m]\u001b[0m\u001b[0;34m)\u001b[0m\u001b[0;34m\u001b[0m\u001b[0;34m\u001b[0m\u001b[0m\n\u001b[0m",
            "\u001b[0;31mKeyError\u001b[0m: 'Japan'"
          ],
          "ename": "KeyError",
          "evalue": "'Japan'",
          "output_type": "error"
        }
      ]
    },
    {
      "cell_type": "code",
      "metadata": {
        "trusted": true,
        "id": "9SOtgAtinyrx",
        "outputId": "835f60a3-827e-484d-f6fa-cc4923c6153c"
      },
      "source": [
        "print(d.get('Japan',\"Key does not existed\"))#If key is not avaialable which prints defualt message given by programmer\n",
        "print(d.get('India',\"Key does not existed\")) #If key is available value of key will be printed"
      ],
      "id": "9SOtgAtinyrx",
      "execution_count": null,
      "outputs": [
        {
          "name": "stdout",
          "text": "Key does not existed\nINR\n",
          "output_type": "stream"
        }
      ]
    },
    {
      "cell_type": "code",
      "metadata": {
        "trusted": true,
        "id": "Sks914bsnyrz",
        "outputId": "f7d99e2d-c3d6-4500-ae32-2ce5f338da5d"
      },
      "source": [
        "#Prepare a dictionary with frequency of words\n",
        "d = {}\n",
        "for x in input(\"Enter a string:\").split():\n",
        "    d[x] = d.get(x,0) + 1\n",
        "print(d)"
      ],
      "id": "Sks914bsnyrz",
      "execution_count": null,
      "outputs": [
        {
          "output_type": "stream",
          "name": "stdin",
          "text": "Enter a string: Sathyabama Institute of Science and Technology formerly Sathyabama University is a private deemed to be university situated at Chennai Tamil Nadu India It was founded in 1987 as Sathyabama Engineering College by Jeppiaar and received its deemed to be university status in 2001\n"
        },
        {
          "name": "stdout",
          "text": "{'Sathyabama': 3, 'Institute': 1, 'of': 1, 'Science': 1, 'and': 2, 'Technology': 1, 'formerly': 1, 'University': 1, 'is': 1, 'a': 1, 'private': 1, 'deemed': 2, 'to': 2, 'be': 2, 'university': 2, 'situated': 1, 'at': 1, 'Chennai': 1, 'Tamil': 1, 'Nadu': 1, 'India': 1, 'It': 1, 'was': 1, 'founded': 1, 'in': 2, '1987': 1, 'as': 1, 'Engineering': 1, 'College': 1, 'by': 1, 'Jeppiaar': 1, 'received': 1, 'its': 1, 'status': 1, '2001': 1}\n",
          "output_type": "stream"
        }
      ]
    },
    {
      "cell_type": "code",
      "metadata": {
        "trusted": true,
        "id": "YobqvhJ3nyr0",
        "outputId": "ae3d595d-410b-4a19-b43c-fe6aad1d61c0"
      },
      "source": [
        "#keys: used to print keys of dict\n",
        "#values: used to print values of dict\n",
        "#items: used to print key and value pairs in form of tuple\n",
        "print(d.keys())\n",
        "print(d.values())\n",
        "print(d.items())"
      ],
      "id": "YobqvhJ3nyr0",
      "execution_count": null,
      "outputs": [
        {
          "name": "stdout",
          "text": "dict_keys(['Sathyabama', 'Institute', 'of', 'Science', 'and', 'Technology', 'formerly', 'University', 'is', 'a', 'private', 'deemed', 'to', 'be', 'university', 'situated', 'at', 'Chennai', 'Tamil', 'Nadu', 'India', 'It', 'was', 'founded', 'in', '1987', 'as', 'Engineering', 'College', 'by', 'Jeppiaar', 'received', 'its', 'status', '2001'])\ndict_values([3, 1, 1, 1, 2, 1, 1, 1, 1, 1, 1, 2, 2, 2, 2, 1, 1, 1, 1, 1, 1, 1, 1, 1, 2, 1, 1, 1, 1, 1, 1, 1, 1, 1, 1])\ndict_items([('Sathyabama', 3), ('Institute', 1), ('of', 1), ('Science', 1), ('and', 2), ('Technology', 1), ('formerly', 1), ('University', 1), ('is', 1), ('a', 1), ('private', 1), ('deemed', 2), ('to', 2), ('be', 2), ('university', 2), ('situated', 1), ('at', 1), ('Chennai', 1), ('Tamil', 1), ('Nadu', 1), ('India', 1), ('It', 1), ('was', 1), ('founded', 1), ('in', 2), ('1987', 1), ('as', 1), ('Engineering', 1), ('College', 1), ('by', 1), ('Jeppiaar', 1), ('received', 1), ('its', 1), ('status', 1), ('2001', 1)])\n",
          "output_type": "stream"
        }
      ]
    },
    {
      "cell_type": "code",
      "metadata": {
        "trusted": true,
        "id": "NtQkeid_nyr0",
        "outputId": "91601eb9-41f7-4d04-8be8-dc3e14ad22ab"
      },
      "source": [
        "for key,value in d.items():\n",
        "    print(key,\"===>\",value)"
      ],
      "id": "NtQkeid_nyr0",
      "execution_count": null,
      "outputs": [
        {
          "name": "stdout",
          "text": "Sathyabama ===> 3\nInstitute ===> 1\nof ===> 1\nScience ===> 1\nand ===> 2\nTechnology ===> 1\nformerly ===> 1\nUniversity ===> 1\nis ===> 1\na ===> 1\nprivate ===> 1\ndeemed ===> 2\nto ===> 2\nbe ===> 2\nuniversity ===> 2\nsituated ===> 1\nat ===> 1\nChennai ===> 1\nTamil ===> 1\nNadu ===> 1\nIndia ===> 1\nIt ===> 1\nwas ===> 1\nfounded ===> 1\nin ===> 2\n1987 ===> 1\nas ===> 1\nEngineering ===> 1\nCollege ===> 1\nby ===> 1\nJeppiaar ===> 1\nreceived ===> 1\nits ===> 1\nstatus ===> 1\n2001 ===> 1\n",
          "output_type": "stream"
        }
      ]
    },
    {
      "cell_type": "code",
      "metadata": {
        "trusted": true,
        "id": "BoIh5Pq9nyr1",
        "outputId": "3f6f126e-a506-4008-cde4-de4be0b92f8b"
      },
      "source": [
        "#Setdefault: used to get value of key, if key is not available in place new key with value in dict\n",
        "car = {'Suzuki':'Swift', 'Hyndai':'i20'}\n",
        "print(car.setdefault('Suzuki'))\n",
        "print(car.setdefault('Tata','Indica'))"
      ],
      "id": "BoIh5Pq9nyr1",
      "execution_count": null,
      "outputs": [
        {
          "name": "stdout",
          "text": "Swift\nIndica\n",
          "output_type": "stream"
        }
      ]
    },
    {
      "cell_type": "code",
      "metadata": {
        "trusted": true,
        "id": "SwArh-A7nyr2",
        "outputId": "057eff23-6d5f-4e7b-f8ca-3485e405f90b"
      },
      "source": [
        "print(car)"
      ],
      "id": "SwArh-A7nyr2",
      "execution_count": null,
      "outputs": [
        {
          "name": "stdout",
          "text": "{'Suzuki': 'Swift', 'Hyndai': 'i20', 'Tata': 'Indica'}\n",
          "output_type": "stream"
        }
      ]
    },
    {
      "cell_type": "code",
      "metadata": {
        "trusted": true,
        "id": "rtCIMv72nyr2",
        "outputId": "d596be56-48a0-436b-84da-0ae57aa81514"
      },
      "source": [
        "print(car.setdefault('Kia','Seltos'))\n",
        "print(car)"
      ],
      "id": "rtCIMv72nyr2",
      "execution_count": null,
      "outputs": [
        {
          "name": "stdout",
          "text": "Seltos\n{'Suzuki': 'Swift', 'Hyndai': 'i20', 'Tata': 'Indica', 'Kia': 'Seltos'}\n",
          "output_type": "stream"
        }
      ]
    },
    {
      "cell_type": "code",
      "metadata": {
        "trusted": true,
        "id": "rETHxNkFnyr3",
        "outputId": "abf90af1-9f1c-4da3-fff1-cc8702031a8c"
      },
      "source": [
        "print(car.setdefault('Suzuki','Dzire'))"
      ],
      "id": "rETHxNkFnyr3",
      "execution_count": null,
      "outputs": [
        {
          "name": "stdout",
          "text": "Swift\n",
          "output_type": "stream"
        }
      ]
    },
    {
      "cell_type": "code",
      "metadata": {
        "trusted": true,
        "id": "gxXaTbHqnyr4",
        "outputId": "1cf60df8-445b-4b37-e013-048edb11f07a"
      },
      "source": [
        "print(car)"
      ],
      "id": "gxXaTbHqnyr4",
      "execution_count": null,
      "outputs": [
        {
          "name": "stdout",
          "text": "{'Suzuki': 'Swift', 'Hyndai': 'i20', 'Tata': 'Indica', 'Kia': 'Seltos'}\n",
          "output_type": "stream"
        }
      ]
    },
    {
      "cell_type": "code",
      "metadata": {
        "trusted": true,
        "id": "RzdlIjRHnyr5",
        "outputId": "41d99a4e-c659-430e-b22b-420074e51eb4"
      },
      "source": [
        "#Pop: will delete the data by taking key value as input, if key is not avaialabel KeyError will be produced [retuns value of the key]\n",
        "print(car)\n",
        "print(car.pop('TATA'))"
      ],
      "id": "RzdlIjRHnyr5",
      "execution_count": null,
      "outputs": [
        {
          "name": "stdout",
          "text": "{'Suzuki': 'Swift', 'Hyndai': 'i20', 'Tata': 'Indica', 'Kia': 'Seltos'}\n",
          "output_type": "stream"
        },
        {
          "traceback": [
            "\u001b[0;31m---------------------------------------------------------------------------\u001b[0m",
            "\u001b[0;31mKeyError\u001b[0m                                  Traceback (most recent call last)",
            "\u001b[0;32m<ipython-input-105-d3fe536aa25c>\u001b[0m in \u001b[0;36m<module>\u001b[0;34m\u001b[0m\n\u001b[1;32m      1\u001b[0m \u001b[0;31m#Pop: will delete the data by taking key value as input, if key is not avaialabel KeyError will be produced\u001b[0m\u001b[0;34m\u001b[0m\u001b[0;34m\u001b[0m\u001b[0;34m\u001b[0m\u001b[0m\n\u001b[1;32m      2\u001b[0m \u001b[0mprint\u001b[0m\u001b[0;34m(\u001b[0m\u001b[0mcar\u001b[0m\u001b[0;34m)\u001b[0m\u001b[0;34m\u001b[0m\u001b[0;34m\u001b[0m\u001b[0m\n\u001b[0;32m----> 3\u001b[0;31m \u001b[0mprint\u001b[0m\u001b[0;34m(\u001b[0m\u001b[0mcar\u001b[0m\u001b[0;34m.\u001b[0m\u001b[0mpop\u001b[0m\u001b[0;34m(\u001b[0m\u001b[0;34m'TATA'\u001b[0m\u001b[0;34m)\u001b[0m\u001b[0;34m)\u001b[0m\u001b[0;34m\u001b[0m\u001b[0;34m\u001b[0m\u001b[0m\n\u001b[0m",
            "\u001b[0;31mKeyError\u001b[0m: 'TATA'"
          ],
          "ename": "KeyError",
          "evalue": "'TATA'",
          "output_type": "error"
        }
      ]
    },
    {
      "cell_type": "code",
      "metadata": {
        "trusted": true,
        "id": "8V8LFD-snyr5",
        "outputId": "dc7bca32-88a9-48b5-ea01-f3ff360f9137"
      },
      "source": [
        "print(car)\n",
        "print(car.pop('Tata'))\n",
        "print(car)"
      ],
      "id": "8V8LFD-snyr5",
      "execution_count": null,
      "outputs": [
        {
          "name": "stdout",
          "text": "{'Suzuki': 'Swift', 'Hyndai': 'i20', 'Tata': 'Indica', 'Kia': 'Seltos'}\nIndica\n{'Suzuki': 'Swift', 'Hyndai': 'i20', 'Kia': 'Seltos'}\n",
          "output_type": "stream"
        }
      ]
    },
    {
      "cell_type": "code",
      "metadata": {
        "trusted": true,
        "id": "kgdBpvjdnyr6",
        "outputId": "ab3d25ec-4a2f-4653-fe22-7cfdfca2fd8f"
      },
      "source": [
        "#popitem\n",
        "help(dict.popitem)"
      ],
      "id": "kgdBpvjdnyr6",
      "execution_count": null,
      "outputs": [
        {
          "name": "stdout",
          "text": "Help on method_descriptor:\n\npopitem(...)\n    D.popitem() -> (k, v), remove and return some (key, value) pair as a\n    2-tuple; but raise KeyError if D is empty.\n\n",
          "output_type": "stream"
        }
      ]
    },
    {
      "cell_type": "code",
      "metadata": {
        "trusted": true,
        "id": "UAKg4IBsnyr7",
        "outputId": "7137c437-6a19-46b4-e390-4555f1134384"
      },
      "source": [
        "print(car.popitem())"
      ],
      "id": "UAKg4IBsnyr7",
      "execution_count": null,
      "outputs": [
        {
          "name": "stdout",
          "text": "('Kia', 'Seltos')\n",
          "output_type": "stream"
        }
      ]
    },
    {
      "cell_type": "code",
      "metadata": {
        "trusted": true,
        "id": "IAsqMuzdnyr7",
        "outputId": "49ea4fea-2c39-4907-8fd9-e3a67e01c0c1"
      },
      "source": [
        "#clear: Used to clear all of the items from dict\n",
        "print(car)\n",
        "car.clear()\n",
        "print(car)"
      ],
      "id": "IAsqMuzdnyr7",
      "execution_count": null,
      "outputs": [
        {
          "name": "stdout",
          "text": "{'Suzuki': 'Swift', 'Hyndai': 'i20'}\n{}\n",
          "output_type": "stream"
        }
      ]
    },
    {
      "cell_type": "code",
      "metadata": {
        "trusted": true,
        "id": "FMl0kXkMnysB",
        "outputId": "8180ac57-c9d7-49d9-fb77-08a05b1de156"
      },
      "source": [
        "help(list.pop)"
      ],
      "id": "FMl0kXkMnysB",
      "execution_count": null,
      "outputs": [
        {
          "name": "stdout",
          "text": "Help on method_descriptor:\n\npop(self, index=-1, /)\n    Remove and return item at index (default last).\n    \n    Raises IndexError if list is empty or index is out of range.\n\n",
          "output_type": "stream"
        }
      ]
    },
    {
      "cell_type": "code",
      "metadata": {
        "id": "96YG4_HKnysC"
      },
      "source": [
        ""
      ],
      "id": "96YG4_HKnysC",
      "execution_count": null,
      "outputs": []
    }
  ]
}