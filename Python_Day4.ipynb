{
  "nbformat": 4,
  "nbformat_minor": 5,
  "metadata": {
    "kernelspec": {
      "display_name": "Python 3",
      "language": "python",
      "name": "python3"
    },
    "language_info": {
      "codemirror_mode": {
        "name": "ipython",
        "version": 3
      },
      "file_extension": ".py",
      "mimetype": "text/x-python",
      "name": "python",
      "nbconvert_exporter": "python",
      "pygments_lexer": "ipython3",
      "version": "3.7.8"
    },
    "colab": {
      "name": "Python Day4.ipynb",
      "provenance": []
    }
  },
  "cells": [
    {
      "cell_type": "code",
      "metadata": {
        "id": "Ln11cw1nnzJI"
      },
      "source": [
        "Day - 4 Ajenda:\n",
        "    1. Exception handling\n",
        "    2. Functions\n",
        "    3. Modules:\n",
        "        1. Pre-defined modules: math, random, datetime\n",
        "        2. User-defined modules:\n",
        "            1. How to define the module\n",
        "            2. how to use it\n",
        "        3. Advanced modules:\n",
        "            1. functools\n",
        "            2. itertools\n",
        "            3. Collectons\n",
        "    4. Packages introduction"
      ],
      "id": "Ln11cw1nnzJI",
      "execution_count": null,
      "outputs": []
    },
    {
      "cell_type": "code",
      "metadata": {
        "id": "Bf3ARbZ1nzJe"
      },
      "source": [
        "1. Exception handling:\n",
        "    1. Def: A runtime error will be known as an exception.\n",
        "    2. COns:\n",
        "        1. Program will be terminated automatically\n",
        "        2. We should not get result of program [Success / Failure]\n",
        "    3. Reason(s) [Some]:\n",
        "        1. Due to wrong logic implementation [Logical Error]\n",
        "        2. Due to wrong / mismatch input\n",
        "    4. Can we rectify the code at runtime?\n",
        "        Answer: No, not possible to rectify the runtime error, but we can handle it\n",
        "    5. how to handle exceptions in python:\n",
        "        1. try: The statements which can cause an exception and statements involvingin operations will be kept inside the try block\n",
        "        2. except: Whenever exception was raised,The handling code will be written inside it\n",
        "        3. finally: The statements has to be executed in case of exception raised or not [Compulsary executed statemets]\n",
        "    6. How to write the handling code:\n",
        "        1. Try to identify type of exception may be raise\n",
        "        2. Write the code according to it\n",
        "    7. How many case block(s) has to be placed under single try block:\n",
        "        1. It is mandate to place at-least on except block, More may be allowed\n",
        "    8. Is it mandate to remember all types of exceptions can be cause?\n",
        "        1. No, not required, Then how to write the code?\n",
        "        2. Every programming language is having a base[parent] class of all the exceptions, known as Exception, So we can use it\n",
        "    9. Is it possible to write nested exceptions?\n",
        "        1. Yes, it is possible"
      ],
      "id": "Bf3ARbZ1nzJe",
      "execution_count": null,
      "outputs": []
    },
    {
      "cell_type": "code",
      "metadata": {
        "id": "MRP5flQVnzJi",
        "outputId": "9cfad873-fe3a-4742-9b6d-490a4bed2176"
      },
      "source": [
        "num1 = int(input(\"Enter a number:\"))\n",
        "num2 = int(input(\"Enter a number:\"))\n",
        "print(\"Addition value is:\",num1 + num2)"
      ],
      "id": "MRP5flQVnzJi",
      "execution_count": null,
      "outputs": [
        {
          "name": "stdin",
          "output_type": "stream",
          "text": "Enter a number: 152\nEnter a number: 362\n"
        },
        {
          "name": "stdout",
          "output_type": "stream",
          "text": "Addition value is: 514\n"
        }
      ]
    },
    {
      "cell_type": "code",
      "metadata": {
        "id": "tRzoe5Z-nzKB",
        "outputId": "31a101e9-552a-4133-c25d-6d4da9b3faa9"
      },
      "source": [
        "num1 = int(input(\"Enter a number:\"))\n",
        "num2 = int(input(\"Enter a number:\"))\n",
        "print(\"Addition value is:\",num1 + num2)"
      ],
      "id": "tRzoe5Z-nzKB",
      "execution_count": null,
      "outputs": [
        {
          "name": "stdin",
          "output_type": "stream",
          "text": "Enter a number: =\n"
        },
        {
          "ename": "ValueError",
          "evalue": "invalid literal for int() with base 10: '='",
          "output_type": "error",
          "traceback": [
            "\u001b[0;31m---------------------------------------------------------------------------\u001b[0m",
            "\u001b[0;31mValueError\u001b[0m                                Traceback (most recent call last)",
            "\u001b[0;32m<ipython-input-2-ba12efe72c0e>\u001b[0m in \u001b[0;36m<module>\u001b[0;34m\u001b[0m\n\u001b[0;32m----> 1\u001b[0;31m \u001b[0mnum1\u001b[0m \u001b[0;34m=\u001b[0m \u001b[0mint\u001b[0m\u001b[0;34m(\u001b[0m\u001b[0minput\u001b[0m\u001b[0;34m(\u001b[0m\u001b[0;34m\"Enter a number:\"\u001b[0m\u001b[0;34m)\u001b[0m\u001b[0;34m)\u001b[0m\u001b[0;34m\u001b[0m\u001b[0;34m\u001b[0m\u001b[0m\n\u001b[0m\u001b[1;32m      2\u001b[0m \u001b[0mnum2\u001b[0m \u001b[0;34m=\u001b[0m \u001b[0mint\u001b[0m\u001b[0;34m(\u001b[0m\u001b[0minput\u001b[0m\u001b[0;34m(\u001b[0m\u001b[0;34m\"Enter a number:\"\u001b[0m\u001b[0;34m)\u001b[0m\u001b[0;34m)\u001b[0m\u001b[0;34m\u001b[0m\u001b[0;34m\u001b[0m\u001b[0m\n\u001b[1;32m      3\u001b[0m \u001b[0mprint\u001b[0m\u001b[0;34m(\u001b[0m\u001b[0;34m\"Addition value is:\"\u001b[0m\u001b[0;34m,\u001b[0m\u001b[0mnum1\u001b[0m \u001b[0;34m+\u001b[0m \u001b[0mnum2\u001b[0m\u001b[0;34m)\u001b[0m\u001b[0;34m\u001b[0m\u001b[0;34m\u001b[0m\u001b[0m\n",
            "\u001b[0;31mValueError\u001b[0m: invalid literal for int() with base 10: '='"
          ]
        }
      ]
    },
    {
      "cell_type": "code",
      "metadata": {
        "id": "MQ5NfEEmnzKF",
        "outputId": "e10ac5ee-f0fb-48ac-e099-793bd10c43c7"
      },
      "source": [
        "num1 = int(input(\"Enter a number:\"))\n",
        "num2 = int(input(\"Enter a number:\"))\n",
        "print(\"Division value is:\",num1 / num2)"
      ],
      "id": "MQ5NfEEmnzKF",
      "execution_count": null,
      "outputs": [
        {
          "name": "stdin",
          "output_type": "stream",
          "text": "Enter a number: 154\nEnter a number: 0\n"
        },
        {
          "ename": "ZeroDivisionError",
          "evalue": "division by zero",
          "output_type": "error",
          "traceback": [
            "\u001b[0;31m---------------------------------------------------------------------------\u001b[0m",
            "\u001b[0;31mZeroDivisionError\u001b[0m                         Traceback (most recent call last)",
            "\u001b[0;32m<ipython-input-3-5900ecc87b36>\u001b[0m in \u001b[0;36m<module>\u001b[0;34m\u001b[0m\n\u001b[1;32m      1\u001b[0m \u001b[0mnum1\u001b[0m \u001b[0;34m=\u001b[0m \u001b[0mint\u001b[0m\u001b[0;34m(\u001b[0m\u001b[0minput\u001b[0m\u001b[0;34m(\u001b[0m\u001b[0;34m\"Enter a number:\"\u001b[0m\u001b[0;34m)\u001b[0m\u001b[0;34m)\u001b[0m\u001b[0;34m\u001b[0m\u001b[0;34m\u001b[0m\u001b[0m\n\u001b[1;32m      2\u001b[0m \u001b[0mnum2\u001b[0m \u001b[0;34m=\u001b[0m \u001b[0mint\u001b[0m\u001b[0;34m(\u001b[0m\u001b[0minput\u001b[0m\u001b[0;34m(\u001b[0m\u001b[0;34m\"Enter a number:\"\u001b[0m\u001b[0;34m)\u001b[0m\u001b[0;34m)\u001b[0m\u001b[0;34m\u001b[0m\u001b[0;34m\u001b[0m\u001b[0m\n\u001b[0;32m----> 3\u001b[0;31m \u001b[0mprint\u001b[0m\u001b[0;34m(\u001b[0m\u001b[0;34m\"Division value is:\"\u001b[0m\u001b[0;34m,\u001b[0m\u001b[0mnum1\u001b[0m \u001b[0;34m/\u001b[0m \u001b[0mnum2\u001b[0m\u001b[0;34m)\u001b[0m\u001b[0;34m\u001b[0m\u001b[0;34m\u001b[0m\u001b[0m\n\u001b[0m",
            "\u001b[0;31mZeroDivisionError\u001b[0m: division by zero"
          ]
        }
      ]
    },
    {
      "cell_type": "code",
      "metadata": {
        "id": "38acAXaNnzKJ",
        "outputId": "35d01750-5e18-4927-92b4-12d981f8a7cc"
      },
      "source": [
        "try:\n",
        "    num1 = int(input(\"Enter a number:\"))\n",
        "    num2 = int(input(\"Enter a number:\"))\n",
        "    print(\"Addition value:\",num1+num2)\n",
        "except:\n",
        "    print(\"Please enter proper input for the next time\")\n",
        "finally:\n",
        "    print(\"Thank you!\")"
      ],
      "id": "38acAXaNnzKJ",
      "execution_count": null,
      "outputs": [
        {
          "name": "stdin",
          "output_type": "stream",
          "text": "Enter a number: 14\nEnter a number: 74\n"
        },
        {
          "name": "stdout",
          "output_type": "stream",
          "text": "Addition value: 88\nThank you!\n"
        }
      ]
    },
    {
      "cell_type": "code",
      "metadata": {
        "id": "VlfpgQL1nzKR",
        "outputId": "3f8bb1ee-2387-41e3-8bf3-c2ade2096f3e"
      },
      "source": [
        "try:\n",
        "    num1 = int(input(\"Enter a number:\"))\n",
        "    num2 = int(input(\"Enter a number:\"))\n",
        "    print(\"Addition value:\",num1+num2)\n",
        "except:\n",
        "    print(\"Please enter proper input for the next time\")\n",
        "finally:\n",
        "    print(\"Thank you!\")"
      ],
      "id": "VlfpgQL1nzKR",
      "execution_count": null,
      "outputs": [
        {
          "name": "stdin",
          "output_type": "stream",
          "text": "Enter a number: 45\nEnter a number: w\n"
        },
        {
          "name": "stdout",
          "output_type": "stream",
          "text": "Please enter proper input for the next time\nThank you!\n"
        }
      ]
    },
    {
      "cell_type": "code",
      "metadata": {
        "id": "BNrj8jHhnzKa",
        "outputId": "2a0f5b6d-30a5-47ca-82c6-99cfc69e2281"
      },
      "source": [
        "try:\n",
        "    num1 = int(input(\"Enter a number:\"))\n",
        "    num2 = int(input(\"Enter a number:\"))\n",
        "    print(\"Addition value:\",num1+num2)\n",
        "except ValueError as ve:\n",
        "    print(ve)\n",
        "finally:\n",
        "    print(\"Thank you!\")"
      ],
      "id": "BNrj8jHhnzKa",
      "execution_count": null,
      "outputs": [
        {
          "name": "stdin",
          "output_type": "stream",
          "text": "Enter a number: 10\nEnter a number: ;\n"
        },
        {
          "name": "stdout",
          "output_type": "stream",
          "text": "invalid literal for int() with base 10: ';'\nThank you!\n"
        }
      ]
    },
    {
      "cell_type": "code",
      "metadata": {
        "id": "w9kIqU68nzKd",
        "outputId": "c6a91afe-4517-4b70-87fc-6ddfe7bc33bc"
      },
      "source": [
        "try:\n",
        "    num1 = int(input(\"Enter a number:\"))\n",
        "    num2 = int(input(\"Enter a number:\"))\n",
        "    print(\"Division value:\",num1/num2)\n",
        "except ValueError as ve:\n",
        "    print(ve)\n",
        "finally:\n",
        "    print(\"Thank you!\")"
      ],
      "id": "w9kIqU68nzKd",
      "execution_count": null,
      "outputs": [
        {
          "name": "stdin",
          "output_type": "stream",
          "text": "Enter a number: 78\nEnter a number: 0\n"
        },
        {
          "name": "stdout",
          "output_type": "stream",
          "text": "Thank you!\n"
        },
        {
          "ename": "ZeroDivisionError",
          "evalue": "division by zero",
          "output_type": "error",
          "traceback": [
            "\u001b[0;31m---------------------------------------------------------------------------\u001b[0m",
            "\u001b[0;31mZeroDivisionError\u001b[0m                         Traceback (most recent call last)",
            "\u001b[0;32m<ipython-input-7-1c21e3b5ec9e>\u001b[0m in \u001b[0;36m<module>\u001b[0;34m\u001b[0m\n\u001b[1;32m      2\u001b[0m     \u001b[0mnum1\u001b[0m \u001b[0;34m=\u001b[0m \u001b[0mint\u001b[0m\u001b[0;34m(\u001b[0m\u001b[0minput\u001b[0m\u001b[0;34m(\u001b[0m\u001b[0;34m\"Enter a number:\"\u001b[0m\u001b[0;34m)\u001b[0m\u001b[0;34m)\u001b[0m\u001b[0;34m\u001b[0m\u001b[0;34m\u001b[0m\u001b[0m\n\u001b[1;32m      3\u001b[0m     \u001b[0mnum2\u001b[0m \u001b[0;34m=\u001b[0m \u001b[0mint\u001b[0m\u001b[0;34m(\u001b[0m\u001b[0minput\u001b[0m\u001b[0;34m(\u001b[0m\u001b[0;34m\"Enter a number:\"\u001b[0m\u001b[0;34m)\u001b[0m\u001b[0;34m)\u001b[0m\u001b[0;34m\u001b[0m\u001b[0;34m\u001b[0m\u001b[0m\n\u001b[0;32m----> 4\u001b[0;31m     \u001b[0mprint\u001b[0m\u001b[0;34m(\u001b[0m\u001b[0;34m\"Division value:\"\u001b[0m\u001b[0;34m,\u001b[0m\u001b[0mnum1\u001b[0m\u001b[0;34m/\u001b[0m\u001b[0mnum2\u001b[0m\u001b[0;34m)\u001b[0m\u001b[0;34m\u001b[0m\u001b[0;34m\u001b[0m\u001b[0m\n\u001b[0m\u001b[1;32m      5\u001b[0m \u001b[0;32mexcept\u001b[0m \u001b[0mValueError\u001b[0m \u001b[0;32mas\u001b[0m \u001b[0mve\u001b[0m\u001b[0;34m:\u001b[0m\u001b[0;34m\u001b[0m\u001b[0;34m\u001b[0m\u001b[0m\n\u001b[1;32m      6\u001b[0m     \u001b[0mprint\u001b[0m\u001b[0;34m(\u001b[0m\u001b[0mve\u001b[0m\u001b[0;34m)\u001b[0m\u001b[0;34m\u001b[0m\u001b[0;34m\u001b[0m\u001b[0m\n",
            "\u001b[0;31mZeroDivisionError\u001b[0m: division by zero"
          ]
        }
      ]
    },
    {
      "cell_type": "code",
      "metadata": {
        "id": "1TRpR5DonzKg",
        "outputId": "3e236e23-d78a-4fa6-ed74-f0a4ce488f75"
      },
      "source": [
        "try:\n",
        "    num1 = int(input(\"Enter a number:\"))\n",
        "    num2 = int(input(\"Enter a number:\"))\n",
        "    print(\"Division value:\",num1/num2)\n",
        "except ValueError as ve:\n",
        "    print(ve)\n",
        "except ZeroDivisionError as zde:\n",
        "    print(zde)\n",
        "finally:\n",
        "    print(\"Thank you!\")"
      ],
      "id": "1TRpR5DonzKg",
      "execution_count": null,
      "outputs": [
        {
          "name": "stdin",
          "output_type": "stream",
          "text": "Enter a number: 741\nEnter a number: 0\n"
        },
        {
          "name": "stdout",
          "output_type": "stream",
          "text": "division by zero\nThank you!\n"
        }
      ]
    },
    {
      "cell_type": "code",
      "metadata": {
        "id": "9_pZsO12nzKi",
        "outputId": "673f54e4-7faf-43bc-a5c1-8b395f392de5"
      },
      "source": [
        "try:\n",
        "    num1 = int(input(\"Enter a number:\"))\n",
        "    num2 = int(input(\"Enter a number:\"))\n",
        "    print(\"Division value:\",num1/num2)\n",
        "except ValueError as ve:\n",
        "    print(ve)\n",
        "except ZeroDivisionError as zde:\n",
        "    print(zde)\n",
        "finally:\n",
        "    print(\"Thank you!\")"
      ],
      "id": "9_pZsO12nzKi",
      "execution_count": null,
      "outputs": [
        {
          "name": "stdin",
          "output_type": "stream",
          "text": "Enter a number: 15\nEnter a number: d\n"
        },
        {
          "name": "stdout",
          "output_type": "stream",
          "text": "invalid literal for int() with base 10: 'd'\nThank you!\n"
        }
      ]
    },
    {
      "cell_type": "code",
      "metadata": {
        "id": "nkAg-jZsnzKn",
        "outputId": "58d36026-64c2-4ba2-cba8-717ac91ebccc"
      },
      "source": [
        "try:\n",
        "    num1 = int(input(\"Enter a number:\"))\n",
        "    num2 = int(input(\"Enter a number:\"))\n",
        "    print(\"Division value:\",num1/num2)\n",
        "except Exception as e:\n",
        "    print(e)\n",
        "finally:\n",
        "    print(\"Thank you!\")"
      ],
      "id": "nkAg-jZsnzKn",
      "execution_count": null,
      "outputs": [
        {
          "name": "stdin",
          "output_type": "stream",
          "text": "Enter a number: 15\nEnter a number: a\n"
        },
        {
          "name": "stdout",
          "output_type": "stream",
          "text": "invalid literal for int() with base 10: 'a'\nThank you!\n"
        }
      ]
    },
    {
      "cell_type": "code",
      "metadata": {
        "id": "vrE4SU-xnzKp",
        "outputId": "b30c5963-f723-4089-e8f2-3fcd3913c6e0"
      },
      "source": [
        "try:\n",
        "    num1 = int(input(\"Enter a number:\"))\n",
        "    num2 = int(input(\"Enter a number:\"))\n",
        "    print(\"Division value:\",num1/num2)\n",
        "except Exception as e:\n",
        "    print(e)\n",
        "finally:\n",
        "    print(\"Thank you!\")"
      ],
      "id": "vrE4SU-xnzKp",
      "execution_count": null,
      "outputs": [
        {
          "name": "stdin",
          "output_type": "stream",
          "text": "Enter a number: 741\nEnter a number: 0\n"
        },
        {
          "name": "stdout",
          "output_type": "stream",
          "text": "division by zero\nThank you!\n"
        }
      ]
    },
    {
      "cell_type": "code",
      "metadata": {
        "id": "MbzKCyKFnzKs",
        "outputId": "fd49da17-00a6-4f6a-daf1-4e572b8dbca6"
      },
      "source": [
        "try:\n",
        "    print(\"The code executing under outer try block\")\n",
        "    num1 = int(input(\"Enter a number:\"))\n",
        "    num2 = int(input(\"Enter a number:\"))\n",
        "    try:\n",
        "        print(\"The program enters into inner try block\")\n",
        "        print(\"Division value is:\",num1 / num2)\n",
        "    except ZeroDivisionError as zde:\n",
        "        print(\"The program enters into inner except block\")\n",
        "        print(zde)\n",
        "except ValueError as ve:\n",
        "    print(\"The program enters into outer except block\")\n",
        "    print(ve)"
      ],
      "id": "MbzKCyKFnzKs",
      "execution_count": null,
      "outputs": [
        {
          "name": "stdout",
          "output_type": "stream",
          "text": "The code executing under outer try block\n"
        },
        {
          "name": "stdin",
          "output_type": "stream",
          "text": "Enter a number: P\n"
        },
        {
          "name": "stdout",
          "output_type": "stream",
          "text": "The program enters into outer except block\ninvalid literal for int() with base 10: 'P'\n"
        }
      ]
    },
    {
      "cell_type": "code",
      "metadata": {
        "id": "Z86vI75anzKv",
        "outputId": "6a36b9c3-9604-483a-bc44-3fcf0b4764de"
      },
      "source": [
        "try:\n",
        "    print(\"The code executing under outer try block\")\n",
        "    num1 = int(input(\"Enter a number:\"))\n",
        "    num2 = int(input(\"Enter a number:\"))\n",
        "    try:\n",
        "        print(\"The program enters into inner try block\")\n",
        "        print(\"Division value is:\",num1 / num2)\n",
        "    except ZeroDivisionError as zde:\n",
        "        print(\"The program enters into inner except block\")\n",
        "        print(zde)\n",
        "except ValueError as ve:\n",
        "    print(\"The program enters into outer except block\")\n",
        "    print(ve)"
      ],
      "id": "Z86vI75anzKv",
      "execution_count": null,
      "outputs": [
        {
          "name": "stdout",
          "output_type": "stream",
          "text": "The code executing under outer try block\n"
        },
        {
          "name": "stdin",
          "output_type": "stream",
          "text": "Enter a number: 15\nEnter a number: 0\n"
        },
        {
          "name": "stdout",
          "output_type": "stream",
          "text": "The program enters into inner try block\nThe program enters into inner except block\ndivision by zero\n"
        }
      ]
    },
    {
      "cell_type": "code",
      "metadata": {
        "id": "izPw_z7rnzKy"
      },
      "source": [
        "2. Functions:\n",
        "    1. Def: A block of code which can used to execute a specific task is known as function.\n",
        "    2. Use:\n",
        "        1. To break the complex program into small parts [Modular Programming approach]\n",
        "        2. Reusability\n",
        "    3. How to declare / write function in python:\n",
        "        Syntax:\n",
        "            def functionName(listOfArgument(s)/NoArguments):\n",
        "                statements\n",
        "                return\n",
        "            def: Keyword\n",
        "            functionName: Name of the function given by following identifier rules\n",
        "            listOfArgument(s): Formal argumnets [Not origical, this is copy of original]\n",
        "            statements: Block of function \n",
        "            return: A keyword used to return the value\n",
        "            def functionName(listOfArgument(s)/NoArguments): function definition\n",
        "        **NOte: If you write a code for the function is useless if dont make a call to function [Execution]\n",
        "        **NOte: Indentation is mandatory\n",
        "    4. Types of arguments [used in function definition]:\n",
        "        1. Positional / Required arguments\n",
        "        2. Keyword arguments\n",
        "        3. Default argumnets\n",
        "        4. Variable-length arguments [Packing of parameters]\n",
        "    5. Types of return values:\n",
        "        1. Single return value\n",
        "        2. Multiple return values\n",
        "    6. Anonymous functions:\n",
        "        1. In python, There is a possibility of writting anonymous functions:\n",
        "            1. Preparing a function code without giving name to it\n",
        "            2. Can used for single line functions\n",
        "            Syntax:\n",
        "                functionName = lambda numberOfrgument(s) : returnExpression/Value\n",
        "                lambda: Keyword usedto define anonymous function\n",
        "        2. Shall we get multiple retutn values from lambda function?\n",
        "            Yes, but it should be packed\n",
        "    7. Nested functions:\n",
        "        1. Preparing one function with another function is known as nested function\n",
        "        2. The inner function can be called from only outer function\n",
        "    8. Recursion:\n",
        "        1. The function is calling itself is known as recursion"
      ],
      "id": "izPw_z7rnzKy",
      "execution_count": null,
      "outputs": []
    },
    {
      "cell_type": "code",
      "metadata": {
        "id": "i3JEBpUpnzK1",
        "outputId": "ff8fe3e7-bf36-4249-ad7f-bcbc5028153b"
      },
      "source": [
        "def greet(message):\n",
        "    print(message)\n",
        "    print(\"Thank you for attending python training\")\n",
        "    return\n",
        "\n",
        "msg = \"Good Morning\"\n",
        "greet(msg) #Function call"
      ],
      "id": "i3JEBpUpnzK1",
      "execution_count": null,
      "outputs": [
        {
          "name": "stdout",
          "output_type": "stream",
          "text": "Good Morning\nThank you for attending python training\n"
        }
      ]
    },
    {
      "cell_type": "code",
      "metadata": {
        "id": "PT8XWh8tnzK4",
        "outputId": "348ddb97-5d5e-4d46-8265-a22a8a95ee3a"
      },
      "source": [
        "#Positional / Required argumnets:\n",
        "'''\n",
        "    day,month,year : \n",
        "        -> Above three will be called as positional arguments\n",
        "        -> It is mandate to pass parameters\n",
        "        -> If you fail to pass parameters, TypeError will be produced\n",
        "'''\n",
        "def printDate(day,month,year):\n",
        "    print(day,\"/\",month,\"/\",year)\n",
        "    return \n",
        "\n",
        "printDate(26,6,2021)"
      ],
      "id": "PT8XWh8tnzK4",
      "execution_count": null,
      "outputs": [
        {
          "name": "stdout",
          "output_type": "stream",
          "text": "26 / 6 / 2021\n"
        }
      ]
    },
    {
      "cell_type": "code",
      "metadata": {
        "id": "0HlIrZ56nzK6",
        "outputId": "cf1c0c9f-d600-4a19-ad56-6caef91319f7"
      },
      "source": [
        "def printDate(day,month,year):\n",
        "    print(day,\"/\",month,\"/\",year)\n",
        "    return \n",
        "\n",
        "printDate(26,6)"
      ],
      "id": "0HlIrZ56nzK6",
      "execution_count": null,
      "outputs": [
        {
          "ename": "TypeError",
          "evalue": "printDate() missing 1 required positional argument: 'year'",
          "output_type": "error",
          "traceback": [
            "\u001b[0;31m---------------------------------------------------------------------------\u001b[0m",
            "\u001b[0;31mTypeError\u001b[0m                                 Traceback (most recent call last)",
            "\u001b[0;32m<ipython-input-18-82354af2e076>\u001b[0m in \u001b[0;36m<module>\u001b[0;34m\u001b[0m\n\u001b[1;32m      3\u001b[0m     \u001b[0;32mreturn\u001b[0m\u001b[0;34m\u001b[0m\u001b[0;34m\u001b[0m\u001b[0m\n\u001b[1;32m      4\u001b[0m \u001b[0;34m\u001b[0m\u001b[0m\n\u001b[0;32m----> 5\u001b[0;31m \u001b[0mprintDate\u001b[0m\u001b[0;34m(\u001b[0m\u001b[0;36m26\u001b[0m\u001b[0;34m,\u001b[0m\u001b[0;36m6\u001b[0m\u001b[0;34m)\u001b[0m\u001b[0;34m\u001b[0m\u001b[0;34m\u001b[0m\u001b[0m\n\u001b[0m",
            "\u001b[0;31mTypeError\u001b[0m: printDate() missing 1 required positional argument: 'year'"
          ]
        }
      ]
    },
    {
      "cell_type": "code",
      "metadata": {
        "id": "Dni4r3MVnzK8",
        "outputId": "13cb928d-8317-45ec-b533-151435a3e64c"
      },
      "source": [
        "'''\n",
        "    Keyword argumets:\n",
        "        -> By passing an argument we can use name of the parameter in function call\n",
        "        -> This situation can be happened whenever you know the names of arguments but not the order of arguments\n",
        "        -> **Note: It is mandate to match names of parameters in function call, Otherwise TypeError will be produced\n",
        "        -> Does it allows to work with the combination of required and keyword argumnets?\n",
        "            => Yes, But positional argument follows keyword argument\n",
        "            => Note: Positional and keyword both should not be used\n",
        "'''\n",
        "def printDate(day,month,year):\n",
        "    print(day,\"/\",month,\"/\",year)\n",
        "    return \n",
        "\n",
        "printDate(6,2021,26)\n",
        "#Output is not valid"
      ],
      "id": "Dni4r3MVnzK8",
      "execution_count": null,
      "outputs": [
        {
          "name": "stdout",
          "output_type": "stream",
          "text": "6 / 2021 / 26\n"
        }
      ]
    },
    {
      "cell_type": "code",
      "metadata": {
        "id": "gZ_YzUxfnzK9",
        "outputId": "1bd50870-9df4-482b-efe5-82b656e124e9"
      },
      "source": [
        "def printDate(day,month,year):\n",
        "    print(day,\"/\",month,\"/\",year)\n",
        "    return \n",
        "\n",
        "printDate(day=6,year=2021,month=26)"
      ],
      "id": "gZ_YzUxfnzK9",
      "execution_count": null,
      "outputs": [
        {
          "name": "stdout",
          "output_type": "stream",
          "text": "6 / 26 / 2021\n"
        }
      ]
    },
    {
      "cell_type": "code",
      "metadata": {
        "id": "HBsVBHlknzK_",
        "outputId": "d5c91864-d2c3-435a-e671-26c2b444781d"
      },
      "source": [
        "def printDate(day,month,year):\n",
        "    print(day,\"/\",month,\"/\",year)\n",
        "    return \n",
        "\n",
        "printDate(d=6,y=2021,m=26)"
      ],
      "id": "HBsVBHlknzK_",
      "execution_count": null,
      "outputs": [
        {
          "ename": "TypeError",
          "evalue": "printDate() got an unexpected keyword argument 'd'",
          "output_type": "error",
          "traceback": [
            "\u001b[0;31m---------------------------------------------------------------------------\u001b[0m",
            "\u001b[0;31mTypeError\u001b[0m                                 Traceback (most recent call last)",
            "\u001b[0;32m<ipython-input-21-4974e87c4b57>\u001b[0m in \u001b[0;36m<module>\u001b[0;34m\u001b[0m\n\u001b[1;32m      3\u001b[0m     \u001b[0;32mreturn\u001b[0m\u001b[0;34m\u001b[0m\u001b[0;34m\u001b[0m\u001b[0m\n\u001b[1;32m      4\u001b[0m \u001b[0;34m\u001b[0m\u001b[0m\n\u001b[0;32m----> 5\u001b[0;31m \u001b[0mprintDate\u001b[0m\u001b[0;34m(\u001b[0m\u001b[0md\u001b[0m\u001b[0;34m=\u001b[0m\u001b[0;36m6\u001b[0m\u001b[0;34m,\u001b[0m\u001b[0my\u001b[0m\u001b[0;34m=\u001b[0m\u001b[0;36m2021\u001b[0m\u001b[0;34m,\u001b[0m\u001b[0mm\u001b[0m\u001b[0;34m=\u001b[0m\u001b[0;36m26\u001b[0m\u001b[0;34m)\u001b[0m\u001b[0;34m\u001b[0m\u001b[0;34m\u001b[0m\u001b[0m\n\u001b[0m",
            "\u001b[0;31mTypeError\u001b[0m: printDate() got an unexpected keyword argument 'd'"
          ]
        }
      ]
    },
    {
      "cell_type": "code",
      "metadata": {
        "id": "j0IueVZRnzLB",
        "outputId": "469b9d3c-294b-4af9-d0d0-ea69ac681aa5"
      },
      "source": [
        "def printDate(day,month,year):\n",
        "    print(day,\"/\",month,\"/\",year)\n",
        "    return \n",
        "\n",
        "printDate(day=6,year=2021,26)"
      ],
      "id": "j0IueVZRnzLB",
      "execution_count": null,
      "outputs": [
        {
          "ename": "SyntaxError",
          "evalue": "positional argument follows keyword argument (<ipython-input-22-3662e3cd563a>, line 5)",
          "output_type": "error",
          "traceback": [
            "\u001b[0;36m  File \u001b[0;32m\"<ipython-input-22-3662e3cd563a>\"\u001b[0;36m, line \u001b[0;32m5\u001b[0m\n\u001b[0;31m    printDate(day=6,year=2021,26)\u001b[0m\n\u001b[0m                             ^\u001b[0m\n\u001b[0;31mSyntaxError\u001b[0m\u001b[0;31m:\u001b[0m positional argument follows keyword argument\n"
          ]
        }
      ]
    },
    {
      "cell_type": "code",
      "metadata": {
        "id": "4EtzzMcxnzLC",
        "outputId": "8ebe3416-2235-43aa-cc14-6fdc7f7af919"
      },
      "source": [
        "def printDate(day,month,year):\n",
        "    print(day,\"/\",month,\"/\",year)\n",
        "    return \n",
        "\n",
        "printDate(26,day=2021,month=26)"
      ],
      "id": "4EtzzMcxnzLC",
      "execution_count": null,
      "outputs": [
        {
          "ename": "TypeError",
          "evalue": "printDate() got multiple values for argument 'day'",
          "output_type": "error",
          "traceback": [
            "\u001b[0;31m---------------------------------------------------------------------------\u001b[0m",
            "\u001b[0;31mTypeError\u001b[0m                                 Traceback (most recent call last)",
            "\u001b[0;32m<ipython-input-24-c97557392980>\u001b[0m in \u001b[0;36m<module>\u001b[0;34m\u001b[0m\n\u001b[1;32m      3\u001b[0m     \u001b[0;32mreturn\u001b[0m\u001b[0;34m\u001b[0m\u001b[0;34m\u001b[0m\u001b[0m\n\u001b[1;32m      4\u001b[0m \u001b[0;34m\u001b[0m\u001b[0m\n\u001b[0;32m----> 5\u001b[0;31m \u001b[0mprintDate\u001b[0m\u001b[0;34m(\u001b[0m\u001b[0;36m26\u001b[0m\u001b[0;34m,\u001b[0m\u001b[0mday\u001b[0m\u001b[0;34m=\u001b[0m\u001b[0;36m2021\u001b[0m\u001b[0;34m,\u001b[0m\u001b[0mmonth\u001b[0m\u001b[0;34m=\u001b[0m\u001b[0;36m26\u001b[0m\u001b[0;34m)\u001b[0m\u001b[0;34m\u001b[0m\u001b[0;34m\u001b[0m\u001b[0m\n\u001b[0m",
            "\u001b[0;31mTypeError\u001b[0m: printDate() got multiple values for argument 'day'"
          ]
        }
      ]
    },
    {
      "cell_type": "code",
      "metadata": {
        "id": "2WQE_rdAnzLD",
        "outputId": "cb4df50b-9209-4ab4-e4d3-72c68195c27e"
      },
      "source": [
        "def printDate(day,month,year):\n",
        "    print(day,\"/\",month,\"/\",year)\n",
        "    return \n",
        "\n",
        "printDate(26,year=2021,month=6)"
      ],
      "id": "2WQE_rdAnzLD",
      "execution_count": null,
      "outputs": [
        {
          "name": "stdout",
          "output_type": "stream",
          "text": "26 / 6 / 2021\n"
        }
      ]
    },
    {
      "cell_type": "code",
      "metadata": {
        "id": "JKkFo7W_nzLE",
        "outputId": "fffc4b05-855a-4df8-bc9a-e17c207b9619"
      },
      "source": [
        "'''\n",
        "    Default arguments:\n",
        "        -> Default values will be placed in function definition.\n",
        "        -> Use?\n",
        "            -> In case of user fail to send values, The default values will be considered\n",
        "            -> In case of user send the values, The function will use the values what it received.\n",
        "        -> Is combination possible? Yes\n",
        "'''\n",
        "def printDate(day=1,month=1,year=2021):\n",
        "    print(day,\"/\",month,\"/\",year)\n",
        "    return \n",
        "\n",
        "printDate(26,6,2021)\n",
        "printDate(26)\n",
        "printDate(26,6)\n",
        "printDate()"
      ],
      "id": "JKkFo7W_nzLE",
      "execution_count": null,
      "outputs": [
        {
          "name": "stdout",
          "output_type": "stream",
          "text": "26 / 6 / 2021\n26 / 1 / 2021\n26 / 6 / 2021\n1 / 1 / 2021\n"
        }
      ]
    },
    {
      "cell_type": "code",
      "metadata": {
        "id": "V9mIq61CnzLF",
        "outputId": "db0ec99a-5e0b-471e-d3dc-9d7e2fe412a2"
      },
      "source": [
        "def printDate(day=1,month=1,year):\n",
        "    print(day,\"/\",month,\"/\",year)\n",
        "    return \n",
        "\n",
        "printDate(26,6,2021)"
      ],
      "id": "V9mIq61CnzLF",
      "execution_count": null,
      "outputs": [
        {
          "ename": "SyntaxError",
          "evalue": "non-default argument follows default argument (<ipython-input-31-c0e57b4a0e83>, line 1)",
          "output_type": "error",
          "traceback": [
            "\u001b[0;36m  File \u001b[0;32m\"<ipython-input-31-c0e57b4a0e83>\"\u001b[0;36m, line \u001b[0;32m1\u001b[0m\n\u001b[0;31m    def printDate(day=1,month=1,year):\u001b[0m\n\u001b[0m                 ^\u001b[0m\n\u001b[0;31mSyntaxError\u001b[0m\u001b[0;31m:\u001b[0m non-default argument follows default argument\n"
          ]
        }
      ]
    },
    {
      "cell_type": "code",
      "metadata": {
        "id": "SR9fGTq-nzLG",
        "outputId": "253b1ff3-eddf-4083-f8b5-6ad1278e2dbd"
      },
      "source": [
        "def printDate(year,day=1,month=1):\n",
        "    print(day,\"/\",month,\"/\",year)\n",
        "    return \n",
        "\n",
        "printDate(2021,day=6,month=12)"
      ],
      "id": "SR9fGTq-nzLG",
      "execution_count": null,
      "outputs": [
        {
          "name": "stdout",
          "output_type": "stream",
          "text": "6 / 12 / 2021\n"
        }
      ]
    },
    {
      "cell_type": "code",
      "metadata": {
        "id": "YkLAf0ulnzLG",
        "outputId": "36777577-e96e-437c-e8c1-b8450f71303f"
      },
      "source": [
        "'''\n",
        "    Variable - length Arguments:\n",
        "        -> This argument will receive from 0 to n number of argumnets\n",
        "        -> To place in funtion definition we can use a sign of *\n",
        "        -> NOte: positional argument follows keyword argument\n",
        "'''\n",
        "def printStudentAverage(name,*marks):\n",
        "    print(\"Name:\",name)\n",
        "    print(\"Average:\",sum(marks)/len(marks))\n",
        "    return\n",
        "\n",
        "printStudentAverage(\"Jeevan\",85,87,69,89)\n",
        "print()\n",
        "printStudentAverage(\"Jeevan\",85,87,69)"
      ],
      "id": "YkLAf0ulnzLG",
      "execution_count": null,
      "outputs": [
        {
          "name": "stdout",
          "text": "Name: Jeevan\nAverage: 82.5\n\nName: Jeevan\nAverage: 80.33333333333333\n",
          "output_type": "stream"
        }
      ]
    },
    {
      "cell_type": "code",
      "metadata": {
        "id": "9ekaXRxdnzLL",
        "outputId": "f3095fc9-e6ee-44c8-a836-4c16120bffcf"
      },
      "source": [
        "def printStudentAverage(*marks,name):\n",
        "    print(\"Name:\",name)\n",
        "    print(\"Average:\",sum(marks)/len(marks))\n",
        "    return\n",
        "\n",
        "printStudentAverage(\"Jeevan\",85,87,69,89)"
      ],
      "id": "9ekaXRxdnzLL",
      "execution_count": null,
      "outputs": [
        {
          "traceback": [
            "\u001b[0;31m---------------------------------------------------------------------------\u001b[0m",
            "\u001b[0;31mTypeError\u001b[0m                                 Traceback (most recent call last)",
            "\u001b[0;32m<ipython-input-39-11bcc63ab6bc>\u001b[0m in \u001b[0;36m<module>\u001b[0;34m\u001b[0m\n\u001b[1;32m      4\u001b[0m     \u001b[0;32mreturn\u001b[0m\u001b[0;34m\u001b[0m\u001b[0;34m\u001b[0m\u001b[0m\n\u001b[1;32m      5\u001b[0m \u001b[0;34m\u001b[0m\u001b[0m\n\u001b[0;32m----> 6\u001b[0;31m \u001b[0mprintStudentAverage\u001b[0m\u001b[0;34m(\u001b[0m\u001b[0;34m\"Jeevan\"\u001b[0m\u001b[0;34m,\u001b[0m\u001b[0;36m85\u001b[0m\u001b[0;34m,\u001b[0m\u001b[0;36m87\u001b[0m\u001b[0;34m,\u001b[0m\u001b[0;36m69\u001b[0m\u001b[0;34m,\u001b[0m\u001b[0;36m89\u001b[0m\u001b[0;34m)\u001b[0m\u001b[0;34m\u001b[0m\u001b[0;34m\u001b[0m\u001b[0m\n\u001b[0m",
            "\u001b[0;31mTypeError\u001b[0m: printStudentAverage() missing 1 required keyword-only argument: 'name'"
          ],
          "ename": "TypeError",
          "evalue": "printStudentAverage() missing 1 required keyword-only argument: 'name'",
          "output_type": "error"
        }
      ]
    },
    {
      "cell_type": "code",
      "metadata": {
        "id": "qsGUZOrMnzLM",
        "outputId": "341c1308-15b7-4e1d-da93-c250ae340584"
      },
      "source": [
        "def printStudentAverage(*marks,name):\n",
        "    print(\"Name:\",name)\n",
        "    print(\"Average:\",sum(marks)/len(marks))\n",
        "    return\n",
        "\n",
        "printStudentAverage(name=\"Jeevan\",85,87,69,89)"
      ],
      "id": "qsGUZOrMnzLM",
      "execution_count": null,
      "outputs": [
        {
          "traceback": [
            "\u001b[0;36m  File \u001b[0;32m\"<ipython-input-40-c0ae0919e1e7>\"\u001b[0;36m, line \u001b[0;32m6\u001b[0m\n\u001b[0;31m    printStudentAverage(name=\"Jeevan\",85,87,69,89)\u001b[0m\n\u001b[0m                                     ^\u001b[0m\n\u001b[0;31mSyntaxError\u001b[0m\u001b[0;31m:\u001b[0m positional argument follows keyword argument\n"
          ],
          "ename": "SyntaxError",
          "evalue": "positional argument follows keyword argument (<ipython-input-40-c0ae0919e1e7>, line 6)",
          "output_type": "error"
        }
      ]
    },
    {
      "cell_type": "code",
      "metadata": {
        "id": "JOED5U3QnzLN",
        "outputId": "48ac6145-5210-47b6-9de4-7baab8b1129d"
      },
      "source": [
        "def printStudentAverage(*marks,name):\n",
        "    print(\"Name:\",name)\n",
        "    print(\"Average:\",sum(marks)/len(marks))\n",
        "    return\n",
        "\n",
        "printStudentAverage(85,87,69,89,\"Jeevan\")"
      ],
      "id": "JOED5U3QnzLN",
      "execution_count": null,
      "outputs": [
        {
          "traceback": [
            "\u001b[0;31m---------------------------------------------------------------------------\u001b[0m",
            "\u001b[0;31mTypeError\u001b[0m                                 Traceback (most recent call last)",
            "\u001b[0;32m<ipython-input-41-7418c17905b5>\u001b[0m in \u001b[0;36m<module>\u001b[0;34m\u001b[0m\n\u001b[1;32m      4\u001b[0m     \u001b[0;32mreturn\u001b[0m\u001b[0;34m\u001b[0m\u001b[0;34m\u001b[0m\u001b[0m\n\u001b[1;32m      5\u001b[0m \u001b[0;34m\u001b[0m\u001b[0m\n\u001b[0;32m----> 6\u001b[0;31m \u001b[0mprintStudentAverage\u001b[0m\u001b[0;34m(\u001b[0m\u001b[0;36m85\u001b[0m\u001b[0;34m,\u001b[0m\u001b[0;36m87\u001b[0m\u001b[0;34m,\u001b[0m\u001b[0;36m69\u001b[0m\u001b[0;34m,\u001b[0m\u001b[0;36m89\u001b[0m\u001b[0;34m,\u001b[0m\u001b[0;34m\"Jeevan\"\u001b[0m\u001b[0;34m)\u001b[0m\u001b[0;34m\u001b[0m\u001b[0;34m\u001b[0m\u001b[0m\n\u001b[0m",
            "\u001b[0;31mTypeError\u001b[0m: printStudentAverage() missing 1 required keyword-only argument: 'name'"
          ],
          "ename": "TypeError",
          "evalue": "printStudentAverage() missing 1 required keyword-only argument: 'name'",
          "output_type": "error"
        }
      ]
    },
    {
      "cell_type": "code",
      "metadata": {
        "id": "7-Lv6uXxnzLP",
        "outputId": "9d9904bd-0895-4afa-b4a1-7112cb411cb6"
      },
      "source": [
        "def printStudentAverage(*marks,name):\n",
        "    print(\"Name:\",name)\n",
        "    print(\"Average:\",sum(marks)/len(marks))\n",
        "    return\n",
        "\n",
        "printStudentAverage(85,87,69,89,name=\"Jeevan\")"
      ],
      "id": "7-Lv6uXxnzLP",
      "execution_count": null,
      "outputs": [
        {
          "name": "stdout",
          "text": "Name: Jeevan\nAverage: 82.5\n",
          "output_type": "stream"
        }
      ]
    },
    {
      "cell_type": "code",
      "metadata": {
        "id": "zBe2uCcmnzLQ",
        "outputId": "42a86835-9b9a-4372-85bb-3620438ab48e"
      },
      "source": [
        "#Single value return:\n",
        "def findAverage(*marks):#Packing of data\n",
        "    print(type(marks))\n",
        "    return sum(marks)/len(marks)\n",
        "\n",
        "print(\"Average is:\",findAverage(74,85,96,69,58,47))"
      ],
      "id": "zBe2uCcmnzLQ",
      "execution_count": null,
      "outputs": [
        {
          "name": "stdout",
          "text": "<class 'tuple'>\nAverage is: 71.5\n",
          "output_type": "stream"
        }
      ]
    },
    {
      "cell_type": "code",
      "metadata": {
        "id": "7sqbDJT8nzLR",
        "outputId": "a0c4dc7e-841a-41d5-a9df-e9c3fa7f35be"
      },
      "source": [
        "#returned multiple values:\n",
        "def findCubes(x,y,z):\n",
        "    return x**3,y**3,z**3\n",
        "\n",
        "result = findCubes(10,20,30)\n",
        "print(result)"
      ],
      "id": "7sqbDJT8nzLR",
      "execution_count": null,
      "outputs": [
        {
          "name": "stdout",
          "text": "(1000, 8000, 27000)\n",
          "output_type": "stream"
        }
      ]
    },
    {
      "cell_type": "code",
      "metadata": {
        "id": "_eVYObFYnzLS",
        "outputId": "12eef971-04d0-42f9-9948-d883f0ae7f16"
      },
      "source": [
        "#returned multiple values:\n",
        "def findCubes(x,y,z):\n",
        "    return x**3,y**3,z**3\n",
        "\n",
        "a,b,c = findCubes(10,20,30) #Un-Packing of data\n",
        "print(a,b,c)"
      ],
      "id": "_eVYObFYnzLS",
      "execution_count": null,
      "outputs": [
        {
          "name": "stdout",
          "text": "1000 8000 27000\n",
          "output_type": "stream"
        }
      ]
    },
    {
      "cell_type": "code",
      "metadata": {
        "id": "YV8v57fAnzLT",
        "outputId": "20db3fd6-cd83-4cc0-f274-15dc2b9bad04"
      },
      "source": [
        "add = lambda x,y,z : x+y+z\n",
        "\n",
        "print(add(10,20,30))"
      ],
      "id": "YV8v57fAnzLT",
      "execution_count": null,
      "outputs": [
        {
          "name": "stdout",
          "text": "60\n",
          "output_type": "stream"
        }
      ]
    },
    {
      "cell_type": "code",
      "metadata": {
        "id": "Bg5c1ujpnzLU",
        "outputId": "213c756e-ad23-446f-93fe-9a46ce92439d"
      },
      "source": [
        "cubes = lambda x,y,z : x**3,y**3,z**3\n",
        "\n",
        "print(cubes(1,2,3))"
      ],
      "id": "Bg5c1ujpnzLU",
      "execution_count": null,
      "outputs": [
        {
          "traceback": [
            "\u001b[0;31m---------------------------------------------------------------------------\u001b[0m",
            "\u001b[0;31mNameError\u001b[0m                                 Traceback (most recent call last)",
            "\u001b[0;32m<ipython-input-51-60da218e6033>\u001b[0m in \u001b[0;36m<module>\u001b[0;34m\u001b[0m\n\u001b[0;32m----> 1\u001b[0;31m \u001b[0mcubes\u001b[0m \u001b[0;34m=\u001b[0m \u001b[0;32mlambda\u001b[0m \u001b[0mx\u001b[0m\u001b[0;34m,\u001b[0m\u001b[0my\u001b[0m\u001b[0;34m,\u001b[0m\u001b[0mz\u001b[0m \u001b[0;34m:\u001b[0m \u001b[0mx\u001b[0m\u001b[0;34m**\u001b[0m\u001b[0;36m3\u001b[0m\u001b[0;34m,\u001b[0m\u001b[0my\u001b[0m\u001b[0;34m**\u001b[0m\u001b[0;36m3\u001b[0m\u001b[0;34m,\u001b[0m\u001b[0mz\u001b[0m\u001b[0;34m**\u001b[0m\u001b[0;36m3\u001b[0m\u001b[0;34m\u001b[0m\u001b[0;34m\u001b[0m\u001b[0m\n\u001b[0m\u001b[1;32m      2\u001b[0m \u001b[0;34m\u001b[0m\u001b[0m\n\u001b[1;32m      3\u001b[0m \u001b[0mprint\u001b[0m\u001b[0;34m(\u001b[0m\u001b[0mcubes\u001b[0m\u001b[0;34m(\u001b[0m\u001b[0;36m1\u001b[0m\u001b[0;34m,\u001b[0m\u001b[0;36m2\u001b[0m\u001b[0;34m,\u001b[0m\u001b[0;36m3\u001b[0m\u001b[0;34m)\u001b[0m\u001b[0;34m)\u001b[0m\u001b[0;34m\u001b[0m\u001b[0;34m\u001b[0m\u001b[0m\n",
            "\u001b[0;31mNameError\u001b[0m: name 'y' is not defined"
          ],
          "ename": "NameError",
          "evalue": "name 'y' is not defined",
          "output_type": "error"
        }
      ]
    },
    {
      "cell_type": "code",
      "metadata": {
        "id": "-wm0yusknzLb",
        "outputId": "db204280-3cf5-4df0-fe54-3e969c2bb288"
      },
      "source": [
        "cubes = lambda x,y,z : (x**3,y**3,z**3)\n",
        "\n",
        "print(cubes(1,2,3))"
      ],
      "id": "-wm0yusknzLb",
      "execution_count": null,
      "outputs": [
        {
          "name": "stdout",
          "text": "(1, 8, 27)\n",
          "output_type": "stream"
        }
      ]
    },
    {
      "cell_type": "code",
      "metadata": {
        "id": "zHR5xwzjnzLd",
        "outputId": "f01ffc98-8fad-4b42-852b-6d6b9aa7eb0d"
      },
      "source": [
        "cubes = lambda x,y,z : (x**3,y**3,z**3)\n",
        "\n",
        "a,b,c = cubes(10,20,30)\n",
        "print(a,b,c)"
      ],
      "id": "zHR5xwzjnzLd",
      "execution_count": null,
      "outputs": [
        {
          "name": "stdout",
          "text": "1000 8000 27000\n",
          "output_type": "stream"
        }
      ]
    },
    {
      "cell_type": "code",
      "metadata": {
        "id": "D2AWyAyQnzLe",
        "outputId": "932a03fd-00c1-4fb1-cf07-e457ae3ef9d3"
      },
      "source": [
        "def outerFunction():\n",
        "    print(\"The statement executing under outer function\")\n",
        "    def innerFunction():\n",
        "        print(\"The statement executing under inner function\")\n",
        "        return\n",
        "    print(\"The statement is still executing under outer function\")\n",
        "    innerFunction()\n",
        "    return\n",
        "\n",
        "outerFunction()"
      ],
      "id": "D2AWyAyQnzLe",
      "execution_count": null,
      "outputs": [
        {
          "name": "stdout",
          "text": "The statement executing under outer function\nThe statement is still executing under outer function\nThe statement executing under inner function\n",
          "output_type": "stream"
        }
      ]
    },
    {
      "cell_type": "code",
      "metadata": {
        "id": "wrL3vq9qnzLf",
        "outputId": "2364f884-ea8b-4673-fbbe-47288ac4c4f3"
      },
      "source": [
        "def outerFunction():\n",
        "    print(\"The statement executing under outer function\")\n",
        "    def innerFunction():\n",
        "        print(\"The statement executing under inner function\")\n",
        "        return\n",
        "    print(\"The statement is still executing under outer function\")\n",
        "    innerFunction()\n",
        "    return\n",
        "\n",
        "outerFunction()\n",
        "innerFunction()"
      ],
      "id": "wrL3vq9qnzLf",
      "execution_count": null,
      "outputs": [
        {
          "name": "stdout",
          "text": "The statement executing under outer function\nThe statement is still executing under outer function\nThe statement executing under inner function\n",
          "output_type": "stream"
        },
        {
          "traceback": [
            "\u001b[0;31m---------------------------------------------------------------------------\u001b[0m",
            "\u001b[0;31mNameError\u001b[0m                                 Traceback (most recent call last)",
            "\u001b[0;32m<ipython-input-57-d5e9a5708800>\u001b[0m in \u001b[0;36m<module>\u001b[0;34m\u001b[0m\n\u001b[1;32m      9\u001b[0m \u001b[0;34m\u001b[0m\u001b[0m\n\u001b[1;32m     10\u001b[0m \u001b[0mouterFunction\u001b[0m\u001b[0;34m(\u001b[0m\u001b[0;34m)\u001b[0m\u001b[0;34m\u001b[0m\u001b[0;34m\u001b[0m\u001b[0m\n\u001b[0;32m---> 11\u001b[0;31m \u001b[0minnerFunction\u001b[0m\u001b[0;34m(\u001b[0m\u001b[0;34m)\u001b[0m\u001b[0;34m\u001b[0m\u001b[0;34m\u001b[0m\u001b[0m\n\u001b[0m",
            "\u001b[0;31mNameError\u001b[0m: name 'innerFunction' is not defined"
          ],
          "ename": "NameError",
          "evalue": "name 'innerFunction' is not defined",
          "output_type": "error"
        }
      ]
    },
    {
      "cell_type": "code",
      "metadata": {
        "id": "kpKgaOz4nzMZ",
        "outputId": "ded64be9-29bc-40e0-f573-cbd4bd84d09b"
      },
      "source": [
        "def sumOfN(n):\n",
        "    if n==1:\n",
        "        return 1\n",
        "    return n + sumOfN(n-1)\n",
        "\n",
        "sumOfN(10)"
      ],
      "id": "kpKgaOz4nzMZ",
      "execution_count": null,
      "outputs": [
        {
          "execution_count": 58,
          "output_type": "execute_result",
          "data": {
            "text/plain": "55"
          },
          "metadata": {}
        }
      ]
    },
    {
      "cell_type": "code",
      "metadata": {
        "id": "Or9fHbvanzMb"
      },
      "source": [
        "Modules:\n",
        "    1. Def: Module is a python program, which consists of the following\n",
        "        1. Classes\n",
        "        2. Variables\n",
        "        3. Methods / Functions\n",
        "    2. Use:\n",
        "        1. Organize the code in logical manner\n",
        "        2. Improve readbility of the program\n",
        "        3. Reusability [One module can be used in multiple python programs]\n",
        "    3. Types of modules:\n",
        "        1. Pre-defined module: Readymadely available \n",
        "        2. User-defined module: Has to be prepared based on requirement\n",
        "    4. Pre-Defined module:\n",
        "        1. Already defined modules, ready to use in the program\n",
        "        2. HOw to use it:\n",
        "            1. It is most important to import module into the program\n",
        "            2. How to import?\n",
        "                1. by using import modulaName\n",
        "                    Eg: import math\n",
        "                    => How to access property of module\n",
        "                    Syntax:\n",
        "                        moduleName.methodName\n",
        "                        math.sqrt()\n",
        "                2. by using import moduleName as aliasName\n",
        "                    Eg: import math as m\n",
        "                    => How to access property of module\n",
        "                    Syntax:\n",
        "                        aliasName.methodName\n",
        "                        m.sqrt()\n",
        "                3. by using from moduleName import class(s)/Method(s) [Importing limited methods]\n",
        "                    Eg: from math import abs,sqrt,pow\n",
        "                    => How to access property of module\n",
        "                    Syntax:\n",
        "                        methodName\n",
        "                        sqrt()\n",
        "                3. By using from moduleName import all[importing all Classes / Methods]\n",
        "                    Eg: from math import *\n",
        "                    => How to access property of module\n",
        "                    Syntax:\n",
        "                        methodName\n",
        "                        sqrt()\n",
        "                **Note: Without importing module, if you try to use module in the program, The python will display NameError\n",
        "        3. Modules to dicuss:\n",
        "            1. math\n",
        "            2. random\n",
        "    5. User-defined module:\n",
        "        1. Has to be prepared based on requirement\n",
        "        2. How to define module:\n",
        "            1. Prepare a new python program with methods\n",
        "            2. Run your code, before runnig save your code in python library [default location]\n",
        "        3. Import your module into the program and used it\n",
        "    6. How to know the list of module are available in python environment.\n",
        "        1. Syntax: help('modules')"
      ],
      "id": "Or9fHbvanzMb",
      "execution_count": null,
      "outputs": []
    },
    {
      "cell_type": "code",
      "metadata": {
        "id": "Jbpw2e5BnzMc",
        "outputId": "16e33c6e-524a-4a2f-d7c3-cf4c5bcf5ca3"
      },
      "source": [
        "math.sqrt(25)"
      ],
      "id": "Jbpw2e5BnzMc",
      "execution_count": null,
      "outputs": [
        {
          "traceback": [
            "\u001b[0;31m---------------------------------------------------------------------------\u001b[0m",
            "\u001b[0;31mNameError\u001b[0m                                 Traceback (most recent call last)",
            "\u001b[0;32m<ipython-input-1-8584a6df8e30>\u001b[0m in \u001b[0;36m<module>\u001b[0;34m\u001b[0m\n\u001b[0;32m----> 1\u001b[0;31m \u001b[0mmath\u001b[0m\u001b[0;34m.\u001b[0m\u001b[0msqrt\u001b[0m\u001b[0;34m(\u001b[0m\u001b[0;36m25\u001b[0m\u001b[0;34m)\u001b[0m\u001b[0;34m\u001b[0m\u001b[0;34m\u001b[0m\u001b[0m\n\u001b[0m",
            "\u001b[0;31mNameError\u001b[0m: name 'math' is not defined"
          ],
          "ename": "NameError",
          "evalue": "name 'math' is not defined",
          "output_type": "error"
        }
      ]
    },
    {
      "cell_type": "code",
      "metadata": {
        "id": "wZi2dbXhnzMd",
        "outputId": "b4f2f827-25b6-4fbf-d849-9a860ba656b8"
      },
      "source": [
        "import math\n",
        "math.sqrt(25)"
      ],
      "id": "wZi2dbXhnzMd",
      "execution_count": null,
      "outputs": [
        {
          "execution_count": 2,
          "output_type": "execute_result",
          "data": {
            "text/plain": "5.0"
          },
          "metadata": {}
        }
      ]
    },
    {
      "cell_type": "code",
      "metadata": {
        "id": "YVm6vLKunzMe",
        "outputId": "69357009-afdd-46fd-f9c3-7ff5fc336bf6"
      },
      "source": [
        "import math as m\n",
        "m.sqrt(25)"
      ],
      "id": "YVm6vLKunzMe",
      "execution_count": null,
      "outputs": [
        {
          "execution_count": 3,
          "output_type": "execute_result",
          "data": {
            "text/plain": "5.0"
          },
          "metadata": {}
        }
      ]
    },
    {
      "cell_type": "code",
      "metadata": {
        "id": "MZzbU0iAnzMf",
        "outputId": "cacac44f-c7a0-4bbe-aecb-867fd99415a0"
      },
      "source": [
        "from math import sqrt\n",
        "sqrt(25)"
      ],
      "id": "MZzbU0iAnzMf",
      "execution_count": null,
      "outputs": [
        {
          "execution_count": 4,
          "output_type": "execute_result",
          "data": {
            "text/plain": "5.0"
          },
          "metadata": {}
        }
      ]
    },
    {
      "cell_type": "code",
      "metadata": {
        "id": "b4cMLR_OnzMf",
        "outputId": "edc626db-4491-41f1-8868-f03fadcfd7d2"
      },
      "source": [
        "from math import *\n",
        "sqrt(25)"
      ],
      "id": "b4cMLR_OnzMf",
      "execution_count": null,
      "outputs": [
        {
          "execution_count": 5,
          "output_type": "execute_result",
          "data": {
            "text/plain": "5.0"
          },
          "metadata": {}
        }
      ]
    },
    {
      "cell_type": "code",
      "metadata": {
        "id": "gInBinOtnzMg",
        "outputId": "807c6d17-0d5c-4e06-88e2-1dbc2fc85d92"
      },
      "source": [
        "print(dir(math))"
      ],
      "id": "gInBinOtnzMg",
      "execution_count": null,
      "outputs": [
        {
          "name": "stdout",
          "text": "['__doc__', '__file__', '__loader__', '__name__', '__package__', '__spec__', 'acos', 'acosh', 'asin', 'asinh', 'atan', 'atan2', 'atanh', 'ceil', 'copysign', 'cos', 'cosh', 'degrees', 'e', 'erf', 'erfc', 'exp', 'expm1', 'fabs', 'factorial', 'floor', 'fmod', 'frexp', 'fsum', 'gamma', 'gcd', 'hypot', 'inf', 'isclose', 'isfinite', 'isinf', 'isnan', 'ldexp', 'lgamma', 'log', 'log10', 'log1p', 'log2', 'modf', 'nan', 'pi', 'pow', 'radians', 'remainder', 'sin', 'sinh', 'sqrt', 'tan', 'tanh', 'tau', 'trunc']\n",
          "output_type": "stream"
        }
      ]
    },
    {
      "cell_type": "code",
      "metadata": {
        "id": "OrewGGcGnzMh",
        "outputId": "cbe51c0b-de93-49bd-9d43-534a0365d693"
      },
      "source": [
        "print(m.ceil(5.6)) #Next integer greaterthan the input value\n",
        "print(m.floor(6.5)) #Previous integer lessthan the input value\n",
        "print(m.fabs(-52.46513)) #Works on only floating-point data\n",
        "print(abs(-62))#Will work only on integers\n",
        "print(m.exp(2)) #e power value\n",
        "print(m.pow(2,8)) #x power y value [return: float] => x,y values may be floating-point\n",
        "print(m.pow(2.98,3.65))\n",
        "print(m.factorial(5)) #Print factorial value of a number\n",
        "print(m.fmod(52.65,6.5))\n",
        "print(m.gcd(3,8))"
      ],
      "id": "OrewGGcGnzMh",
      "execution_count": null,
      "outputs": [
        {
          "name": "stdout",
          "text": "6\n6\n52.46513\n62\n7.38905609893065\n256.0\n53.81326762465679\n120\n0.6499999999999986\n1\n",
          "output_type": "stream"
        }
      ]
    },
    {
      "cell_type": "code",
      "metadata": {
        "id": "ydg1-YnlnzMh",
        "outputId": "74b27325-41a2-44e7-f2ad-cfcf2bfd8b42"
      },
      "source": [
        "print(log10(1050))\n",
        "print(log(10))\n",
        "print(log2(10))"
      ],
      "id": "ydg1-YnlnzMh",
      "execution_count": null,
      "outputs": [
        {
          "name": "stdout",
          "text": "3.0211892990699383\n2.302585092994046\n3.321928094887362\n",
          "output_type": "stream"
        }
      ]
    },
    {
      "cell_type": "code",
      "metadata": {
        "id": "lUHrUVMjnzMi",
        "outputId": "f421f979-a225-4bb8-cfbe-6eadc28848dc"
      },
      "source": [
        "print(m.pi)\n",
        "print(m.remainder(10,4))"
      ],
      "id": "lUHrUVMjnzMi",
      "execution_count": null,
      "outputs": [
        {
          "name": "stdout",
          "text": "3.141592653589793\n2.0\n",
          "output_type": "stream"
        }
      ]
    },
    {
      "cell_type": "code",
      "metadata": {
        "id": "kDzQxw2LnzMj",
        "outputId": "ad79b79e-2eb9-4466-dc90-92423a48f3fc"
      },
      "source": [
        "print(m.trunc(5.68)) #Fractional part will be eliminated [Previous integer value]"
      ],
      "id": "kDzQxw2LnzMj",
      "execution_count": null,
      "outputs": [
        {
          "name": "stdout",
          "text": "5\n",
          "output_type": "stream"
        }
      ]
    },
    {
      "cell_type": "code",
      "metadata": {
        "id": "BJZuG2yMnzMj"
      },
      "source": [
        "Random:\n",
        "    1. Most used modulein the python\n",
        "    2. Used to generate random numbers\n",
        "        1. integers\n",
        "        2. floating-point"
      ],
      "id": "BJZuG2yMnzMj",
      "execution_count": null,
      "outputs": []
    },
    {
      "cell_type": "code",
      "metadata": {
        "id": "iUOCbskpnzMk",
        "outputId": "35ceb75f-b443-422d-b379-b8c825e5759c"
      },
      "source": [
        "import random as r\n",
        "l = [1,4,7,2,5,8,3,6,9,14,17,25,28,36,39,12,45,78,89,56,23]\n",
        "for x in range(5):\n",
        "    print(r.choice(l))"
      ],
      "id": "iUOCbskpnzMk",
      "execution_count": null,
      "outputs": [
        {
          "name": "stdout",
          "text": "3\n5\n9\n5\n89\n",
          "output_type": "stream"
        }
      ]
    },
    {
      "cell_type": "code",
      "metadata": {
        "id": "5BNE6aQTnzMl",
        "outputId": "4b051e88-a7f6-4160-e094-05bef1a8857d"
      },
      "source": [
        "print(dir(r))"
      ],
      "id": "5BNE6aQTnzMl",
      "execution_count": null,
      "outputs": [
        {
          "name": "stdout",
          "text": "['BPF', 'LOG4', 'NV_MAGICCONST', 'RECIP_BPF', 'Random', 'SG_MAGICCONST', 'SystemRandom', 'TWOPI', '_BuiltinMethodType', '_MethodType', '_Sequence', '_Set', '__all__', '__builtins__', '__cached__', '__doc__', '__file__', '__loader__', '__name__', '__package__', '__spec__', '_acos', '_bisect', '_ceil', '_cos', '_e', '_exp', '_inst', '_itertools', '_log', '_os', '_pi', '_random', '_sha512', '_sin', '_sqrt', '_test', '_test_generator', '_urandom', '_warn', 'betavariate', 'choice', 'choices', 'expovariate', 'gammavariate', 'gauss', 'getrandbits', 'getstate', 'lognormvariate', 'normalvariate', 'paretovariate', 'randint', 'random', 'randrange', 'sample', 'seed', 'setstate', 'shuffle', 'triangular', 'uniform', 'vonmisesvariate', 'weibullvariate']\n",
          "output_type": "stream"
        }
      ]
    },
    {
      "cell_type": "code",
      "metadata": {
        "id": "cPR7FmPrnzMn",
        "outputId": "8a1ff128-0b8a-4152-bae0-1709f588aaee"
      },
      "source": [
        "print(r.random())\n",
        "print(r.random())\n",
        "print(r.random())\n",
        "print(r.random())\n",
        "print(r.random())\n",
        "print(r.random()) #Generates a random number which is greaterthan 0 and lessthan 1 [15 decimal places will be printed]"
      ],
      "id": "cPR7FmPrnzMn",
      "execution_count": null,
      "outputs": [
        {
          "name": "stdout",
          "text": "0.03823841883271317\n0.453751222918625\n0.05136463341807529\n0.7649956150641586\n0.6139235335765019\n0.16110109268293304\n",
          "output_type": "stream"
        }
      ]
    },
    {
      "cell_type": "code",
      "metadata": {
        "id": "mjaG1xYInzMn",
        "outputId": "c48dfe40-6cb4-4c5e-d47e-c74153b79cbf"
      },
      "source": [
        "print(r.randint())"
      ],
      "id": "mjaG1xYInzMn",
      "execution_count": null,
      "outputs": [
        {
          "traceback": [
            "\u001b[0;31m---------------------------------------------------------------------------\u001b[0m",
            "\u001b[0;31mTypeError\u001b[0m                                 Traceback (most recent call last)",
            "\u001b[0;32m<ipython-input-37-cc8bf9f0cb46>\u001b[0m in \u001b[0;36m<module>\u001b[0;34m\u001b[0m\n\u001b[0;32m----> 1\u001b[0;31m \u001b[0mprint\u001b[0m\u001b[0;34m(\u001b[0m\u001b[0mr\u001b[0m\u001b[0;34m.\u001b[0m\u001b[0mrandint\u001b[0m\u001b[0;34m(\u001b[0m\u001b[0;34m)\u001b[0m\u001b[0;34m)\u001b[0m\u001b[0;34m\u001b[0m\u001b[0;34m\u001b[0m\u001b[0m\n\u001b[0m",
            "\u001b[0;31mTypeError\u001b[0m: randint() missing 2 required positional arguments: 'a' and 'b'"
          ],
          "ename": "TypeError",
          "evalue": "randint() missing 2 required positional arguments: 'a' and 'b'",
          "output_type": "error"
        }
      ]
    },
    {
      "cell_type": "code",
      "metadata": {
        "id": "KW_qzA4unzMr",
        "outputId": "da5c8837-a6e8-4208-fa9e-08861be8ba26"
      },
      "source": [
        "print(r.randint(10,50))\n",
        "print(r.randint(10,50))\n",
        "print(r.randint(10,50))\n",
        "print(r.randint(10,50))"
      ],
      "id": "KW_qzA4unzMr",
      "execution_count": null,
      "outputs": [
        {
          "name": "stdout",
          "text": "42\n28\n50\n26\n",
          "output_type": "stream"
        }
      ]
    },
    {
      "cell_type": "code",
      "metadata": {
        "id": "Iqza2SB0nzMs",
        "outputId": "ca21128c-9e83-4d5b-f3d9-abb15f04ac54"
      },
      "source": [
        "print(r.randrange(10,20,2))\n",
        "print(r.randrange(10,20,2))\n",
        "print(r.randrange(10,20,2))"
      ],
      "id": "Iqza2SB0nzMs",
      "execution_count": null,
      "outputs": [
        {
          "name": "stdout",
          "text": "14\n16\n14\n",
          "output_type": "stream"
        }
      ]
    },
    {
      "cell_type": "code",
      "metadata": {
        "id": "Sgy4JAvsnzMs",
        "outputId": "b289429b-380f-434a-9afb-ad100142e3f8"
      },
      "source": [
        "#Generate a string of 12 chracters length including characters and numbers [Password Generator]\n",
        "import string as s\n",
        "import random as r\n",
        "print(''.join([r.choice(s.ascii_letters+s.digits) for n in range(12)]))\n",
        "print(''.join([r.choice(s.ascii_letters+s.digits) for n in range(12)]))\n",
        "print(''.join([r.choice(s.ascii_letters+s.digits) for n in range(12)]))\n",
        "print(''.join([r.choice(s.ascii_letters+s.digits) for n in range(12)]))"
      ],
      "id": "Sgy4JAvsnzMs",
      "execution_count": null,
      "outputs": [
        {
          "name": "stdout",
          "text": "9zZRmftD0nKA\nlEQUViQgurGM\n5Gxi7Q41McME\nJQJTndrIPjuZ\n",
          "output_type": "stream"
        }
      ]
    },
    {
      "cell_type": "code",
      "metadata": {
        "id": "vEBIen1ynzMt",
        "outputId": "caa8de40-c2b4-486e-bb98-8c52662ae010"
      },
      "source": [
        "print(''.join([str(r.choice([0,1,2,3,4,5,6,7,8,9])) for n in range(6)]))\n",
        "print(''.join([str(r.choice([0,1,2,3,4,5,6,7,8,9])) for n in range(6)]))\n",
        "print(''.join([str(r.choice([0,1,2,3,4,5,6,7,8,9])) for n in range(6)]))\n",
        "print(''.join([str(r.choice([0,1,2,3,4,5,6,7,8,9])) for n in range(6)]))\n",
        "print(''.join([str(r.choice([0,1,2,3,4,5,6,7,8,9])) for n in range(6)]))"
      ],
      "id": "vEBIen1ynzMt",
      "execution_count": null,
      "outputs": [
        {
          "name": "stdout",
          "text": "947915\n574420\n630051\n558871\n804928\n",
          "output_type": "stream"
        }
      ]
    },
    {
      "cell_type": "code",
      "metadata": {
        "id": "xbHBV4zInzMu",
        "outputId": "e11587f2-897d-4f5f-e556-5499128bd14c"
      },
      "source": [
        "#Random game: \n",
        "import random as r\n",
        "name = input(\"Enter your name:\")\n",
        "for x in range(5):\n",
        "    uv = int(input(\"Pick a number between 1 - 10:\"))\n",
        "    sv = r.randint(1,10)\n",
        "    print(\"System generated value is:\",sv)\n",
        "    if uv == sv:\n",
        "        print(name,\"won the game\")\n",
        "        break\n",
        "else:\n",
        "    print(\"System won the game\")"
      ],
      "id": "xbHBV4zInzMu",
      "execution_count": null,
      "outputs": [
        {
          "output_type": "stream",
          "name": "stdin",
          "text": "Enter your name: Jeevan\nPick a number between 1 - 10: 5\n"
        },
        {
          "name": "stdout",
          "text": "System generated value is: 7\n",
          "output_type": "stream"
        },
        {
          "output_type": "stream",
          "name": "stdin",
          "text": "Pick a number between 1 - 10: 6\n"
        },
        {
          "name": "stdout",
          "text": "System generated value is: 7\n",
          "output_type": "stream"
        },
        {
          "output_type": "stream",
          "name": "stdin",
          "text": "Pick a number between 1 - 10: 8\n"
        },
        {
          "name": "stdout",
          "text": "System generated value is: 6\n",
          "output_type": "stream"
        },
        {
          "output_type": "stream",
          "name": "stdin",
          "text": "Pick a number between 1 - 10: 9\n"
        },
        {
          "name": "stdout",
          "text": "System generated value is: 6\n",
          "output_type": "stream"
        },
        {
          "output_type": "stream",
          "name": "stdin",
          "text": "Pick a number between 1 - 10: 4\n"
        },
        {
          "name": "stdout",
          "text": "System generated value is: 1\nSystem won the game\n",
          "output_type": "stream"
        }
      ]
    },
    {
      "cell_type": "code",
      "metadata": {
        "id": "QjAhOGjJnzMu",
        "outputId": "f054a53d-50dc-45d8-c5d8-57719e17a338"
      },
      "source": [
        "import random as r\n",
        "name = input(\"Enter your name:\")\n",
        "for x in range(5):\n",
        "    uv = int(input(\"Pick a number between 1 - 10:\"))\n",
        "    sv = r.randint(1,10)\n",
        "    print(\"System generated value is:\",sv)\n",
        "    if uv == sv:\n",
        "        print(name,\"won the game\")\n",
        "        break\n",
        "else:\n",
        "    print(\"System won the game\")"
      ],
      "id": "QjAhOGjJnzMu",
      "execution_count": null,
      "outputs": [
        {
          "output_type": "stream",
          "name": "stdin",
          "text": "Enter your name: Jeevan\nPick a number between 1 - 10: 8\n"
        },
        {
          "name": "stdout",
          "text": "System generated value is: 8\nJeevan won the game\n",
          "output_type": "stream"
        }
      ]
    },
    {
      "cell_type": "code",
      "metadata": {
        "id": "p3qCdeuunzMv",
        "outputId": "092c5b45-6a6d-4dc6-e133-0abd898466f1"
      },
      "source": [
        "help('modules')"
      ],
      "id": "p3qCdeuunzMv",
      "execution_count": null,
      "outputs": [
        {
          "name": "stdout",
          "text": "\nPlease wait a moment while I gather a list of all available modules...\n\n",
          "output_type": "stream"
        },
        {
          "name": "stderr",
          "text": "/srv/conda/envs/notebook/lib/python3.7/site-packages/IPython/kernel/__init__.py:13: ShimWarning: The `IPython.kernel` package has been deprecated since IPython 4.0.You should import from ipykernel or jupyter_client instead.\n  \"You should import from ipykernel or jupyter_client instead.\", ShimWarning)\ngenerated new fontManager\n/srv/conda/envs/notebook/lib/python3.7/site-packages/skimage/novice/__init__.py:103: UserWarning: The `skimage.novice` module was deprecated in version 0.14. It will be removed in 0.16.\n  warnings.warn(\"The `skimage.novice` module was deprecated in version 0.14. \"\n/srv/conda/envs/notebook/lib/python3.7/site-packages/skimage/viewer/utils/core.py:10: UserWarning: Recommended matplotlib backend is `Agg` for full skimage.viewer functionality.\n  warn(\"Recommended matplotlib backend is `Agg` for full \"\n/srv/conda/envs/notebook/lib/python3.7/site-packages/sklearn/linear_model/least_angle.py:30: DeprecationWarning: `np.float` is a deprecated alias for the builtin `float`. To silence this warning, use `float` by itself. Doing this will not modify any behavior and is safe. If you specifically wanted the numpy scalar type, use `np.float64` here.\nDeprecated in NumPy 1.20; for more details and guidance: https://numpy.org/devdocs/release/1.20.0-notes.html#deprecations\n  method='lar', copy_X=True, eps=np.finfo(np.float).eps,\n/srv/conda/envs/notebook/lib/python3.7/site-packages/sklearn/linear_model/least_angle.py:167: DeprecationWarning: `np.float` is a deprecated alias for the builtin `float`. To silence this warning, use `float` by itself. Doing this will not modify any behavior and is safe. If you specifically wanted the numpy scalar type, use `np.float64` here.\nDeprecated in NumPy 1.20; for more details and guidance: https://numpy.org/devdocs/release/1.20.0-notes.html#deprecations\n  method='lar', copy_X=True, eps=np.finfo(np.float).eps,\n/srv/conda/envs/notebook/lib/python3.7/site-packages/sklearn/linear_model/least_angle.py:284: DeprecationWarning: `np.float` is a deprecated alias for the builtin `float`. To silence this warning, use `float` by itself. Doing this will not modify any behavior and is safe. If you specifically wanted the numpy scalar type, use `np.float64` here.\nDeprecated in NumPy 1.20; for more details and guidance: https://numpy.org/devdocs/release/1.20.0-notes.html#deprecations\n  eps=np.finfo(np.float).eps, copy_Gram=True, verbose=0,\n/srv/conda/envs/notebook/lib/python3.7/site-packages/sklearn/linear_model/least_angle.py:862: DeprecationWarning: `np.float` is a deprecated alias for the builtin `float`. To silence this warning, use `float` by itself. Doing this will not modify any behavior and is safe. If you specifically wanted the numpy scalar type, use `np.float64` here.\nDeprecated in NumPy 1.20; for more details and guidance: https://numpy.org/devdocs/release/1.20.0-notes.html#deprecations\n  eps=np.finfo(np.float).eps, copy_X=True, fit_path=True,\n/srv/conda/envs/notebook/lib/python3.7/site-packages/sklearn/linear_model/least_angle.py:1101: DeprecationWarning: `np.float` is a deprecated alias for the builtin `float`. To silence this warning, use `float` by itself. Doing this will not modify any behavior and is safe. If you specifically wanted the numpy scalar type, use `np.float64` here.\nDeprecated in NumPy 1.20; for more details and guidance: https://numpy.org/devdocs/release/1.20.0-notes.html#deprecations\n  eps=np.finfo(np.float).eps, copy_X=True, fit_path=True,\n/srv/conda/envs/notebook/lib/python3.7/site-packages/sklearn/linear_model/least_angle.py:1127: DeprecationWarning: `np.float` is a deprecated alias for the builtin `float`. To silence this warning, use `float` by itself. Doing this will not modify any behavior and is safe. If you specifically wanted the numpy scalar type, use `np.float64` here.\nDeprecated in NumPy 1.20; for more details and guidance: https://numpy.org/devdocs/release/1.20.0-notes.html#deprecations\n  eps=np.finfo(np.float).eps, positive=False):\n/srv/conda/envs/notebook/lib/python3.7/site-packages/sklearn/linear_model/least_angle.py:1362: DeprecationWarning: `np.float` is a deprecated alias for the builtin `float`. To silence this warning, use `float` by itself. Doing this will not modify any behavior and is safe. If you specifically wanted the numpy scalar type, use `np.float64` here.\nDeprecated in NumPy 1.20; for more details and guidance: https://numpy.org/devdocs/release/1.20.0-notes.html#deprecations\n  max_n_alphas=1000, n_jobs=None, eps=np.finfo(np.float).eps,\n/srv/conda/envs/notebook/lib/python3.7/site-packages/sklearn/linear_model/least_angle.py:1602: DeprecationWarning: `np.float` is a deprecated alias for the builtin `float`. To silence this warning, use `float` by itself. Doing this will not modify any behavior and is safe. If you specifically wanted the numpy scalar type, use `np.float64` here.\nDeprecated in NumPy 1.20; for more details and guidance: https://numpy.org/devdocs/release/1.20.0-notes.html#deprecations\n  max_n_alphas=1000, n_jobs=None, eps=np.finfo(np.float).eps,\n/srv/conda/envs/notebook/lib/python3.7/site-packages/sklearn/linear_model/least_angle.py:1738: DeprecationWarning: `np.float` is a deprecated alias for the builtin `float`. To silence this warning, use `float` by itself. Doing this will not modify any behavior and is safe. If you specifically wanted the numpy scalar type, use `np.float64` here.\nDeprecated in NumPy 1.20; for more details and guidance: https://numpy.org/devdocs/release/1.20.0-notes.html#deprecations\n  eps=np.finfo(np.float).eps, copy_X=True, positive=False):\n/srv/conda/envs/notebook/lib/python3.7/site-packages/sklearn/decomposition/online_lda.py:29: DeprecationWarning: `np.float` is a deprecated alias for the builtin `float`. To silence this warning, use `float` by itself. Doing this will not modify any behavior and is safe. If you specifically wanted the numpy scalar type, use `np.float64` here.\nDeprecated in NumPy 1.20; for more details and guidance: https://numpy.org/devdocs/release/1.20.0-notes.html#deprecations\n  EPS = np.finfo(np.float).eps\n/srv/conda/envs/notebook/lib/python3.7/site-packages/sklearn/feature_extraction/image.py:167: DeprecationWarning: `np.int` is a deprecated alias for the builtin `int`. To silence this warning, use `int` by itself. Doing this will not modify any behavior and is safe. When replacing `np.int`, you may wish to use e.g. `np.int64` or `np.int32` to specify the precision. If you wish to review your current use, check the release note link for additional information.\nDeprecated in NumPy 1.20; for more details and guidance: https://numpy.org/devdocs/release/1.20.0-notes.html#deprecations\n  dtype=np.int):\n/srv/conda/envs/notebook/lib/python3.7/site-packages/sklearn/ensemble/gradient_boosting.py:32: DeprecationWarning: `np.bool` is a deprecated alias for the builtin `bool`. To silence this warning, use `bool` by itself. Doing this will not modify any behavior and is safe. If you specifically wanted the numpy scalar type, use `np.bool_` here.\nDeprecated in NumPy 1.20; for more details and guidance: https://numpy.org/devdocs/release/1.20.0-notes.html#deprecations\n  from ._gradient_boosting import predict_stages\n/srv/conda/envs/notebook/lib/python3.7/site-packages/sklearn/ensemble/gradient_boosting.py:32: DeprecationWarning: `np.bool` is a deprecated alias for the builtin `bool`. To silence this warning, use `bool` by itself. Doing this will not modify any behavior and is safe. If you specifically wanted the numpy scalar type, use `np.bool_` here.\nDeprecated in NumPy 1.20; for more details and guidance: https://numpy.org/devdocs/release/1.20.0-notes.html#deprecations\n  from ._gradient_boosting import predict_stages\n/srv/conda/envs/notebook/lib/python3.7/site-packages/sklearn/externals/joblib/__init__.py:15: DeprecationWarning: sklearn.externals.joblib is deprecated in 0.21 and will be removed in 0.23. Please import this functionality directly from joblib, which can be installed with: pip install joblib. If this warning is raised when loading pickled models, you may need to re-serialize those models with scikit-learn 0.21+.\n  warnings.warn(msg, category=DeprecationWarning)\n/srv/conda/envs/notebook/lib/python3.7/site-packages/tensorboard/compat/tensorflow_stub/dtypes.py:541: FutureWarning: Passing (type, 1) or '1type' as a synonym of type is deprecated; in a future version of numpy, it will be understood as (type, (1,)) / '(1,)type'.\n  _np_qint8 = np.dtype([(\"qint8\", np.int8, 1)])\n/srv/conda/envs/notebook/lib/python3.7/site-packages/tensorboard/compat/tensorflow_stub/dtypes.py:542: FutureWarning: Passing (type, 1) or '1type' as a synonym of type is deprecated; in a future version of numpy, it will be understood as (type, (1,)) / '(1,)type'.\n  _np_quint8 = np.dtype([(\"quint8\", np.uint8, 1)])\n/srv/conda/envs/notebook/lib/python3.7/site-packages/tensorboard/compat/tensorflow_stub/dtypes.py:543: FutureWarning: Passing (type, 1) or '1type' as a synonym of type is deprecated; in a future version of numpy, it will be understood as (type, (1,)) / '(1,)type'.\n  _np_qint16 = np.dtype([(\"qint16\", np.int16, 1)])\n/srv/conda/envs/notebook/lib/python3.7/site-packages/tensorboard/compat/tensorflow_stub/dtypes.py:544: FutureWarning: Passing (type, 1) or '1type' as a synonym of type is deprecated; in a future version of numpy, it will be understood as (type, (1,)) / '(1,)type'.\n  _np_quint16 = np.dtype([(\"quint16\", np.uint16, 1)])\n/srv/conda/envs/notebook/lib/python3.7/site-packages/tensorboard/compat/tensorflow_stub/dtypes.py:545: FutureWarning: Passing (type, 1) or '1type' as a synonym of type is deprecated; in a future version of numpy, it will be understood as (type, (1,)) / '(1,)type'.\n  _np_qint32 = np.dtype([(\"qint32\", np.int32, 1)])\n/srv/conda/envs/notebook/lib/python3.7/site-packages/tensorboard/compat/tensorflow_stub/dtypes.py:550: FutureWarning: Passing (type, 1) or '1type' as a synonym of type is deprecated; in a future version of numpy, it will be understood as (type, (1,)) / '(1,)type'.\n  np_resource = np.dtype([(\"resource\", np.ubyte, 1)])\n/srv/conda/envs/notebook/lib/python3.7/site-packages/tensorflow/python/framework/dtypes.py:526: FutureWarning: Passing (type, 1) or '1type' as a synonym of type is deprecated; in a future version of numpy, it will be understood as (type, (1,)) / '(1,)type'.\n  _np_qint8 = np.dtype([(\"qint8\", np.int8, 1)])\n/srv/conda/envs/notebook/lib/python3.7/site-packages/tensorflow/python/framework/dtypes.py:527: FutureWarning: Passing (type, 1) or '1type' as a synonym of type is deprecated; in a future version of numpy, it will be understood as (type, (1,)) / '(1,)type'.\n  _np_quint8 = np.dtype([(\"quint8\", np.uint8, 1)])\n/srv/conda/envs/notebook/lib/python3.7/site-packages/tensorflow/python/framework/dtypes.py:528: FutureWarning: Passing (type, 1) or '1type' as a synonym of type is deprecated; in a future version of numpy, it will be understood as (type, (1,)) / '(1,)type'.\n  _np_qint16 = np.dtype([(\"qint16\", np.int16, 1)])\n/srv/conda/envs/notebook/lib/python3.7/site-packages/tensorflow/python/framework/dtypes.py:529: FutureWarning: Passing (type, 1) or '1type' as a synonym of type is deprecated; in a future version of numpy, it will be understood as (type, (1,)) / '(1,)type'.\n  _np_quint16 = np.dtype([(\"quint16\", np.uint16, 1)])\n/srv/conda/envs/notebook/lib/python3.7/site-packages/tensorflow/python/framework/dtypes.py:530: FutureWarning: Passing (type, 1) or '1type' as a synonym of type is deprecated; in a future version of numpy, it will be understood as (type, (1,)) / '(1,)type'.\n  _np_qint32 = np.dtype([(\"qint32\", np.int32, 1)])\n/srv/conda/envs/notebook/lib/python3.7/site-packages/tensorflow/python/framework/dtypes.py:535: FutureWarning: Passing (type, 1) or '1type' as a synonym of type is deprecated; in a future version of numpy, it will be understood as (type, (1,)) / '(1,)type'.\n  np_resource = np.dtype([(\"resource\", np.ubyte, 1)])\n",
          "output_type": "stream"
        },
        {
          "name": "stdout",
          "text": "IPython             base64              jsonschema          rmagic\nOpenSSL             bdb                 jupyter             runpy\nPIL                 binascii            jupyter_client      sched\nPyQt5               binhex              jupyter_core        scipy\n__future__          bisect              jupyter_offlinenotebook seaborn\n_abc                bleach              jupyter_resource_usage secrets\n_ast                blinker             jupyter_rsession_proxy select\n_asyncio            bokeh               jupyter_server      selectors\n_bisect             bqplot              jupyter_server_proxy send2trash\n_blake2             branca              jupyter_shiny_proxy setuptools\n_bootlocale         brotli              jupyter_telemetry   shapely\n_bz2                builtins            jupyterhub          shelve\n_cffi_backend       bz2                 jupyterlab          shlex\n_codecs             cProfile            jupyterlab_pygments shutil\n_codecs_cn          cached_property     jupyterlab_server   signal\n_codecs_hk          calendar            jupyterlab_widgets  simpervisor\n_codecs_iso2022     certifi             jwt                 sipconfig\n_codecs_jp          certipy             keras_applications  sipdistutils\n_codecs_kr          cffi                keras_preprocessing site\n_codecs_tw          cgi                 keyword             six\n_collections        cgitb               kiwisolver          skimage\n_collections_abc    chardet             lib2to3             sklearn\n_compat_pickle      chunk               linecache           smtpd\n_compression        click               locale              smtplib\n_contextvars        cloudpickle         locket              sndhdr\n_crypt              cmath               logging             sniffio\n_csv                cmd                 lorenz              socket\n_ctypes             code                lzma                socketserver\n_ctypes_test        codecs              macpath             socks\n_curses             codeop              mailbox             sockshandler\n_curses_panel       collections         mailcap             sortedcontainers\n_datetime           colorsys            mako                spwd\n_decimal            compileall          markdown            sqlalchemy\n_distutils_hack     concurrent          markupsafe          sqlite3\n_dummy_thread       configparser        marshal             sre_compile\n_elementtree        contextlib          math                sre_constants\n_functools          contextvars         matplotlib          sre_parse\n_hashlib            copy                mimetypes           ssl\n_heapq              copyreg             mistune             stat\n_imp                crypt               mmap                statistics\n_io                 cryptography        mock                statsmodels\n_json               csv                 modulefinder        storemagic\n_locale             ctypes              mpmath              string\n_lsprof             curl                msgpack             stringprep\n_lzma               curses              multidict           struct\n_markupbase         cycler              multiprocessing     subprocess\n_md5                cythonmagic         nbclassic           sunau\n_multibytecodec     cytoolz             nbclient            symbol\n_multiprocessing    dask                nbconvert           sympy\n_opcode             dataclasses         nbformat            sympyprinting\n_operator           datetime            nest_asyncio        symtable\n_osx_support        dateutil            netrc               sys\n_pickle             dbm                 networkx            sysconfig\n_posixsubprocess    debugpy             nis                 syslog\n_py_abc             decimal             nntplib             tabnanny\n_pydecimal          decorator           notebook            tarfile\n_pyio               defusedxml          nteract_on_jupyter  tblib\n_pyrsistent_version difflib             ntpath              telnetlib\n_queue              dis                 nturl2path          tempfile\n_random             distributed         numbers             tensorboard\n_ruamel_yaml        distutils           numpy               tensorflow\n_sha1               doctest             oauthlib            tensorflow_estimator\n_sha256             dummy_threading     olefile             termcolor\n_sha3               easy_install        opcode              terminado\n_sha512             editor              operator            termios\n_signal             email               optparse            test\n_sitebuiltins       encodings           os                  testpath\n_socket             ensurepip           ossaudiodev         tests\n_sqlite3            entrypoints         packaging           textwrap\n_sre                enum                pamela              this\n_ssl                errno               pandas              threading\n_stat               fastcache           pandocfilters       time\n_string             faulthandler        parser              timeit\n_strptime           fcntl               parso               tkinter\n_struct             filecmp             partd               tlz\n_symtable           fileinput           pathlib             token\n_sysconfigdata_aarch64_conda_cos7_linux_gnu fnmatch             patsy               tokenize\n_sysconfigdata_aarch64_conda_linux_gnu formatter           pdb                 toolz\n_sysconfigdata_i686_conda_cos6_linux_gnu fractions           pexpect             tornado\n_sysconfigdata_i686_conda_linux_gnu fsspec              pickle              trace\n_sysconfigdata_m_linux_x86_64-linux-gnu ftplib              pickleshare         traceback\n_sysconfigdata_powerpc64le_conda_cos7_linux_gnu functools           pickletools         tracemalloc\n_sysconfigdata_powerpc64le_conda_linux_gnu gast                pip                 traitlets\n_sysconfigdata_x86_64_apple_darwin13_4_0 gc                  pipes               traittypes\n_sysconfigdata_x86_64_conda_cos6_linux_gnu genericpath         pkg_resources       tty\n_sysconfigdata_x86_64_conda_linux_gnu getopt              pkgutil             turtle\n_testbuffer         getpass             platform            turtledemo\n_testcapi           gettext             plistlib            types\n_testimportmultiple glob                poplib              typing\n_testmultiphase     gmpy2               posix               typing_extensions\n_thread             grp                 posixpath           unicodedata\n_threading_local    grpc                pprint              unittest\n_tkinter            gzip                profile             urllib\n_tracemalloc        h5py                prometheus_client   urllib3\n_warnings           hashlib             prompt_toolkit      uu\n_weakref            heapdict            pstats              uuid\n_weakrefset         heapq               psutil              venv\n_xxtestfuzz         hmac                pty                 warnings\n_yaml               html                ptyprocess          wave\nabc                 http                pvectorc            wcwidth\nabsl                idlelib             pwd                 weakref\naifc                idna                py_compile          webbrowser\naiohttp             imageio             pyclbr              webencodings\nalembic             imaplib             pycparser           werkzeug\naltair              imghdr              pycurl              wheel\nantigravity         imp                 pydoc               widgetsnbextension\nanyio               importlib           pydoc_data          wsgiref\nargon2              importlib_metadata  pyexpat             xdrlib\nargparse            inspect             pygments            xml\narray               invoke              pylab               xmlrpc\nast                 io                  pyparsing           xxlimited\nastor               ipaddress           pyrsistent          xxsubtype\nasync_generator     ipykernel           pythonjsonlogger    yaml\nasync_timeout       ipykernel_launcher  pytz                yarl\nasynchat            ipyleaflet          pywt                zict\nasyncio             ipython_genutils    queue               zipapp\nasyncore            ipywidgets          quopri              zipfile\natexit              isympy              random              zipimport\nattr                itertools           re                  zipp\naudioop             jedi                readline            zlib\nautoreload          jinja2              reprlib             zmq\nbabel               joblib              requests            \nbackcall            json                resource            \nbackports           json5               rlcompleter         \n\nEnter any module name to get more help.  Or, type \"modules spam\" to search\nfor modules whose name or summary contain the string \"spam\".\n\n",
          "output_type": "stream"
        },
        {
          "name": "stderr",
          "text": "/srv/conda/envs/notebook/lib/python3.7/pkgutil.py:107: VisibleDeprecationWarning: zmq.eventloop.minitornado is deprecated in pyzmq 14.0 and will be removed.\n    Install tornado itself to use zmq with the tornado IOLoop.\n    \n  yield from walk_packages(path, info.name+'.', onerror)\n",
          "output_type": "stream"
        }
      ]
    },
    {
      "cell_type": "code",
      "metadata": {
        "id": "PZAS2JVRnzMw"
      },
      "source": [
        "Advaced Modules:\n",
        "    1. functools: partial, reduce\n",
        "    2. itertools: accumulate, chain, combinations, permutations, compress\n",
        "    3. collections: chainmap, Counter"
      ],
      "id": "PZAS2JVRnzMw",
      "execution_count": null,
      "outputs": []
    },
    {
      "cell_type": "code",
      "metadata": {
        "trusted": true,
        "id": "T3HAq4qVnzMw",
        "outputId": "659ad37a-25bd-4d01-eeef-71a8cc73f633"
      },
      "source": [
        "l = []\n",
        "def addToList(l,value):\n",
        "    l.append(value)\n",
        "    return\n",
        "\n",
        "addToList(l,12)\n",
        "addToList(l,47)\n",
        "addToList(l,85)\n",
        "addToList(l,54)\n",
        "addToList(l,63)\n",
        "print(l)"
      ],
      "id": "T3HAq4qVnzMw",
      "execution_count": null,
      "outputs": [
        {
          "name": "stdout",
          "text": "[12, 47, 85, 54, 63]\n",
          "output_type": "stream"
        }
      ]
    },
    {
      "cell_type": "code",
      "metadata": {
        "trusted": true,
        "id": "LK__NfIVnzMx",
        "outputId": "d2d0a98b-00b9-44dc-fafd-a0fb1b93f7b6"
      },
      "source": [
        "#Partial: ne need to repeat value for everytime\n",
        "import functools as f\n",
        "ft = f.partial(addToList,l)\n",
        "ft(74)\n",
        "ft(98)\n",
        "ft(66)\n",
        "print(l)"
      ],
      "id": "LK__NfIVnzMx",
      "execution_count": null,
      "outputs": [
        {
          "name": "stdout",
          "text": "[12, 47, 85, 54, 63, 74, 98, 66]\n",
          "output_type": "stream"
        }
      ]
    },
    {
      "cell_type": "code",
      "metadata": {
        "trusted": true,
        "id": "wGXDO6wGnzMy",
        "outputId": "ffa492e7-2ad8-4879-98d8-c21e92935b15"
      },
      "source": [
        "sum = 0\n",
        "for x in range(1,11):\n",
        "    sum += x\n",
        "print(sum)"
      ],
      "id": "wGXDO6wGnzMy",
      "execution_count": null,
      "outputs": [
        {
          "name": "stdout",
          "text": "55\n",
          "output_type": "stream"
        }
      ]
    },
    {
      "cell_type": "code",
      "metadata": {
        "trusted": true,
        "id": "Uq5ar8QYnzM2",
        "outputId": "4725f5fc-9591-4ef6-a223-9278654fdff2"
      },
      "source": [
        "#reduce: Fold method in mathematics\n",
        "#1,2,3,4,5 => 1+2=3+3=6\n",
        "def add(x,y):\n",
        "    return x+y\n",
        "\n",
        "print(f.reduce(add,range(1,11)))"
      ],
      "id": "Uq5ar8QYnzM2",
      "execution_count": null,
      "outputs": [
        {
          "name": "stdout",
          "text": "55\n",
          "output_type": "stream"
        }
      ]
    },
    {
      "cell_type": "code",
      "metadata": {
        "trusted": true,
        "id": "jCJg-II8nzM4",
        "outputId": "6b52cb6c-0f2b-40de-b1d2-94066ce2c51d"
      },
      "source": [
        "#chain\n",
        "a = range(5)\n",
        "b = range(6,10)\n",
        "print(list(a),list(b))"
      ],
      "id": "jCJg-II8nzM4",
      "execution_count": null,
      "outputs": [
        {
          "name": "stdout",
          "text": "[0, 1, 2, 3, 4] [6, 7, 8, 9]\n",
          "output_type": "stream"
        }
      ]
    },
    {
      "cell_type": "code",
      "metadata": {
        "trusted": true,
        "id": "M3HxiPWfnzM8",
        "outputId": "330f2142-13e2-475c-a059-3ee1b609f4e5"
      },
      "source": [
        "list(a) + list(b)"
      ],
      "id": "M3HxiPWfnzM8",
      "execution_count": null,
      "outputs": [
        {
          "execution_count": 10,
          "output_type": "execute_result",
          "data": {
            "text/plain": "[0, 1, 2, 3, 4, 6, 7, 8, 9]"
          },
          "metadata": {}
        }
      ]
    },
    {
      "cell_type": "code",
      "metadata": {
        "trusted": true,
        "id": "kvwo8XvLnzM9",
        "outputId": "fcf0e7c5-33f2-42a9-dd04-6650954c90f0"
      },
      "source": [
        "import itertools as it\n",
        "a = range(5)\n",
        "b = range(6,10)\n",
        "print(list(it.chain(a,b)))"
      ],
      "id": "kvwo8XvLnzM9",
      "execution_count": null,
      "outputs": [
        {
          "name": "stdout",
          "text": "[0, 1, 2, 3, 4, 6, 7, 8, 9]\n",
          "output_type": "stream"
        }
      ]
    },
    {
      "cell_type": "code",
      "metadata": {
        "trusted": true,
        "id": "1LgIJ9tcnzM9",
        "outputId": "322c8583-c916-4899-92c6-e2ebce1b6ed1"
      },
      "source": [
        "import itertools as it\n",
        "a = range(5)\n",
        "b = range(6,10)\n",
        "c = range(11,18)\n",
        "print(list(it.chain(a,b,c)))"
      ],
      "id": "1LgIJ9tcnzM9",
      "execution_count": null,
      "outputs": [
        {
          "name": "stdout",
          "text": "[0, 1, 2, 3, 4, 6, 7, 8, 9, 11, 12, 13, 14, 15, 16, 17]\n",
          "output_type": "stream"
        }
      ]
    },
    {
      "cell_type": "code",
      "metadata": {
        "trusted": true,
        "id": "cXeZy0kjnzM-",
        "outputId": "23fa818c-c79a-42f9-c559-dc028f578c27"
      },
      "source": [
        "l = [1,2,3,4,5]\n",
        "r = []\n",
        "sum = 0\n",
        "for x in l:\n",
        "    sum += x\n",
        "    r.append(sum)\n",
        "print(l)\n",
        "print(r)"
      ],
      "id": "cXeZy0kjnzM-",
      "execution_count": null,
      "outputs": [
        {
          "name": "stdout",
          "text": "[1, 2, 3, 4, 5]\n[1, 3, 6, 10, 15]\n",
          "output_type": "stream"
        }
      ]
    },
    {
      "cell_type": "code",
      "metadata": {
        "trusted": true,
        "id": "cPzYHYocnzM_",
        "outputId": "6028ddb4-397f-4304-d3f3-0b6a8b69674a"
      },
      "source": [
        "#accumulate:reduce with intermediate result\n",
        "print(list(it.accumulate(l,add)))"
      ],
      "id": "cPzYHYocnzM_",
      "execution_count": null,
      "outputs": [
        {
          "name": "stdout",
          "text": "[1, 3, 6, 10, 15]\n",
          "output_type": "stream"
        }
      ]
    },
    {
      "cell_type": "code",
      "metadata": {
        "trusted": true,
        "id": "dkUyL5FWnzND",
        "outputId": "f85afc6c-0904-4918-8d03-c14764fedbc5"
      },
      "source": [
        "'''\n",
        "    range(5) => 0 1 2 3 4\n",
        "    2 => combination number\n",
        "'''\n",
        "print(list(it.combinations(range(5),2)))"
      ],
      "id": "dkUyL5FWnzND",
      "execution_count": null,
      "outputs": [
        {
          "name": "stdout",
          "text": "[(0, 1), (0, 2), (0, 3), (0, 4), (1, 2), (1, 3), (1, 4), (2, 3), (2, 4), (3, 4)]\n",
          "output_type": "stream"
        }
      ]
    },
    {
      "cell_type": "code",
      "metadata": {
        "trusted": true,
        "id": "52l4OoMwnzNE",
        "outputId": "cf08179b-d2d9-47a0-abf5-7aa4c7e91c53"
      },
      "source": [
        "print(list(it.combinations_with_replacement(range(5),2)))"
      ],
      "id": "52l4OoMwnzNE",
      "execution_count": null,
      "outputs": [
        {
          "name": "stdout",
          "text": "[(0, 0), (0, 1), (0, 2), (0, 3), (0, 4), (1, 1), (1, 2), (1, 3), (1, 4), (2, 2), (2, 3), (2, 4), (3, 3), (3, 4), (4, 4)]\n",
          "output_type": "stream"
        }
      ]
    },
    {
      "cell_type": "code",
      "metadata": {
        "trusted": true,
        "id": "dNvi1cNmnzNF",
        "outputId": "2d895577-c301-4d2c-d7ce-b60f4d41494d"
      },
      "source": [
        "print(list(it.combinations_with_replacement(\"JEEVAN\",3)))"
      ],
      "id": "dNvi1cNmnzNF",
      "execution_count": null,
      "outputs": [
        {
          "name": "stdout",
          "text": "[('J', 'J', 'J'), ('J', 'J', 'E'), ('J', 'J', 'E'), ('J', 'J', 'V'), ('J', 'J', 'A'), ('J', 'J', 'N'), ('J', 'E', 'E'), ('J', 'E', 'E'), ('J', 'E', 'V'), ('J', 'E', 'A'), ('J', 'E', 'N'), ('J', 'E', 'E'), ('J', 'E', 'V'), ('J', 'E', 'A'), ('J', 'E', 'N'), ('J', 'V', 'V'), ('J', 'V', 'A'), ('J', 'V', 'N'), ('J', 'A', 'A'), ('J', 'A', 'N'), ('J', 'N', 'N'), ('E', 'E', 'E'), ('E', 'E', 'E'), ('E', 'E', 'V'), ('E', 'E', 'A'), ('E', 'E', 'N'), ('E', 'E', 'E'), ('E', 'E', 'V'), ('E', 'E', 'A'), ('E', 'E', 'N'), ('E', 'V', 'V'), ('E', 'V', 'A'), ('E', 'V', 'N'), ('E', 'A', 'A'), ('E', 'A', 'N'), ('E', 'N', 'N'), ('E', 'E', 'E'), ('E', 'E', 'V'), ('E', 'E', 'A'), ('E', 'E', 'N'), ('E', 'V', 'V'), ('E', 'V', 'A'), ('E', 'V', 'N'), ('E', 'A', 'A'), ('E', 'A', 'N'), ('E', 'N', 'N'), ('V', 'V', 'V'), ('V', 'V', 'A'), ('V', 'V', 'N'), ('V', 'A', 'A'), ('V', 'A', 'N'), ('V', 'N', 'N'), ('A', 'A', 'A'), ('A', 'A', 'N'), ('A', 'N', 'N'), ('N', 'N', 'N')]\n",
          "output_type": "stream"
        }
      ]
    },
    {
      "cell_type": "code",
      "metadata": {
        "trusted": true,
        "id": "V9kHKShPnzNF",
        "outputId": "ae2257c2-b033-4d8a-b664-d188d950d5c6"
      },
      "source": [
        "print(list(it.permutations(range(5),2)))\n",
        "print(len(list(it.permutations(range(5),2))))"
      ],
      "id": "V9kHKShPnzNF",
      "execution_count": null,
      "outputs": [
        {
          "name": "stdout",
          "text": "[(0, 1), (0, 2), (0, 3), (0, 4), (1, 0), (1, 2), (1, 3), (1, 4), (2, 0), (2, 1), (2, 3), (2, 4), (3, 0), (3, 1), (3, 2), (3, 4), (4, 0), (4, 1), (4, 2), (4, 3)]\n20\n",
          "output_type": "stream"
        }
      ]
    },
    {
      "cell_type": "code",
      "metadata": {
        "trusted": true,
        "id": "5ta1wo4AnzNG",
        "outputId": "12d901aa-f2dc-4fd6-954b-273551358dd8"
      },
      "source": [
        "print(list(it.compress(\"JEEVAN KUMAR\",[1,0,1,0,1,0,1,1,1,1])))\n",
        "print(list(it.compress(range(15),[1,0,1,0,1,0,1,1,1,1])))"
      ],
      "id": "5ta1wo4AnzNG",
      "execution_count": null,
      "outputs": [
        {
          "name": "stdout",
          "text": "['J', 'E', 'A', ' ', 'K', 'U', 'M']\n[0, 2, 4, 6, 7, 8, 9]\n",
          "output_type": "stream"
        }
      ]
    },
    {
      "cell_type": "code",
      "metadata": {
        "trusted": true,
        "id": "Ia7KWlV4nzNH",
        "outputId": "17652a2a-ade0-47a2-b1a6-82853f92ec18"
      },
      "source": [
        "import collections as c\n",
        "d1 = {'a':1, 'b':2, 'c':3}\n",
        "d2 = {'d':4, 'e':5}\n",
        "print(c.ChainMap(d1,d2))"
      ],
      "id": "Ia7KWlV4nzNH",
      "execution_count": null,
      "outputs": [
        {
          "name": "stdout",
          "text": "ChainMap({'a': 1, 'b': 2, 'c': 3}, {'d': 4, 'e': 5})\n",
          "output_type": "stream"
        }
      ]
    },
    {
      "cell_type": "code",
      "metadata": {
        "trusted": true,
        "id": "8aM51K82nzNI",
        "outputId": "2ac06404-d988-40d6-b1e2-b26ec1ca4b47"
      },
      "source": [
        "import collections\n",
        "dir(collections)"
      ],
      "id": "8aM51K82nzNI",
      "execution_count": null,
      "outputs": [
        {
          "execution_count": 29,
          "output_type": "execute_result",
          "data": {
            "text/plain": "['ChainMap',\n 'Counter',\n 'OrderedDict',\n 'UserDict',\n 'UserList',\n 'UserString',\n '_Link',\n '_OrderedDictItemsView',\n '_OrderedDictKeysView',\n '_OrderedDictValuesView',\n '__all__',\n '__builtins__',\n '__cached__',\n '__doc__',\n '__file__',\n '__getattr__',\n '__loader__',\n '__name__',\n '__package__',\n '__path__',\n '__spec__',\n '_chain',\n '_collections_abc',\n '_count_elements',\n '_eq',\n '_heapq',\n '_iskeyword',\n '_itemgetter',\n '_nt_itemgetters',\n '_proxy',\n '_recursive_repr',\n '_repeat',\n '_starmap',\n '_sys',\n 'abc',\n 'defaultdict',\n 'deque',\n 'namedtuple']"
          },
          "metadata": {}
        }
      ]
    },
    {
      "cell_type": "code",
      "metadata": {
        "trusted": true,
        "id": "ToSj-M4inzNI",
        "outputId": "5ee98d9c-f675-4d2f-c216-af718c7f93eb"
      },
      "source": [
        "coun = c.Counter(\"Jeevan Kumar Paapagaari\")\n",
        "print(coun)"
      ],
      "id": "ToSj-M4inzNI",
      "execution_count": null,
      "outputs": [
        {
          "name": "stdout",
          "text": "Counter({'a': 7, 'e': 2, ' ': 2, 'r': 2, 'J': 1, 'v': 1, 'n': 1, 'K': 1, 'u': 1, 'm': 1, 'P': 1, 'p': 1, 'g': 1, 'i': 1})\n",
          "output_type": "stream"
        }
      ]
    },
    {
      "cell_type": "code",
      "metadata": {
        "id": "ApZU6fnanzNJ"
      },
      "source": [
        ""
      ],
      "id": "ApZU6fnanzNJ",
      "execution_count": null,
      "outputs": []
    }
  ]
}