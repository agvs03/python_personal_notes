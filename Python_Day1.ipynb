{
  "nbformat": 4,
  "nbformat_minor": 5,
  "metadata": {
    "kernelspec": {
      "display_name": "Python 3",
      "language": "python",
      "name": "python3"
    },
    "language_info": {
      "codemirror_mode": {
        "name": "ipython",
        "version": 3
      },
      "file_extension": ".py",
      "mimetype": "text/x-python",
      "name": "python",
      "nbconvert_exporter": "python",
      "pygments_lexer": "ipython3",
      "version": "3.7.8"
    },
    "colab": {
      "name": "Python Day1.ipynb",
      "provenance": []
    }
  },
  "cells": [
    {
      "cell_type": "code",
      "metadata": {
        "id": "j-qgEJkonxnX"
      },
      "source": [
        "Day - I:\n",
        "    1. Introduction to python programming\n",
        "    2. Differences between python2.x verison and python3.x\n",
        "    3. Variables in python\n",
        "        1. Syntax\n",
        "        2. Different ways of initialization\n",
        "    4. INput and Output operations\n",
        "        1. input()\n",
        "        2. print()\n",
        "    5. Keywords of python programming language\n",
        "    6. Introduction about datatypes in python\n",
        "    7. Operators supported by python programming\n",
        "    8. Control structures used in python programming\n",
        "    9. Numbers\n",
        "    10. Strings"
      ],
      "id": "j-qgEJkonxnX",
      "execution_count": null,
      "outputs": []
    },
    {
      "cell_type": "code",
      "metadata": {
        "id": "eol9crfinxnn"
      },
      "source": [
        "1. Introduction to python programming\n",
        "    1. Def: Python programming is high level, interpreted and general purpose programming language\n",
        "    2. Python programming features:\n",
        "        1. Easy to code because of its syntax\n",
        "        2. It is free and open-source\n",
        "        3. Large python community is available\n",
        "        4. Used for:\n",
        "            1. Cosole application [CUI]\n",
        "            2. Graphical User Interface applications [GUI]\n",
        "            3. Web Applications\n",
        "            4. Mobile Applications** [Not popular]\n",
        "        5. Easy to integrate with other, easy to extendable from other\n",
        "        6. **Rich support of predefined library\n",
        "        7. Dynamically typed programming language\n",
        "    3. Python downsides / Disadvantages:\n",
        "        1. Slow in execution because of interepreted programming\n",
        "        2. Lack of support in Mobile Application Development\n",
        "        3. Underdevelopment of database layers\n",
        "        4. Memory of datatypes\n",
        "        5. Dynamically typed programming language"
      ],
      "id": "eol9crfinxnn",
      "execution_count": null,
      "outputs": []
    },
    {
      "cell_type": "code",
      "metadata": {
        "id": "bEPgVk0Ynxnr"
      },
      "source": [
        "2. Differences between python2.x verison and python3.x\n",
        "    1. 2.x version released in 2000, but 3.x version in 2008 [Latest]\n",
        "    2. Libraries which designed for 2.x version in not comaptible with 3.x version\n",
        "    3. To perform division:\n",
        "        1. In python 2.x version: 9/4 = 2\n",
        "        2. In python 3.x version: 9/4 = 2.25\n",
        "    4. To print output:\n",
        "        1. In python 2.x version print is a statement: Eg: print \"Welcome to Python Programming\"\n",
        "        2. In python 3.x version print() is a method: Eg: print(\"Welcome to Python Programming\")\n",
        "    5. to generate numbers from x range to y range: [Used in loops]\n",
        "        1. 2.x version: xrange()\n",
        "        2. 3.x version: range()\n",
        "    6. All charcters in python:\n",
        "        1. 2.x version: ASCII [By default], UNICODE ['u']\n",
        "        2. 3.x version: ASCII along with UNICODE [By default]\n",
        "    7. as keyword introduced in python 3.x version in exception handling"
      ],
      "id": "bEPgVk0Ynxnr",
      "execution_count": null,
      "outputs": []
    },
    {
      "cell_type": "code",
      "metadata": {
        "id": "mWqt532Pnxnt"
      },
      "source": [
        "3. Variables in python:\n",
        "    1. Def: A named memory location is known as variable\n",
        "    2. How to declare variable in python:\n",
        "        Syntax:\n",
        "            VariableName = ConstantValue[Literal] \n",
        "            Rule to define VariabeName:\n",
        "                1. Should begin with alphabet [A-Z, a-z] or underscore(_)\n",
        "                2. No special symbols allowed except underscore\n",
        "                3. No keyword will be used as name of the variable\n",
        "                4. Name can be prepared by using alphabet and digit also, But remember point no 1\n",
        "                5. Examples:\n",
        "                        var = 100\n",
        "                        x = \"Hello\"\n",
        "                        1num = 150 //Invalid\n",
        "    3. How to know the type of variable and address of varibale in python:\n",
        "        1. Type: type(variableName)\n",
        "        2. Address: id(variablName)\n",
        "    4. How to initialize value(s) in variable(s):\n",
        "        1. Single value into single variable\n",
        "            Eg: x = 100\n",
        "                name = \"Jeevan\"\n",
        "                cgpa = 8.7\n",
        "        2. Single value into multiple variables\n",
        "            Eg: x = y = z = 100\n",
        "                Note: id's' of x,y and z are same\n",
        "        3. Multiple values into single variable =>Packing of data\n",
        "            Eg: x = 1,2,3,4,5,6\n",
        "        4. Multiple values into multiple variables => Unpacking of data\n",
        "            Eg: x,y,z = 10,20,30 \n",
        "            **Note: List of values count what we are passing as input should match with total number of variables"
      ],
      "id": "mWqt532Pnxnt",
      "execution_count": null,
      "outputs": []
    },
    {
      "cell_type": "code",
      "metadata": {
        "id": "Hvml3N4xnxnw",
        "outputId": "1241c6fc-d412-4951-8bd8-02907786d5b3"
      },
      "source": [
        "x = 100\n",
        "name = \"Jeevan\"\n",
        "cgpa = 8.7\n",
        "\n",
        "x,name,cgpa"
      ],
      "id": "Hvml3N4xnxnw",
      "execution_count": null,
      "outputs": [
        {
          "execution_count": 3,
          "output_type": "execute_result",
          "data": {
            "text/plain": "(100, 'Jeevan', 8.7)"
          },
          "metadata": {}
        }
      ]
    },
    {
      "cell_type": "code",
      "metadata": {
        "id": "2s9kh6Q-nxn1",
        "outputId": "dd4a5840-d90e-4250-f30e-6a5c73741738"
      },
      "source": [
        "x = 100\n",
        "type(x), id(x)"
      ],
      "id": "2s9kh6Q-nxn1",
      "execution_count": null,
      "outputs": [
        {
          "execution_count": 5,
          "output_type": "execute_result",
          "data": {
            "text/plain": "(int, 94553633627872)"
          },
          "metadata": {}
        }
      ]
    },
    {
      "cell_type": "code",
      "metadata": {
        "id": "sR-xD7S1nxn2",
        "outputId": "5d3f14fc-73af-47d6-935b-044d31551d75"
      },
      "source": [
        "x = \"Jeevan\"\n",
        "type(x), id(x)"
      ],
      "id": "sR-xD7S1nxn2",
      "execution_count": null,
      "outputs": [
        {
          "execution_count": 6,
          "output_type": "execute_result",
          "data": {
            "text/plain": "(str, 140228500768560)"
          },
          "metadata": {}
        }
      ]
    },
    {
      "cell_type": "code",
      "metadata": {
        "id": "EiDaxNugnxn5",
        "outputId": "f01d2c58-22ce-4074-c245-73e5465aa3ca"
      },
      "source": [
        "x = 9.4\n",
        "type(x),x"
      ],
      "id": "EiDaxNugnxn5",
      "execution_count": null,
      "outputs": [
        {
          "execution_count": 8,
          "output_type": "execute_result",
          "data": {
            "text/plain": "(float, 9.4)"
          },
          "metadata": {}
        }
      ]
    },
    {
      "cell_type": "code",
      "metadata": {
        "id": "pzJw5CM6nxn7",
        "outputId": "9be30646-6b8b-4a1f-839d-61c5a3762ba4"
      },
      "source": [
        "x = y = z = 100\n",
        "x,type(x),id(x),y,type(y),id(y),z,type(z),id(z)"
      ],
      "id": "pzJw5CM6nxn7",
      "execution_count": null,
      "outputs": [
        {
          "execution_count": 11,
          "output_type": "execute_result",
          "data": {
            "text/plain": "(100, int, 94553633627872, 100, int, 94553633627872, 100, int, 94553633627872)"
          },
          "metadata": {}
        }
      ]
    },
    {
      "cell_type": "code",
      "metadata": {
        "id": "ePN5xujznxn_",
        "outputId": "bf1eab97-b8ae-4de7-874c-54f738028054"
      },
      "source": [
        "x = 200\n",
        "z = 500\n",
        "x,type(x),id(x),y,type(y),id(y),z,type(z),id(z)"
      ],
      "id": "ePN5xujznxn_",
      "execution_count": null,
      "outputs": [
        {
          "execution_count": 12,
          "output_type": "execute_result",
          "data": {
            "text/plain": "(200, int, 94553633631072, 100, int, 94553633627872, 500, int, 140228736519888)"
          },
          "metadata": {}
        }
      ]
    },
    {
      "cell_type": "code",
      "metadata": {
        "id": "ZmGqAFXrnxoB",
        "outputId": "0de03dd6-31f1-4f08-d416-02469db832ce"
      },
      "source": [
        "x = 100\n",
        "x,type(x),id(x),y,type(y),id(y),z,type(z),id(z)"
      ],
      "id": "ZmGqAFXrnxoB",
      "execution_count": null,
      "outputs": [
        {
          "execution_count": 13,
          "output_type": "execute_result",
          "data": {
            "text/plain": "(100, int, 94553633627872, 100, int, 94553633627872, 500, int, 140228736519888)"
          },
          "metadata": {}
        }
      ]
    },
    {
      "cell_type": "code",
      "metadata": {
        "id": "ygLsGhZ8nxoE",
        "outputId": "bd621d61-f56a-457d-f928-5139c35abf4c"
      },
      "source": [
        "x = 1,2,3,4,5\n",
        "x,type(x),id(x)"
      ],
      "id": "ygLsGhZ8nxoE",
      "execution_count": null,
      "outputs": [
        {
          "execution_count": 15,
          "output_type": "execute_result",
          "data": {
            "text/plain": "((1, 2, 3, 4, 5), tuple, 140228509500528)"
          },
          "metadata": {}
        }
      ]
    },
    {
      "cell_type": "code",
      "metadata": {
        "id": "miWGsfR1nxoF",
        "outputId": "54090343-6cc9-41b6-9b90-12a7ffa44d62"
      },
      "source": [
        "x = [y for y in range(10)] #List comprehesion technique\n",
        "x"
      ],
      "id": "miWGsfR1nxoF",
      "execution_count": null,
      "outputs": [
        {
          "execution_count": 17,
          "output_type": "execute_result",
          "data": {
            "text/plain": "[0, 1, 2, 3, 4, 5, 6, 7, 8, 9]"
          },
          "metadata": {}
        }
      ]
    },
    {
      "cell_type": "code",
      "metadata": {
        "id": "m66Ivh1KnxoJ",
        "outputId": "ea8eb87e-28d4-415b-9b52-a4010e1db937"
      },
      "source": [
        "x,y,z = 10,20,30\n",
        "x,y,z"
      ],
      "id": "m66Ivh1KnxoJ",
      "execution_count": null,
      "outputs": [
        {
          "execution_count": 18,
          "output_type": "execute_result",
          "data": {
            "text/plain": "(10, 20, 30)"
          },
          "metadata": {}
        }
      ]
    },
    {
      "cell_type": "code",
      "metadata": {
        "id": "_24xTZC1nxoL",
        "outputId": "00e7d718-ff68-462a-e842-d3eab9358fdf"
      },
      "source": [
        "x,y,z = 10,20 "
      ],
      "id": "_24xTZC1nxoL",
      "execution_count": null,
      "outputs": [
        {
          "ename": "ValueError",
          "evalue": "not enough values to unpack (expected 3, got 2)",
          "output_type": "error",
          "traceback": [
            "\u001b[0;31m---------------------------------------------------------------------------\u001b[0m",
            "\u001b[0;31mValueError\u001b[0m                                Traceback (most recent call last)",
            "\u001b[0;32m<ipython-input-19-d3bfc1a57586>\u001b[0m in \u001b[0;36m<module>\u001b[0;34m\u001b[0m\n\u001b[0;32m----> 1\u001b[0;31m \u001b[0mx\u001b[0m\u001b[0;34m,\u001b[0m\u001b[0my\u001b[0m\u001b[0;34m,\u001b[0m\u001b[0mz\u001b[0m \u001b[0;34m=\u001b[0m \u001b[0;36m10\u001b[0m\u001b[0;34m,\u001b[0m\u001b[0;36m20\u001b[0m\u001b[0;34m\u001b[0m\u001b[0;34m\u001b[0m\u001b[0m\n\u001b[0m",
            "\u001b[0;31mValueError\u001b[0m: not enough values to unpack (expected 3, got 2)"
          ]
        }
      ]
    },
    {
      "cell_type": "code",
      "metadata": {
        "id": "DYWBd9pLnxoM"
      },
      "source": [
        "4. INput and Output operations:\n",
        "    1. Output:\n",
        "        1. To print output in python we use print()\n",
        "        2. By defualt print() will print each output in separate line [Carriage return: new line]\n",
        "        3. Syntax:\n",
        "            **NOte: if you want to know any syntax of predefined function(s),wecan use following syntax\n",
        "                    help(print)\n",
        "                    help: function / method\n",
        "                    print: perdefind methods\n",
        "    2. Input:\n",
        "        1. To read input value into the program we can use input()\n",
        "        2. If you want to prompt any message to user, you can do it by passing erquired string in input methods \n",
        "        3. The return value of input() is string, So to convert we need to perform typecasting operation\n",
        "            Typecasting:\n",
        "                To integer: int(input())\n",
        "                To float: float(input())\n",
        "                    TO String: str(number/something)\n",
        "                    Etc.\n",
        "        4. Types of taking input into the program:\n",
        "            1. Single value into single variable\n",
        "                Syntax: x = input()\n",
        "            2. Single value into multiple variables\n",
        "                Syntax: x=y=z = input()\n",
        "            3. Multiple values into single variable\n",
        "                1. Syntax: variableName = input().split()\n",
        "                    Note: All input values reads into the program in srting format, to convert into another type it is complex to do.\n",
        "                        [Must convert element by element]\n",
        "                2. Syntaxes:\n",
        "                    1. By using map:\n",
        "                        Syntax:\n",
        "                            variableName = map(destinationMethod,sourceOfinput)\n",
        "                    2. By using list comprehesion:\n",
        "                        Syntax:\n",
        "                            variableName = [destinationMethod(variable) for variable in sourceOfinput]\n",
        "            4. Multiple values into multiple variables\n",
        "                1. Syntax1: var1, var2, var3 = input(),input(),input()\n",
        "                2. Syntax2: var2, var2, var3 = input().split() [The data will be stored in srting format]\n",
        "                3. Syntax3: var1, var2, var3 = map(destinationMethod,sourceOfInput) #map method\n",
        "                4. Syntax4: var1, var2, var3 = [destinationMethod(var) for x in source] #List comprehesion"
      ],
      "id": "DYWBd9pLnxoM",
      "execution_count": null,
      "outputs": []
    },
    {
      "cell_type": "code",
      "metadata": {
        "id": "PIoe9r9onxoP",
        "outputId": "c0c33913-cdfd-4205-fb24-f26d0f697180"
      },
      "source": [
        "print(\"Welcome to Python Programming!\")\n",
        "print(\"Thank you for attending\")"
      ],
      "id": "PIoe9r9onxoP",
      "execution_count": null,
      "outputs": [
        {
          "name": "stdout",
          "output_type": "stream",
          "text": "Welcome to Python Programming!\nThank you for attending\n"
        }
      ]
    },
    {
      "cell_type": "code",
      "metadata": {
        "id": "2vLVv6ocnxoR",
        "outputId": "db7e5d9c-b8e7-42d9-e303-45c9477711d5"
      },
      "source": [
        "help(print)"
      ],
      "id": "2vLVv6ocnxoR",
      "execution_count": null,
      "outputs": [
        {
          "name": "stdout",
          "output_type": "stream",
          "text": "Help on built-in function print in module builtins:\n\nprint(...)\n    print(value, ..., sep=' ', end='\\n', file=sys.stdout, flush=False)\n    \n    Prints the values to a stream, or to sys.stdout by default.\n    Optional keyword arguments:\n    file:  a file-like object (stream); defaults to the current sys.stdout.\n    sep:   string inserted between values, default a space.\n    end:   string appended after the last value, default a newline.\n    flush: whether to forcibly flush the stream.\n\n"
        }
      ]
    },
    {
      "cell_type": "code",
      "metadata": {
        "id": "m1ExMrkynxoS",
        "outputId": "e7337a54-75f3-4ae4-f2ff-fe26bb884f81"
      },
      "source": [
        "x = input()\n",
        "y = input()\n",
        "print(x)"
      ],
      "id": "m1ExMrkynxoS",
      "execution_count": null,
      "outputs": [
        {
          "name": "stdin",
          "output_type": "stream",
          "text": " 45\n 96\n"
        },
        {
          "name": "stdout",
          "output_type": "stream",
          "text": "45\n"
        }
      ]
    },
    {
      "cell_type": "code",
      "metadata": {
        "id": "VxiUASg4nxoT",
        "outputId": "1a01b3f1-2900-4c82-b400-fecccd02fd3b"
      },
      "source": [
        "x = input(\"Enter x value:\")\n",
        "y = input(\"Enter y value:\")\n",
        "print(x,y)"
      ],
      "id": "VxiUASg4nxoT",
      "execution_count": null,
      "outputs": [
        {
          "name": "stdin",
          "output_type": "stream",
          "text": "Enter x value: 100\nEnter y value: 200\n"
        },
        {
          "name": "stdout",
          "output_type": "stream",
          "text": "100 200\n"
        }
      ]
    },
    {
      "cell_type": "code",
      "metadata": {
        "id": "h4bxAlLtnxoV",
        "outputId": "35aa539d-da4c-46a6-fd8d-d95a9d3d485d"
      },
      "source": [
        "x = input(\"Enter x value:\")\n",
        "y = input(\"Enter y value:\")\n",
        "print(type(x),type(y))\n",
        "print(x+y)"
      ],
      "id": "h4bxAlLtnxoV",
      "execution_count": null,
      "outputs": [
        {
          "name": "stdin",
          "output_type": "stream",
          "text": "Enter x value: 10\nEnter y value: 25\n"
        },
        {
          "name": "stdout",
          "output_type": "stream",
          "text": "<class 'str'> <class 'str'>\n1025\n"
        }
      ]
    },
    {
      "cell_type": "code",
      "metadata": {
        "id": "MIF29PGqnxoY",
        "outputId": "fdfb749b-65ad-4466-cdd3-079c0f037d34"
      },
      "source": [
        "x = int(input(\"Enter x value:\"))\n",
        "y = int(input(\"Enter y value:\"))\n",
        "print(type(x),type(y))\n",
        "print(x+y)"
      ],
      "id": "MIF29PGqnxoY",
      "execution_count": null,
      "outputs": [
        {
          "name": "stdin",
          "output_type": "stream",
          "text": "Enter x value: 452\nEnter y value: 65\n"
        },
        {
          "name": "stdout",
          "output_type": "stream",
          "text": "<class 'int'> <class 'int'>\n517\n"
        }
      ]
    },
    {
      "cell_type": "code",
      "metadata": {
        "id": "HTGmNO5InxoZ",
        "outputId": "b864b3d6-a248-482c-9dc5-a5f4584f9444"
      },
      "source": [
        "x=y=z = input(\"Enter a string:\")\n",
        "print(x,y,z)"
      ],
      "id": "HTGmNO5InxoZ",
      "execution_count": null,
      "outputs": [
        {
          "name": "stdin",
          "output_type": "stream",
          "text": "Enter a string: Jeevan\n"
        },
        {
          "name": "stdout",
          "output_type": "stream",
          "text": "Jeevan Jeevan Jeevan\n"
        }
      ]
    },
    {
      "cell_type": "code",
      "metadata": {
        "id": "nrv0IK-Fnxob",
        "outputId": "fa1738ae-8f80-450f-848a-f5ee28cd367c"
      },
      "source": [
        "x = input(\"Enter numbers\").split()\n",
        "print(x)"
      ],
      "id": "nrv0IK-Fnxob",
      "execution_count": null,
      "outputs": [
        {
          "name": "stdin",
          "output_type": "stream",
          "text": "Enter numbers 10 20 30 40 50\n"
        },
        {
          "name": "stdout",
          "output_type": "stream",
          "text": "['10', '20', '30', '40', '50']\n"
        }
      ]
    },
    {
      "cell_type": "code",
      "metadata": {
        "id": "VrBjSV0enxoc",
        "outputId": "13594d87-2dab-4d02-efda-ee3f8348ab93"
      },
      "source": [
        "x = map(int,input(\"Enter numbers\").split())\n",
        "print(x)\n",
        "print(list(x))"
      ],
      "id": "VrBjSV0enxoc",
      "execution_count": null,
      "outputs": [
        {
          "name": "stdin",
          "output_type": "stream",
          "text": "Enter numbers 10 20 30 40 50\n"
        },
        {
          "name": "stdout",
          "output_type": "stream",
          "text": "<map object at 0x7f897d155490>\n[10, 20, 30, 40, 50]\n"
        }
      ]
    },
    {
      "cell_type": "code",
      "metadata": {
        "id": "NUhgpWqXnxoc",
        "outputId": "fa459b59-7cbb-4922-ac9d-28c787dd225d"
      },
      "source": [
        "x = [int(y) for y in input(\"Enter numbers\").split()]\n",
        "print(x)"
      ],
      "id": "NUhgpWqXnxoc",
      "execution_count": null,
      "outputs": [
        {
          "name": "stdin",
          "output_type": "stream",
          "text": "Enter numbers 10 20 30 40 5 06 0\n"
        },
        {
          "name": "stdout",
          "output_type": "stream",
          "text": "[10, 20, 30, 40, 5, 6, 0]\n"
        }
      ]
    },
    {
      "cell_type": "code",
      "metadata": {
        "id": "dEhLeS5Znxoe",
        "outputId": "bcdb4557-5d9c-4348-c1fc-e91306443b35"
      },
      "source": [
        "x,y=input(),input()\n",
        "print(x,y)"
      ],
      "id": "dEhLeS5Znxoe",
      "execution_count": null,
      "outputs": [
        {
          "name": "stdin",
          "output_type": "stream",
          "text": " 10\n 20\n"
        },
        {
          "name": "stdout",
          "output_type": "stream",
          "text": "10 20\n"
        }
      ]
    },
    {
      "cell_type": "code",
      "metadata": {
        "id": "mrTrKH7Qnxof",
        "outputId": "150e50f6-9b76-4379-bb3c-618f29641e1c"
      },
      "source": [
        "x,y,z= input().split()\n",
        "print(x,y,z)\n",
        "print(type(x),type(y),type(z))"
      ],
      "id": "mrTrKH7Qnxof",
      "execution_count": null,
      "outputs": [
        {
          "name": "stdin",
          "output_type": "stream",
          "text": " 10 20 30\n"
        },
        {
          "name": "stdout",
          "output_type": "stream",
          "text": "10 20 30\n<class 'str'> <class 'str'> <class 'str'>\n"
        }
      ]
    },
    {
      "cell_type": "code",
      "metadata": {
        "id": "QReWukDCnxog",
        "outputId": "9603b370-b74f-4d02-a3b5-3cb93459279a"
      },
      "source": [
        "a,b,c = map(float,input(\"Enter floating-point data:\").split()) #Unpaking of data\n",
        "print(a,b,c)"
      ],
      "id": "QReWukDCnxog",
      "execution_count": null,
      "outputs": [
        {
          "name": "stdin",
          "output_type": "stream",
          "text": "Enter floating-point data: 10.25 6.36 9.65\n"
        },
        {
          "name": "stdout",
          "output_type": "stream",
          "text": "10.25 6.36 9.65\n"
        }
      ]
    },
    {
      "cell_type": "code",
      "metadata": {
        "id": "7TuDUE9Inxog",
        "outputId": "ea526b52-64f4-47b2-b2c0-b394953a466d"
      },
      "source": [
        "x,y,z = [complex(i) for i in input(\"Enter complex numbers:\").split()]\n",
        "print(x,y,z)"
      ],
      "id": "7TuDUE9Inxog",
      "execution_count": null,
      "outputs": [
        {
          "name": "stdin",
          "output_type": "stream",
          "text": "Enter complex numbers: 6+5j 5+8j 9+2j\n"
        },
        {
          "name": "stdout",
          "output_type": "stream",
          "text": "(6+5j) (5+8j) (9+2j)\n"
        }
      ]
    },
    {
      "cell_type": "code",
      "metadata": {
        "id": "BmfQECVVnxoh"
      },
      "source": [
        "5. Keywords of python programming language:\n",
        "    1. Def: REserved words of the programming languages\n",
        "    2. Each keyword is having a specific meaning\n",
        "    3. Is python helping you to know the keyswords in it?\n",
        "        Yes,\n",
        "    4. How to print the keywords which are available in python?\n",
        "        SYntax:\n",
        "            import keyword\n",
        "            print(keyword.kwlist)"
      ],
      "id": "BmfQECVVnxoh",
      "execution_count": null,
      "outputs": []
    },
    {
      "cell_type": "code",
      "metadata": {
        "id": "wGdc5Uncnxoi",
        "outputId": "8df34b03-13a7-4bf8-ddc1-a37247726546"
      },
      "source": [
        "import keyword\n",
        "print(keyword.kwlist)\n",
        "print(\"Total Kwywords in python:\",len(keyword.kwlist))"
      ],
      "id": "wGdc5Uncnxoi",
      "execution_count": null,
      "outputs": [
        {
          "name": "stdout",
          "output_type": "stream",
          "text": "['False', 'None', 'True', 'and', 'as', 'assert', 'async', 'await', 'break', 'class', 'continue', 'def', 'del', 'elif', 'else', 'except', 'finally', 'for', 'from', 'global', 'if', 'import', 'in', 'is', 'lambda', 'nonlocal', 'not', 'or', 'pass', 'raise', 'return', 'try', 'while', 'with', 'yield']\nTotal Kwywords in python: 35\n"
        }
      ]
    },
    {
      "cell_type": "code",
      "metadata": {
        "id": "U1JkNifFnxoj"
      },
      "source": [
        "6. Introduction about datatypes in python:\n",
        "    1. Numbers\n",
        "    2. Strings\n",
        "    3. List\n",
        "    4. Tuple\n",
        "    5. Set\n",
        "    6. Dictionary"
      ],
      "id": "U1JkNifFnxoj",
      "execution_count": null,
      "outputs": []
    },
    {
      "cell_type": "code",
      "metadata": {
        "id": "X3M_t-NInxoj"
      },
      "source": [
        "7. Operators which are supported in python:\n",
        "    1. Arithmetic operators\n",
        "    2. Relational operators\n",
        "    3. Logical operators\n",
        "    4. Bitwise operators\n",
        "    5. Assignment operators\n",
        "    6. Identiy operators\n",
        "    7. Membership operators"
      ],
      "id": "X3M_t-NInxoj",
      "execution_count": null,
      "outputs": []
    },
    {
      "cell_type": "code",
      "metadata": {
        "trusted": true,
        "id": "CnIjxv78nxok",
        "outputId": "bcaf071e-3a1e-40bd-8fc0-6f9df9bff104"
      },
      "source": [
        "'''\n",
        "    Arithmetic operators:\n",
        "        + : Addition\n",
        "        - : Subtraction\n",
        "        * : Multiplciation\n",
        "        / : Float division\n",
        "        //: Floor division [integer division]\n",
        "        % : Modulues [Remainder]\n",
        "        **: Exponantion [Power value]\n",
        "'''\n",
        "print(\"Addition: \",10+3)\n",
        "print(\"Subtraction: \",10-3)\n",
        "print(\"Multiplication: \",10*3)\n",
        "print(\"Float Division: \",10/3)\n",
        "print(\"Floor Division [integer]: \",10//3)\n",
        "print(\"Remainder: \",10%3)\n",
        "print(\"10 power 3: \",10**3)"
      ],
      "id": "CnIjxv78nxok",
      "execution_count": null,
      "outputs": [
        {
          "name": "stdout",
          "text": "Addition:  13\nSubtraction:  7\nMultiplication:  30\nFloat Division:  3.3333333333333335\nFloor Division [integer]:  3\nRemainder:  1\n10 power 3:  1000\n",
          "output_type": "stream"
        }
      ]
    },
    {
      "cell_type": "code",
      "metadata": {
        "trusted": true,
        "id": "C6KjHJaNnxol",
        "outputId": "1834497b-d355-48c4-b233-fa74440006a3"
      },
      "source": [
        "'''\n",
        "    2. Relational operators: To know the relation between two values / operands\n",
        "        <  : is lessthan\n",
        "        >  : is greaterthan\n",
        "        <= : is lessthan or equal\n",
        "        >= : is greaterthan or equal\n",
        "        == : is equal\n",
        "        != : is not equal\n",
        "    Note: REturn value will be boolean data\n",
        "'''\n",
        "print(10<20<2)\n",
        "print(10==10)"
      ],
      "id": "C6KjHJaNnxol",
      "execution_count": null,
      "outputs": [
        {
          "name": "stdout",
          "text": "False\nTrue\n",
          "output_type": "stream"
        }
      ]
    },
    {
      "cell_type": "code",
      "metadata": {
        "trusted": true,
        "id": "wCkQhBm3nxon",
        "outputId": "38fa99c2-9066-4fe0-ec3c-ca1374485614"
      },
      "source": [
        "'''\n",
        "    Logical Operators: Used to know the relation between more than two expressions\n",
        "        AND : logical AND : if two expression values are true then result will be true, Otherwise result will be false\n",
        "            Expression1   Expression2  Result\n",
        "                true         true        true\n",
        "                true         false       false\n",
        "                false        true        false\n",
        "                false        false       false\n",
        "        OR  : logical OR : If two expression value are false then result will be false, Otherwise true\n",
        "            Expression1   Expression2  Result\n",
        "                true         true        true\n",
        "                true         false       true\n",
        "                false        true        true\n",
        "                false        false       false\n",
        "        NOT : logical NOT [opposite of result]\n",
        "            not True => False\n",
        "            not False => True\n",
        "'''\n",
        "print(10<20 and 10<30)\n",
        "print(True and False)\n",
        "print(True and True)\n",
        "print(False and False)\n",
        "print(False and True)\n",
        "\n",
        "print(True or False)\n",
        "print(True or True)\n",
        "print(False or False)\n",
        "print(False or True)\n",
        "\n",
        "print(not 10)\n",
        "print(not False)"
      ],
      "id": "wCkQhBm3nxon",
      "execution_count": null,
      "outputs": [
        {
          "name": "stdout",
          "text": "True\nFalse\nTrue\nFalse\nFalse\nTrue\nTrue\nFalse\nTrue\nFalse\nTrue\n",
          "output_type": "stream"
        }
      ]
    },
    {
      "cell_type": "code",
      "metadata": {
        "id": "qwD5AZzrnxoo"
      },
      "source": [
        "'''\n",
        "    Bitwise Operators: Bitwise operators will be performed on bit values [1,0] of the numbers\n",
        "        & : bitwise AND\n",
        "            B1  B2  Re\n",
        "            1   1   1\n",
        "            1   0   0\n",
        "            0   1   0\n",
        "            0   0   0\n",
        "            Example:\n",
        "            121: 01111001\n",
        "            11 : 00001011\n",
        "            Res: 00001001 => 9\n",
        "            \n",
        "        | : bitwise OR\n",
        "            B1  B2  Re\n",
        "            1   1   1\n",
        "            1   0   1\n",
        "            0   1   1\n",
        "            0   0   0\n",
        "            Example:\n",
        "            121: 01111001\n",
        "            11 : 00001011\n",
        "            Res: 01111011 => 123\n",
        "            \n",
        "        ^ : Exclusive OR : if bits are oppsite together output will be 1, Otherwise 0\n",
        "            B1  B2  Re\n",
        "            1   1   0\n",
        "            1   0   1\n",
        "            0   1   1\n",
        "            0   0   0\n",
        "            Example:\n",
        "            121: 01111001\n",
        "            11 : 00001011\n",
        "            Res: 01110010 => 114\n",
        "        <<: left shift => It will move the bits towards left side\n",
        "            ShortCut:\n",
        "                result = inputNumber  * 2 power ShiftValue\n",
        "                Ex:\n",
        "                    10 << 2\n",
        "                        Result: 10 * 2 power 2 => 10 * 4 = 40 \n",
        "        >>: Right shigt -> It will move bits towards right side\n",
        "            ShortCut:\n",
        "                result = inputNumber // 2 power shiftValue\n",
        "                Ex:\n",
        "                    100 >> 3 => 100 // 2 Power 3 = 100//8 = 12\n",
        "        ~ : 1's complement data\n",
        "            Shortcut:\n",
        "                Result : -((-ve/+ve)+1)\n",
        "                Ex1: ~10 => -((10)+1) = -(11) = -11\n",
        "                Ex2: ~-58 => -(-58+1) = -(-57) = 57\n",
        "    \n",
        "'''"
      ],
      "id": "qwD5AZzrnxoo",
      "execution_count": null,
      "outputs": []
    },
    {
      "cell_type": "code",
      "metadata": {
        "trusted": true,
        "id": "Ty8K_T_snxor",
        "outputId": "153f0ed4-331a-448c-c015-84979a88ba1d"
      },
      "source": [
        "print(121 & 11)\n",
        "print(121 | 11)\n",
        "print(121 ^ 11)\n",
        "print(10<<2)\n",
        "print(100>>3)\n",
        "print(~10)\n",
        "print(~-58)"
      ],
      "id": "Ty8K_T_snxor",
      "execution_count": null,
      "outputs": [
        {
          "name": "stdout",
          "text": "9\n123\n114\n40\n12\n-11\n57\n",
          "output_type": "stream"
        }
      ]
    },
    {
      "cell_type": "code",
      "metadata": {
        "trusted": true,
        "id": "5vJd4A82nxox",
        "outputId": "04e71676-fed2-4bac-f249-e8649ae4885a"
      },
      "source": [
        "'''\n",
        "    Identity operators: [Comparison of objects]\n",
        "        is \n",
        "        is not\n",
        "    Membership operators: [Used to check with collections]\n",
        "        in\n",
        "        not in\n",
        "    NOte: These two operators are works based on id valuse of the input\n",
        "'''\n",
        "print(10 is 10)\n",
        "print(id(10))\n",
        "print(10 is 10.0)\n",
        "print(id(10), id(10.0))\n",
        "print(10 == 10.0)"
      ],
      "id": "5vJd4A82nxox",
      "execution_count": null,
      "outputs": [
        {
          "name": "stdout",
          "text": "True\n94553633624992\nFalse\n94553633624992 140228500299888\nTrue\n",
          "output_type": "stream"
        }
      ]
    },
    {
      "cell_type": "code",
      "metadata": {
        "trusted": true,
        "id": "XKIjJ5J_nxoy",
        "outputId": "1c6b47db-8ed8-49f1-d14c-18289dcb5e6e"
      },
      "source": [
        "print('a' in \"Jeevan\")    \n",
        "print('a' not in \"Jeevan\")  "
      ],
      "id": "XKIjJ5J_nxoy",
      "execution_count": null,
      "outputs": [
        {
          "name": "stdout",
          "text": "True\nFalse\n",
          "output_type": "stream"
        }
      ]
    },
    {
      "cell_type": "code",
      "metadata": {
        "trusted": true,
        "id": "1L1kBtuvnxoy",
        "outputId": "2b71e722-ac09-4c0b-aeb5-55cfec26a486"
      },
      "source": [
        "'''\n",
        "    Assignment Operators:\n",
        "        NOte: Only one assignment operator is available in any of the programming languages, but with the combination of other operators\n",
        "        we can form assignment operators also, this will be known as shorthand operators\n",
        "        \n",
        "        = => Will be used to assign rightSideValue into leftSideVariable\n",
        "        +=,-=,*=,/=,//=,%=,**=\n",
        "            +=\n",
        "            x += y\n",
        "            x = x + y\n",
        "        &=,|=, ^=, <<=, >>=, ~=\n",
        "        15 & 10\n",
        "        1111\n",
        "        1010\n",
        "        1010 => Result\n",
        "'''\n",
        "x = 100\n",
        "x += 150\n",
        "print(x)\n",
        "\n",
        "x = 15\n",
        "x &= 10\n",
        "print(x)"
      ],
      "id": "1L1kBtuvnxoy",
      "execution_count": null,
      "outputs": [
        {
          "name": "stdout",
          "text": "250\n10\n",
          "output_type": "stream"
        }
      ]
    },
    {
      "cell_type": "code",
      "metadata": {
        "id": "oFVVeaU7nxoz"
      },
      "source": [
        "8. Control structures used in python programming:\n",
        "    1. The statements which can control the flow of execution is known as constrol structures, They are following categories:\n",
        "        1. Conditional statements: if [simple if, if else, elif statements, nested if blocks]\n",
        "                **Note: There is no switch statement available in python\n",
        "        2. Iterative Statements: while, for, while else, for else\n",
        "                **Note: There is no do.. while loop in python\n",
        "        3. Jumping Statements: break, continue, pass, return[Functions]"
      ],
      "id": "oFVVeaU7nxoz",
      "execution_count": null,
      "outputs": []
    },
    {
      "cell_type": "code",
      "metadata": {
        "trusted": true,
        "id": "Gay4D28Lnxo0",
        "outputId": "24b0cd86-65d8-4744-f7a7-5d281714e8c0"
      },
      "source": [
        "'''\n",
        "    Simple if statement: One-way branching\n",
        "        Syntax:\n",
        "            if expression:\n",
        "                -statements\n",
        "        Note: If expression value is true then only the statements which are under if block will be executed\n",
        "'''\n",
        "#Print a number if it is negative\n",
        "number = int(input(\"Enter a number:\"))\n",
        "if number < 0:\n",
        "    print(number,\"is negative\")\n",
        "    print(\"Thank you!\")\n",
        "print(\"Try again\")"
      ],
      "id": "Gay4D28Lnxo0",
      "execution_count": null,
      "outputs": [
        {
          "output_type": "stream",
          "name": "stdin",
          "text": "Enter a number: -98\n"
        },
        {
          "name": "stdout",
          "text": "-98 is negative\nThank you!\nTry again\n",
          "output_type": "stream"
        }
      ]
    },
    {
      "cell_type": "code",
      "metadata": {
        "trusted": true,
        "id": "s0A8bhS8nxo0",
        "outputId": "99e323f5-7b52-420c-c95d-b62af1f9abd7"
      },
      "source": [
        "'''\n",
        "    if else statement: Two-way branching\n",
        "        Syntax:\n",
        "            if expression:\n",
        "                statements1\n",
        "            else:\n",
        "                statements2\n",
        "        Note: If expression value is true then statements1 will be executed, Otherwise statements2 will be executed\n",
        "'''\n",
        "#Identify given number is positive or negative\n",
        "number = int(input(\"Enter a number:\"))\n",
        "if number > 0:\n",
        "    print(number,\"is positive\")\n",
        "else:\n",
        "    print(number,\"is negative\")\n",
        "print(\"Thank You!\")"
      ],
      "id": "s0A8bhS8nxo0",
      "execution_count": null,
      "outputs": [
        {
          "output_type": "stream",
          "name": "stdin",
          "text": "Enter a number: 15\n"
        },
        {
          "name": "stdout",
          "text": "15 is positive\nThank You!\n",
          "output_type": "stream"
        }
      ]
    },
    {
      "cell_type": "code",
      "metadata": {
        "trusted": true,
        "id": "qGtVCQNYnxo1",
        "outputId": "ab2449e7-1522-4cf3-ce7a-36b5900df236"
      },
      "source": [
        "#Identify given number is positive or negative\n",
        "number = int(input(\"Enter a number:\"))\n",
        "if number > 0:\n",
        "    print(number,\"is positive\")\n",
        "else:\n",
        "    print(number,\"is negative\")\n",
        "print(\"Thank You!\")"
      ],
      "id": "qGtVCQNYnxo1",
      "execution_count": null,
      "outputs": [
        {
          "output_type": "stream",
          "name": "stdin",
          "text": "Enter a number: -89\n"
        },
        {
          "name": "stdout",
          "text": "-89 is negative\nThank You!\n",
          "output_type": "stream"
        }
      ]
    },
    {
      "cell_type": "code",
      "metadata": {
        "id": "22MJy5V4nxo2"
      },
      "source": [
        "Do we have conditional operator (?:) in python?\n",
        "    ***No\n",
        "\n",
        "Can you write the structure of conditional operator in python?\n",
        "    ***Yes\n",
        "\n",
        "How?\n",
        "    By using if else statement"
      ],
      "id": "22MJy5V4nxo2",
      "execution_count": null,
      "outputs": []
    },
    {
      "cell_type": "code",
      "metadata": {
        "trusted": true,
        "id": "Ryf1uDq0nxo2",
        "outputId": "03c90b13-bd60-4820-ef4f-068cf9fd6696"
      },
      "source": [
        "number = int(input(\"Enter a number:\"))\n",
        "print(number,\"is positive\") if number>0 else print(number,\"is negative\")"
      ],
      "id": "Ryf1uDq0nxo2",
      "execution_count": null,
      "outputs": [
        {
          "output_type": "stream",
          "name": "stdin",
          "text": "Enter a number: 852\n"
        },
        {
          "name": "stdout",
          "text": "852 is positive\n",
          "output_type": "stream"
        }
      ]
    },
    {
      "cell_type": "code",
      "metadata": {
        "trusted": true,
        "id": "FOVRaYmQnxo3",
        "outputId": "3d1bd035-fdb6-4ecf-ad52-11f9614c5037"
      },
      "source": [
        "'''\n",
        "    elif statements: Multi-way branching\n",
        "        Syntax:\n",
        "            if exression1:\n",
        "                statements1\n",
        "            elif expression2:\n",
        "                statements2\n",
        "            elif expression3:\n",
        "                statements3\n",
        "            .\n",
        "            .\n",
        "            .\n",
        "            else:\n",
        "                statements\n",
        "        Note: if expression1 is true, statements1 will be executed or expression2 is true, statements2 will be executed, and go on,\n",
        "        if none of the expressions are executed finally else block will be executed\n",
        "'''\n",
        "number = int(input(\"Enter any number:\"))\n",
        "if number > 0:\n",
        "    print(number,\"is positive\")\n",
        "elif number < 0:\n",
        "    print(number,\"is negative\")\n",
        "else:\n",
        "    print(number,\"is zero\")"
      ],
      "id": "FOVRaYmQnxo3",
      "execution_count": null,
      "outputs": [
        {
          "output_type": "stream",
          "name": "stdin",
          "text": "Enter any number: 15\n"
        },
        {
          "name": "stdout",
          "text": "15 is positive\n",
          "output_type": "stream"
        }
      ]
    },
    {
      "cell_type": "code",
      "metadata": {
        "trusted": true,
        "id": "IAMCwyosnxo3",
        "outputId": "53df5455-ab13-4d7c-9687-c0bfabbd18b1"
      },
      "source": [
        "number = int(input(\"Enter any number:\"))\n",
        "if number > 0:\n",
        "    print(number,\"is positive\")\n",
        "elif number < 0:\n",
        "    print(number,\"is negative\")\n",
        "elif number < 0:\n",
        "    print(number,\"is negative\")\n",
        "elif number < 0:\n",
        "    print(number,\"is negative\")\n",
        "else:\n",
        "    print(number,\"is zero\")"
      ],
      "id": "IAMCwyosnxo3",
      "execution_count": null,
      "outputs": [
        {
          "output_type": "stream",
          "name": "stdin",
          "text": "Enter any number: -15\n"
        },
        {
          "name": "stdout",
          "text": "-15 is negative\n",
          "output_type": "stream"
        }
      ]
    },
    {
      "cell_type": "code",
      "metadata": {
        "trusted": true,
        "id": "uus6yz9jnxo4",
        "outputId": "24055227-5799-4538-dae4-eee88813f680"
      },
      "source": [
        "number = int(input(\"Enter any number:\"))\n",
        "if number > 0:\n",
        "    print(number,\"is positive\")\n",
        "elif number < 0:\n",
        "    print(number,\"is negative\")\n",
        "else:\n",
        "    print(number,\"is zero\")"
      ],
      "id": "uus6yz9jnxo4",
      "execution_count": null,
      "outputs": [
        {
          "output_type": "stream",
          "name": "stdin",
          "text": "Enter any number: 0\n"
        },
        {
          "name": "stdout",
          "text": "0 is zero\n",
          "output_type": "stream"
        }
      ]
    },
    {
      "cell_type": "code",
      "metadata": {
        "trusted": true,
        "id": "nBOriekHnxo4",
        "outputId": "41962dcb-fd78-4735-c902-ea05264bee3e"
      },
      "source": [
        "'''\n",
        "    Nested if: Placing one if within another if is known as nested if\n",
        "    NOte: Syntax will be changed based on requirement\n",
        "'''\n",
        "#idntify the given number is divided by 4,5 or 4 or 5\n",
        "number = int(input(\"Enter a number:\"))\n",
        "if number%4==0:\n",
        "    if number%5==0:\n",
        "        print(number,\"can be divided by 4 and 5\")\n",
        "    else:\n",
        "        print(number,\"can be divided by only 4\")\n",
        "else:\n",
        "    if number%5==0:\n",
        "        print(number,\"can be divided by only 5\")\n",
        "    else:\n",
        "        print(number,\"cannot divided by 4 or 5\")"
      ],
      "id": "nBOriekHnxo4",
      "execution_count": null,
      "outputs": [
        {
          "output_type": "stream",
          "name": "stdin",
          "text": "Enter a number: 23\n"
        },
        {
          "name": "stdout",
          "text": "23 cannot divided by 4 or 5\n",
          "output_type": "stream"
        }
      ]
    },
    {
      "cell_type": "code",
      "metadata": {
        "id": "BbEFPa_Ynxo4"
      },
      "source": [
        ""
      ],
      "id": "BbEFPa_Ynxo4",
      "execution_count": null,
      "outputs": []
    }
  ]
}